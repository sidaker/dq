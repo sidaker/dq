{
 "cells": [
  {
   "cell_type": "markdown",
   "metadata": {},
   "source": [
    "# Sparkify Project Workspace\n",
    "This workspace contains a tiny subset (128MB) of the full dataset available (12GB). Feel free to use this workspace to build your project, or to explore a smaller subset with Spark before deploying your cluster on the cloud. Instructions for setting up your Spark cluster is included in the last lesson of the Extracurricular Spark Course content.\n",
    "\n",
    "You can follow the steps below to guide your data analysis and model building portion of this project."
   ]
  },
  {
   "cell_type": "code",
   "execution_count": 2,
   "metadata": {},
   "outputs": [],
   "source": [
    "# import libraries\n",
    "from pyspark.sql import SparkSession, Window\n",
    "from pyspark.sql.functions import avg, stddev, split, udf, isnull, first, col, format_number, rand, min, max, desc, concat, explode\n",
    "from pyspark.sql.functions import min as fmin\n",
    "from pyspark.sql.functions import max as fmax\n",
    "from pyspark.sql.types import IntegerType, FloatType\n",
    "\n",
    "from pyspark.ml import Pipeline\n",
    "from pyspark.ml.classification import LogisticRegression, DecisionTreeClassifier,RandomForestClassifier, LinearSVC, GBTClassifier, NaiveBayes\n",
    "from pyspark.ml.feature import CountVectorizer, IDF, Normalizer, PCA, RegexTokenizer, StandardScaler, StopWordsRemover, StringIndexer, VectorAssembler\n",
    "from pyspark.ml.evaluation import MulticlassClassificationEvaluator\n",
    "from pyspark.mllib.evaluation import MulticlassMetrics\n",
    "from pyspark.ml.tuning import CrossValidator, ParamGridBuilder\n"
   ]
  },
  {
   "cell_type": "code",
   "execution_count": 3,
   "metadata": {},
   "outputs": [],
   "source": [
    "from pyspark.sql.functions import col, trim, lower"
   ]
  },
  {
   "cell_type": "code",
   "execution_count": 4,
   "metadata": {},
   "outputs": [],
   "source": [
    "import re\n",
    "import copy\n",
    "import time\n",
    "import datetime\n",
    "import numpy as np\n",
    "import pandas as pd\n",
    "import seaborn as sns\n",
    "import matplotlib.pyplot as plt\n",
    "from statsmodels.stats.proportion import proportions_ztest\n",
    "\n",
    "%matplotlib inline"
   ]
  },
  {
   "cell_type": "code",
   "execution_count": 5,
   "metadata": {},
   "outputs": [
    {
     "name": "stdout",
     "output_type": "stream",
     "text": [
      "Welcome to\n",
      "      ____              __\n",
      "     / __/__  ___ _____/ /__\n",
      "    _\\ \\/ _ \\/ _ `/ __/  '_/\n",
      "   /___/ .__/\\_,_/_/ /_/\\_\\   version 2.4.3\n",
      "      /_/\n",
      "                        \n",
      "Using Scala version 2.11.12, OpenJDK 64-Bit Server VM, 1.8.0_265\n",
      "Branch \n",
      "Compiled by user  on 2019-05-01T05:08:38Z\n",
      "Revision \n",
      "Url \n",
      "Type --help for more information.\n"
     ]
    }
   ],
   "source": [
    "! spark-shell --version"
   ]
  },
  {
   "cell_type": "code",
   "execution_count": 6,
   "metadata": {},
   "outputs": [],
   "source": [
    "#set seaborn style\n",
    "sns.set(style=\"whitegrid\")"
   ]
  },
  {
   "cell_type": "code",
   "execution_count": 7,
   "metadata": {},
   "outputs": [],
   "source": [
    "# create a Spark session\n",
    "spark = SparkSession.builder.appName('Sparkify_local').getOrCreate()"
   ]
  },
  {
   "cell_type": "markdown",
   "metadata": {},
   "source": [
    "# Load and Clean Dataset\n",
    "In this workspace, the mini-dataset file is `mini_sparkify_event_data.json`. Load and clean the dataset, checking for invalid or missing data - for example, records without userids or sessionids. "
   ]
  },
  {
   "cell_type": "code",
   "execution_count": 8,
   "metadata": {},
   "outputs": [],
   "source": [
    "df = spark.read.json('mini_sparkify_event_data.json')"
   ]
  },
  {
   "cell_type": "code",
   "execution_count": 9,
   "metadata": {},
   "outputs": [
    {
     "data": {
      "text/html": [
       "<div>\n",
       "<style scoped>\n",
       "    .dataframe tbody tr th:only-of-type {\n",
       "        vertical-align: middle;\n",
       "    }\n",
       "\n",
       "    .dataframe tbody tr th {\n",
       "        vertical-align: top;\n",
       "    }\n",
       "\n",
       "    .dataframe thead th {\n",
       "        text-align: right;\n",
       "    }\n",
       "</style>\n",
       "<table border=\"1\" class=\"dataframe\">\n",
       "  <thead>\n",
       "    <tr style=\"text-align: right;\">\n",
       "      <th></th>\n",
       "      <th>artist</th>\n",
       "      <th>auth</th>\n",
       "      <th>firstName</th>\n",
       "      <th>gender</th>\n",
       "      <th>itemInSession</th>\n",
       "      <th>lastName</th>\n",
       "      <th>length</th>\n",
       "      <th>level</th>\n",
       "      <th>location</th>\n",
       "      <th>method</th>\n",
       "      <th>page</th>\n",
       "      <th>registration</th>\n",
       "      <th>sessionId</th>\n",
       "      <th>song</th>\n",
       "      <th>status</th>\n",
       "      <th>ts</th>\n",
       "      <th>userAgent</th>\n",
       "      <th>userId</th>\n",
       "    </tr>\n",
       "  </thead>\n",
       "  <tbody>\n",
       "    <tr>\n",
       "      <th>0</th>\n",
       "      <td>Martha Tilston</td>\n",
       "      <td>Logged In</td>\n",
       "      <td>Colin</td>\n",
       "      <td>M</td>\n",
       "      <td>50</td>\n",
       "      <td>Freeman</td>\n",
       "      <td>277.89016</td>\n",
       "      <td>paid</td>\n",
       "      <td>Bakersfield, CA</td>\n",
       "      <td>PUT</td>\n",
       "      <td>NextSong</td>\n",
       "      <td>1538173362000</td>\n",
       "      <td>29</td>\n",
       "      <td>Rockpools</td>\n",
       "      <td>200</td>\n",
       "      <td>1538352117000</td>\n",
       "      <td>Mozilla/5.0 (Windows NT 6.1; WOW64; rv:31.0) G...</td>\n",
       "      <td>30</td>\n",
       "    </tr>\n",
       "    <tr>\n",
       "      <th>1</th>\n",
       "      <td>Five Iron Frenzy</td>\n",
       "      <td>Logged In</td>\n",
       "      <td>Micah</td>\n",
       "      <td>M</td>\n",
       "      <td>79</td>\n",
       "      <td>Long</td>\n",
       "      <td>236.09424</td>\n",
       "      <td>free</td>\n",
       "      <td>Boston-Cambridge-Newton, MA-NH</td>\n",
       "      <td>PUT</td>\n",
       "      <td>NextSong</td>\n",
       "      <td>1538331630000</td>\n",
       "      <td>8</td>\n",
       "      <td>Canada</td>\n",
       "      <td>200</td>\n",
       "      <td>1538352180000</td>\n",
       "      <td>\"Mozilla/5.0 (Windows NT 6.1; WOW64) AppleWebK...</td>\n",
       "      <td>9</td>\n",
       "    </tr>\n",
       "    <tr>\n",
       "      <th>2</th>\n",
       "      <td>Adam Lambert</td>\n",
       "      <td>Logged In</td>\n",
       "      <td>Colin</td>\n",
       "      <td>M</td>\n",
       "      <td>51</td>\n",
       "      <td>Freeman</td>\n",
       "      <td>282.82730</td>\n",
       "      <td>paid</td>\n",
       "      <td>Bakersfield, CA</td>\n",
       "      <td>PUT</td>\n",
       "      <td>NextSong</td>\n",
       "      <td>1538173362000</td>\n",
       "      <td>29</td>\n",
       "      <td>Time For Miracles</td>\n",
       "      <td>200</td>\n",
       "      <td>1538352394000</td>\n",
       "      <td>Mozilla/5.0 (Windows NT 6.1; WOW64; rv:31.0) G...</td>\n",
       "      <td>30</td>\n",
       "    </tr>\n",
       "    <tr>\n",
       "      <th>3</th>\n",
       "      <td>Enigma</td>\n",
       "      <td>Logged In</td>\n",
       "      <td>Micah</td>\n",
       "      <td>M</td>\n",
       "      <td>80</td>\n",
       "      <td>Long</td>\n",
       "      <td>262.71302</td>\n",
       "      <td>free</td>\n",
       "      <td>Boston-Cambridge-Newton, MA-NH</td>\n",
       "      <td>PUT</td>\n",
       "      <td>NextSong</td>\n",
       "      <td>1538331630000</td>\n",
       "      <td>8</td>\n",
       "      <td>Knocking On Forbidden Doors</td>\n",
       "      <td>200</td>\n",
       "      <td>1538352416000</td>\n",
       "      <td>\"Mozilla/5.0 (Windows NT 6.1; WOW64) AppleWebK...</td>\n",
       "      <td>9</td>\n",
       "    </tr>\n",
       "    <tr>\n",
       "      <th>4</th>\n",
       "      <td>Daft Punk</td>\n",
       "      <td>Logged In</td>\n",
       "      <td>Colin</td>\n",
       "      <td>M</td>\n",
       "      <td>52</td>\n",
       "      <td>Freeman</td>\n",
       "      <td>223.60771</td>\n",
       "      <td>paid</td>\n",
       "      <td>Bakersfield, CA</td>\n",
       "      <td>PUT</td>\n",
       "      <td>NextSong</td>\n",
       "      <td>1538173362000</td>\n",
       "      <td>29</td>\n",
       "      <td>Harder Better Faster Stronger</td>\n",
       "      <td>200</td>\n",
       "      <td>1538352676000</td>\n",
       "      <td>Mozilla/5.0 (Windows NT 6.1; WOW64; rv:31.0) G...</td>\n",
       "      <td>30</td>\n",
       "    </tr>\n",
       "    <tr>\n",
       "      <th>5</th>\n",
       "      <td>The All-American Rejects</td>\n",
       "      <td>Logged In</td>\n",
       "      <td>Micah</td>\n",
       "      <td>M</td>\n",
       "      <td>81</td>\n",
       "      <td>Long</td>\n",
       "      <td>208.29995</td>\n",
       "      <td>free</td>\n",
       "      <td>Boston-Cambridge-Newton, MA-NH</td>\n",
       "      <td>PUT</td>\n",
       "      <td>NextSong</td>\n",
       "      <td>1538331630000</td>\n",
       "      <td>8</td>\n",
       "      <td>Don't Leave Me</td>\n",
       "      <td>200</td>\n",
       "      <td>1538352678000</td>\n",
       "      <td>\"Mozilla/5.0 (Windows NT 6.1; WOW64) AppleWebK...</td>\n",
       "      <td>9</td>\n",
       "    </tr>\n",
       "    <tr>\n",
       "      <th>6</th>\n",
       "      <td>The Velvet Underground / Nico</td>\n",
       "      <td>Logged In</td>\n",
       "      <td>Micah</td>\n",
       "      <td>M</td>\n",
       "      <td>82</td>\n",
       "      <td>Long</td>\n",
       "      <td>260.46649</td>\n",
       "      <td>free</td>\n",
       "      <td>Boston-Cambridge-Newton, MA-NH</td>\n",
       "      <td>PUT</td>\n",
       "      <td>NextSong</td>\n",
       "      <td>1538331630000</td>\n",
       "      <td>8</td>\n",
       "      <td>Run Run Run</td>\n",
       "      <td>200</td>\n",
       "      <td>1538352886000</td>\n",
       "      <td>\"Mozilla/5.0 (Windows NT 6.1; WOW64) AppleWebK...</td>\n",
       "      <td>9</td>\n",
       "    </tr>\n",
       "    <tr>\n",
       "      <th>7</th>\n",
       "      <td>Starflyer 59</td>\n",
       "      <td>Logged In</td>\n",
       "      <td>Colin</td>\n",
       "      <td>M</td>\n",
       "      <td>53</td>\n",
       "      <td>Freeman</td>\n",
       "      <td>185.44281</td>\n",
       "      <td>paid</td>\n",
       "      <td>Bakersfield, CA</td>\n",
       "      <td>PUT</td>\n",
       "      <td>NextSong</td>\n",
       "      <td>1538173362000</td>\n",
       "      <td>29</td>\n",
       "      <td>Passengers (Old Album Version)</td>\n",
       "      <td>200</td>\n",
       "      <td>1538352899000</td>\n",
       "      <td>Mozilla/5.0 (Windows NT 6.1; WOW64; rv:31.0) G...</td>\n",
       "      <td>30</td>\n",
       "    </tr>\n",
       "    <tr>\n",
       "      <th>8</th>\n",
       "      <td>None</td>\n",
       "      <td>Logged In</td>\n",
       "      <td>Colin</td>\n",
       "      <td>M</td>\n",
       "      <td>54</td>\n",
       "      <td>Freeman</td>\n",
       "      <td>NaN</td>\n",
       "      <td>paid</td>\n",
       "      <td>Bakersfield, CA</td>\n",
       "      <td>PUT</td>\n",
       "      <td>Add to Playlist</td>\n",
       "      <td>1538173362000</td>\n",
       "      <td>29</td>\n",
       "      <td>None</td>\n",
       "      <td>200</td>\n",
       "      <td>1538352905000</td>\n",
       "      <td>Mozilla/5.0 (Windows NT 6.1; WOW64; rv:31.0) G...</td>\n",
       "      <td>30</td>\n",
       "    </tr>\n",
       "    <tr>\n",
       "      <th>9</th>\n",
       "      <td>Frumpies</td>\n",
       "      <td>Logged In</td>\n",
       "      <td>Colin</td>\n",
       "      <td>M</td>\n",
       "      <td>55</td>\n",
       "      <td>Freeman</td>\n",
       "      <td>134.47791</td>\n",
       "      <td>paid</td>\n",
       "      <td>Bakersfield, CA</td>\n",
       "      <td>PUT</td>\n",
       "      <td>NextSong</td>\n",
       "      <td>1538173362000</td>\n",
       "      <td>29</td>\n",
       "      <td>Fuck Kitty</td>\n",
       "      <td>200</td>\n",
       "      <td>1538353084000</td>\n",
       "      <td>Mozilla/5.0 (Windows NT 6.1; WOW64; rv:31.0) G...</td>\n",
       "      <td>30</td>\n",
       "    </tr>\n",
       "  </tbody>\n",
       "</table>\n",
       "</div>"
      ],
      "text/plain": [
       "                          artist       auth firstName gender  itemInSession  \\\n",
       "0                 Martha Tilston  Logged In     Colin      M             50   \n",
       "1               Five Iron Frenzy  Logged In     Micah      M             79   \n",
       "2                   Adam Lambert  Logged In     Colin      M             51   \n",
       "3                         Enigma  Logged In     Micah      M             80   \n",
       "4                      Daft Punk  Logged In     Colin      M             52   \n",
       "5       The All-American Rejects  Logged In     Micah      M             81   \n",
       "6  The Velvet Underground / Nico  Logged In     Micah      M             82   \n",
       "7                   Starflyer 59  Logged In     Colin      M             53   \n",
       "8                           None  Logged In     Colin      M             54   \n",
       "9                       Frumpies  Logged In     Colin      M             55   \n",
       "\n",
       "  lastName     length level                        location method  \\\n",
       "0  Freeman  277.89016  paid                 Bakersfield, CA    PUT   \n",
       "1     Long  236.09424  free  Boston-Cambridge-Newton, MA-NH    PUT   \n",
       "2  Freeman  282.82730  paid                 Bakersfield, CA    PUT   \n",
       "3     Long  262.71302  free  Boston-Cambridge-Newton, MA-NH    PUT   \n",
       "4  Freeman  223.60771  paid                 Bakersfield, CA    PUT   \n",
       "5     Long  208.29995  free  Boston-Cambridge-Newton, MA-NH    PUT   \n",
       "6     Long  260.46649  free  Boston-Cambridge-Newton, MA-NH    PUT   \n",
       "7  Freeman  185.44281  paid                 Bakersfield, CA    PUT   \n",
       "8  Freeman        NaN  paid                 Bakersfield, CA    PUT   \n",
       "9  Freeman  134.47791  paid                 Bakersfield, CA    PUT   \n",
       "\n",
       "              page   registration  sessionId                            song  \\\n",
       "0         NextSong  1538173362000         29                       Rockpools   \n",
       "1         NextSong  1538331630000          8                          Canada   \n",
       "2         NextSong  1538173362000         29               Time For Miracles   \n",
       "3         NextSong  1538331630000          8     Knocking On Forbidden Doors   \n",
       "4         NextSong  1538173362000         29   Harder Better Faster Stronger   \n",
       "5         NextSong  1538331630000          8                  Don't Leave Me   \n",
       "6         NextSong  1538331630000          8                     Run Run Run   \n",
       "7         NextSong  1538173362000         29  Passengers (Old Album Version)   \n",
       "8  Add to Playlist  1538173362000         29                            None   \n",
       "9         NextSong  1538173362000         29                      Fuck Kitty   \n",
       "\n",
       "   status             ts                                          userAgent  \\\n",
       "0     200  1538352117000  Mozilla/5.0 (Windows NT 6.1; WOW64; rv:31.0) G...   \n",
       "1     200  1538352180000  \"Mozilla/5.0 (Windows NT 6.1; WOW64) AppleWebK...   \n",
       "2     200  1538352394000  Mozilla/5.0 (Windows NT 6.1; WOW64; rv:31.0) G...   \n",
       "3     200  1538352416000  \"Mozilla/5.0 (Windows NT 6.1; WOW64) AppleWebK...   \n",
       "4     200  1538352676000  Mozilla/5.0 (Windows NT 6.1; WOW64; rv:31.0) G...   \n",
       "5     200  1538352678000  \"Mozilla/5.0 (Windows NT 6.1; WOW64) AppleWebK...   \n",
       "6     200  1538352886000  \"Mozilla/5.0 (Windows NT 6.1; WOW64) AppleWebK...   \n",
       "7     200  1538352899000  Mozilla/5.0 (Windows NT 6.1; WOW64; rv:31.0) G...   \n",
       "8     200  1538352905000  Mozilla/5.0 (Windows NT 6.1; WOW64; rv:31.0) G...   \n",
       "9     200  1538353084000  Mozilla/5.0 (Windows NT 6.1; WOW64; rv:31.0) G...   \n",
       "\n",
       "  userId  \n",
       "0     30  \n",
       "1      9  \n",
       "2     30  \n",
       "3      9  \n",
       "4     30  \n",
       "5      9  \n",
       "6      9  \n",
       "7     30  \n",
       "8     30  \n",
       "9     30  "
      ]
     },
     "execution_count": 9,
     "metadata": {},
     "output_type": "execute_result"
    }
   ],
   "source": [
    "df.limit(10).toPandas()"
   ]
  },
  {
   "cell_type": "code",
   "execution_count": 10,
   "metadata": {},
   "outputs": [
    {
     "name": "stdout",
     "output_type": "stream",
     "text": [
      "root\n",
      " |-- artist: string (nullable = true)\n",
      " |-- auth: string (nullable = true)\n",
      " |-- firstName: string (nullable = true)\n",
      " |-- gender: string (nullable = true)\n",
      " |-- itemInSession: long (nullable = true)\n",
      " |-- lastName: string (nullable = true)\n",
      " |-- length: double (nullable = true)\n",
      " |-- level: string (nullable = true)\n",
      " |-- location: string (nullable = true)\n",
      " |-- method: string (nullable = true)\n",
      " |-- page: string (nullable = true)\n",
      " |-- registration: long (nullable = true)\n",
      " |-- sessionId: long (nullable = true)\n",
      " |-- song: string (nullable = true)\n",
      " |-- status: long (nullable = true)\n",
      " |-- ts: long (nullable = true)\n",
      " |-- userAgent: string (nullable = true)\n",
      " |-- userId: string (nullable = true)\n",
      "\n"
     ]
    }
   ],
   "source": [
    "df.printSchema()"
   ]
  },
  {
   "cell_type": "markdown",
   "metadata": {},
   "source": [
    "- Among the fields an user's firstName and lastName are very unlikely to be linked to churn and the goal of this project is to build a model to predict churn based on certain factors. So we can drop those fields.\n",
    "- An user's location may/may not influence churn and we cannot be certain at this stage. It would be interesting to find out if user's of a particular location are churning more than others due to factors we don't know.So let us keep location for now.\n",
    "- "
   ]
  },
  {
   "cell_type": "code",
   "execution_count": 11,
   "metadata": {},
   "outputs": [
    {
     "name": "stdout",
     "output_type": "stream",
     "text": [
      "artist 58392\n",
      "auth 0\n",
      "firstName 8346\n",
      "gender 8346\n",
      "itemInSession 0\n",
      "lastName 8346\n",
      "length 58392\n",
      "level 0\n",
      "location 8346\n",
      "method 0\n",
      "page 0\n",
      "registration 8346\n",
      "sessionId 0\n",
      "song 58392\n",
      "status 0\n",
      "ts 0\n",
      "userAgent 8346\n",
      "userId 0\n"
     ]
    }
   ],
   "source": [
    "for col_ in df.columns:\n",
    "    print(col_,df.filter(col(col_).isNull()).count())"
   ]
  },
  {
   "cell_type": "code",
   "execution_count": 12,
   "metadata": {},
   "outputs": [],
   "source": [
    "drop_lst = ['firstName','lastName']\n",
    "df = df.drop(*drop_lst) "
   ]
  },
  {
   "cell_type": "code",
   "execution_count": 13,
   "metadata": {},
   "outputs": [
    {
     "name": "stdout",
     "output_type": "stream",
     "text": [
      "+-------+-----------------+\n",
      "|summary|           userId|\n",
      "+-------+-----------------+\n",
      "|  count|           286500|\n",
      "|   mean|59682.02278593872|\n",
      "| stddev|109091.9499991047|\n",
      "|    min|                 |\n",
      "|    max|               99|\n",
      "+-------+-----------------+\n",
      "\n"
     ]
    }
   ],
   "source": [
    "df.describe('userId').show()"
   ]
  },
  {
   "cell_type": "markdown",
   "metadata": {},
   "source": [
    "- There appears to be blank user ids"
   ]
  },
  {
   "cell_type": "code",
   "execution_count": 14,
   "metadata": {},
   "outputs": [
    {
     "name": "stdout",
     "output_type": "stream",
     "text": [
      "+-------+-----------------+\n",
      "|summary|        sessionId|\n",
      "+-------+-----------------+\n",
      "|  count|           286500|\n",
      "|   mean|1041.526554973822|\n",
      "| stddev|726.7762634630741|\n",
      "|    min|                1|\n",
      "|    max|             2474|\n",
      "+-------+-----------------+\n",
      "\n"
     ]
    }
   ],
   "source": [
    "df.describe('sessionId').show()"
   ]
  },
  {
   "cell_type": "code",
   "execution_count": 15,
   "metadata": {},
   "outputs": [
    {
     "data": {
      "text/plain": [
       "286500"
      ]
     },
     "execution_count": 15,
     "metadata": {},
     "output_type": "execute_result"
    }
   ],
   "source": [
    "df.count()"
   ]
  },
  {
   "cell_type": "code",
   "execution_count": 16,
   "metadata": {},
   "outputs": [
    {
     "data": {
      "text/plain": [
       "['artist',\n",
       " 'auth',\n",
       " 'gender',\n",
       " 'itemInSession',\n",
       " 'length',\n",
       " 'level',\n",
       " 'location',\n",
       " 'method',\n",
       " 'page',\n",
       " 'registration',\n",
       " 'sessionId',\n",
       " 'song',\n",
       " 'status',\n",
       " 'ts',\n",
       " 'userAgent',\n",
       " 'userId']"
      ]
     },
     "execution_count": 16,
     "metadata": {},
     "output_type": "execute_result"
    }
   ],
   "source": [
    "df.columns"
   ]
  },
  {
   "cell_type": "code",
   "execution_count": 17,
   "metadata": {},
   "outputs": [
    {
     "data": {
      "text/plain": [
       "[('artist', 'string'),\n",
       " ('auth', 'string'),\n",
       " ('gender', 'string'),\n",
       " ('itemInSession', 'bigint'),\n",
       " ('length', 'double'),\n",
       " ('level', 'string'),\n",
       " ('location', 'string'),\n",
       " ('method', 'string'),\n",
       " ('page', 'string'),\n",
       " ('registration', 'bigint'),\n",
       " ('sessionId', 'bigint'),\n",
       " ('song', 'string'),\n",
       " ('status', 'bigint'),\n",
       " ('ts', 'bigint'),\n",
       " ('userAgent', 'string'),\n",
       " ('userId', 'string')]"
      ]
     },
     "execution_count": 17,
     "metadata": {},
     "output_type": "execute_result"
    }
   ],
   "source": [
    "df.dtypes"
   ]
  },
  {
   "cell_type": "code",
   "execution_count": 18,
   "metadata": {},
   "outputs": [
    {
     "data": {
      "text/plain": [
       "286500"
      ]
     },
     "execution_count": 18,
     "metadata": {},
     "output_type": "execute_result"
    }
   ],
   "source": [
    "df.dropDuplicates().count()"
   ]
  },
  {
   "cell_type": "code",
   "execution_count": 19,
   "metadata": {},
   "outputs": [
    {
     "data": {
      "text/plain": [
       "8346"
      ]
     },
     "execution_count": 19,
     "metadata": {},
     "output_type": "execute_result"
    }
   ],
   "source": [
    "df.filter(col(\"userId\") == \"\" ).count()"
   ]
  },
  {
   "cell_type": "code",
   "execution_count": 20,
   "metadata": {},
   "outputs": [
    {
     "data": {
      "text/plain": [
       "278154"
      ]
     },
     "execution_count": 20,
     "metadata": {},
     "output_type": "execute_result"
    }
   ],
   "source": [
    "## Clean empty user id's\n",
    "df = df.filter(df.userId!=\"\")\n",
    "df.count()"
   ]
  },
  {
   "cell_type": "markdown",
   "metadata": {},
   "source": [
    "#### Generate stats for all columns\n",
    "- We have strings, doubles and bigints. Certain stats like mean may not make sense for strings like artists. We will ignore them"
   ]
  },
  {
   "cell_type": "code",
   "execution_count": 21,
   "metadata": {},
   "outputs": [
    {
     "data": {
      "text/html": [
       "<div>\n",
       "<style scoped>\n",
       "    .dataframe tbody tr th:only-of-type {\n",
       "        vertical-align: middle;\n",
       "    }\n",
       "\n",
       "    .dataframe tbody tr th {\n",
       "        vertical-align: top;\n",
       "    }\n",
       "\n",
       "    .dataframe thead th {\n",
       "        text-align: right;\n",
       "    }\n",
       "</style>\n",
       "<table border=\"1\" class=\"dataframe\">\n",
       "  <thead>\n",
       "    <tr style=\"text-align: right;\">\n",
       "      <th></th>\n",
       "      <th>artist</th>\n",
       "      <th>auth</th>\n",
       "      <th>gender</th>\n",
       "      <th>itemInSession</th>\n",
       "      <th>length</th>\n",
       "      <th>level</th>\n",
       "      <th>location</th>\n",
       "      <th>method</th>\n",
       "      <th>page</th>\n",
       "      <th>registration</th>\n",
       "      <th>sessionId</th>\n",
       "      <th>song</th>\n",
       "      <th>status</th>\n",
       "      <th>ts</th>\n",
       "      <th>userAgent</th>\n",
       "      <th>userId</th>\n",
       "    </tr>\n",
       "    <tr>\n",
       "      <th>summary</th>\n",
       "      <th></th>\n",
       "      <th></th>\n",
       "      <th></th>\n",
       "      <th></th>\n",
       "      <th></th>\n",
       "      <th></th>\n",
       "      <th></th>\n",
       "      <th></th>\n",
       "      <th></th>\n",
       "      <th></th>\n",
       "      <th></th>\n",
       "      <th></th>\n",
       "      <th></th>\n",
       "      <th></th>\n",
       "      <th></th>\n",
       "      <th></th>\n",
       "    </tr>\n",
       "  </thead>\n",
       "  <tbody>\n",
       "    <tr>\n",
       "      <th>count</th>\n",
       "      <td>228108</td>\n",
       "      <td>278154</td>\n",
       "      <td>278154</td>\n",
       "      <td>278154</td>\n",
       "      <td>228108</td>\n",
       "      <td>278154</td>\n",
       "      <td>278154</td>\n",
       "      <td>278154</td>\n",
       "      <td>278154</td>\n",
       "      <td>278154</td>\n",
       "      <td>278154</td>\n",
       "      <td>228108</td>\n",
       "      <td>278154</td>\n",
       "      <td>278154</td>\n",
       "      <td>278154</td>\n",
       "      <td>278154</td>\n",
       "    </tr>\n",
       "    <tr>\n",
       "      <th>mean</th>\n",
       "      <td>551.0852017937219</td>\n",
       "      <td>None</td>\n",
       "      <td>None</td>\n",
       "      <td>114.89918174824018</td>\n",
       "      <td>249.1171819778458</td>\n",
       "      <td>None</td>\n",
       "      <td>None</td>\n",
       "      <td>None</td>\n",
       "      <td>None</td>\n",
       "      <td>1.5353588340844272E12</td>\n",
       "      <td>1042.5616241362698</td>\n",
       "      <td>Infinity</td>\n",
       "      <td>209.10321620397335</td>\n",
       "      <td>1.5409589154318713E12</td>\n",
       "      <td>None</td>\n",
       "      <td>59682.02278593872</td>\n",
       "    </tr>\n",
       "    <tr>\n",
       "      <th>stddev</th>\n",
       "      <td>1217.7693079161374</td>\n",
       "      <td>None</td>\n",
       "      <td>None</td>\n",
       "      <td>129.851729399489</td>\n",
       "      <td>99.23517921058361</td>\n",
       "      <td>None</td>\n",
       "      <td>None</td>\n",
       "      <td>None</td>\n",
       "      <td>None</td>\n",
       "      <td>3.291321616327586E9</td>\n",
       "      <td>726.5010362219813</td>\n",
       "      <td>NaN</td>\n",
       "      <td>30.151388851328214</td>\n",
       "      <td>1.5068287123306298E9</td>\n",
       "      <td>None</td>\n",
       "      <td>109091.9499991047</td>\n",
       "    </tr>\n",
       "    <tr>\n",
       "      <th>min</th>\n",
       "      <td>!!!</td>\n",
       "      <td>Cancelled</td>\n",
       "      <td>F</td>\n",
       "      <td>0</td>\n",
       "      <td>0.78322</td>\n",
       "      <td>free</td>\n",
       "      <td>Albany, OR</td>\n",
       "      <td>GET</td>\n",
       "      <td>About</td>\n",
       "      <td>1521380675000</td>\n",
       "      <td>1</td>\n",
       "      <td>ÃÂg ÃÂtti GrÃÂ¡a ÃÂsku</td>\n",
       "      <td>200</td>\n",
       "      <td>1538352117000</td>\n",
       "      <td>\"Mozilla/5.0 (Macintosh; Intel Mac OS X 10_10)...</td>\n",
       "      <td>10</td>\n",
       "    </tr>\n",
       "    <tr>\n",
       "      <th>max</th>\n",
       "      <td>ÃÂlafur Arnalds</td>\n",
       "      <td>Logged In</td>\n",
       "      <td>M</td>\n",
       "      <td>1321</td>\n",
       "      <td>3024.66567</td>\n",
       "      <td>paid</td>\n",
       "      <td>Winston-Salem, NC</td>\n",
       "      <td>PUT</td>\n",
       "      <td>Upgrade</td>\n",
       "      <td>1543247354000</td>\n",
       "      <td>2474</td>\n",
       "      <td>ÃÂau hafa sloppiÃÂ° undan ÃÂ¾unga myrkursins</td>\n",
       "      <td>404</td>\n",
       "      <td>1543799476000</td>\n",
       "      <td>Mozilla/5.0 (compatible; MSIE 9.0; Windows NT ...</td>\n",
       "      <td>99</td>\n",
       "    </tr>\n",
       "  </tbody>\n",
       "</table>\n",
       "</div>"
      ],
      "text/plain": [
       "                     artist       auth  gender       itemInSession  \\\n",
       "summary                                                              \n",
       "count                228108     278154  278154              278154   \n",
       "mean      551.0852017937219       None    None  114.89918174824018   \n",
       "stddev   1217.7693079161374       None    None    129.851729399489   \n",
       "min                     !!!  Cancelled       F                   0   \n",
       "max       ÃÂlafur Arnalds  Logged In       M                1321   \n",
       "\n",
       "                    length   level           location  method     page  \\\n",
       "summary                                                                  \n",
       "count               228108  278154             278154  278154   278154   \n",
       "mean     249.1171819778458    None               None    None     None   \n",
       "stddev   99.23517921058361    None               None    None     None   \n",
       "min                0.78322    free         Albany, OR     GET    About   \n",
       "max             3024.66567    paid  Winston-Salem, NC     PUT  Upgrade   \n",
       "\n",
       "                  registration           sessionId  \\\n",
       "summary                                              \n",
       "count                   278154              278154   \n",
       "mean     1.5353588340844272E12  1042.5616241362698   \n",
       "stddev     3.291321616327586E9   726.5010362219813   \n",
       "min              1521380675000                   1   \n",
       "max              1543247354000                2474   \n",
       "\n",
       "                                                     song              status  \\\n",
       "summary                                                                         \n",
       "count                                              228108              278154   \n",
       "mean                                             Infinity  209.10321620397335   \n",
       "stddev                                                NaN  30.151388851328214   \n",
       "min                        \n",
       "ÃÂg ÃÂtti GrÃÂ¡a ÃÂsku                 200   \n",
       "max      ÃÂau hafa sloppiÃÂ° undan ÃÂ¾unga myrkursins                 404   \n",
       "\n",
       "                            ts  \\\n",
       "summary                          \n",
       "count                   278154   \n",
       "mean     1.5409589154318713E12   \n",
       "stddev    1.5068287123306298E9   \n",
       "min              1538352117000   \n",
       "max              1543799476000   \n",
       "\n",
       "                                                 userAgent             userId  \n",
       "summary                                                                        \n",
       "count                                               278154             278154  \n",
       "mean                                                  None  59682.02278593872  \n",
       "stddev                                                None  109091.9499991047  \n",
       "min      \"Mozilla/5.0 (Macintosh; Intel Mac OS X 10_10)...                 10  \n",
       "max      Mozilla/5.0 (compatible; MSIE 9.0; Windows NT ...                 99  "
      ]
     },
     "execution_count": 21,
     "metadata": {},
     "output_type": "execute_result"
    }
   ],
   "source": [
    "stats_df = df.describe().toPandas().set_index(\"summary\")\n",
    "all_stats =spark.createDataFrame(stats_df.reset_index()).cache()\n",
    "stats_df"
   ]
  },
  {
   "cell_type": "markdown",
   "metadata": {},
   "source": [
    "- auth is a field that indicates if a user managed to login or his authentication is cancelled. \n",
    "- The actual song itself cannot make it a good feature however we can think of how many different songs a user has listened."
   ]
  },
  {
   "cell_type": "code",
   "execution_count": 22,
   "metadata": {},
   "outputs": [
    {
     "data": {
      "text/plain": [
       "0"
      ]
     },
     "execution_count": 22,
     "metadata": {},
     "output_type": "execute_result"
    }
   ],
   "source": [
    "df.filter( col(\"userId\") == \"\"  ).count()"
   ]
  },
  {
   "cell_type": "code",
   "execution_count": 23,
   "metadata": {},
   "outputs": [
    {
     "data": {
      "text/plain": [
       "['artist',\n",
       " 'auth',\n",
       " 'gender',\n",
       " 'itemInSession',\n",
       " 'length',\n",
       " 'level',\n",
       " 'location',\n",
       " 'method',\n",
       " 'page',\n",
       " 'registration',\n",
       " 'sessionId',\n",
       " 'song',\n",
       " 'status',\n",
       " 'ts',\n",
       " 'userAgent',\n",
       " 'userId']"
      ]
     },
     "execution_count": 23,
     "metadata": {},
     "output_type": "execute_result"
    }
   ],
   "source": [
    "df.columns"
   ]
  },
  {
   "cell_type": "code",
   "execution_count": 24,
   "metadata": {},
   "outputs": [],
   "source": [
    "# Create a user defined function for formating the timestamp\n",
    "get_time = udf(lambda x: datetime.datetime.fromtimestamp(x / 1000.0).strftime(\"%Y-%m-%d %H:%M:%S\"))\n",
    "\n",
    "#Apply the udf on the ts column\n",
    "df = df.withColumn(\"act_time\", get_time(df.ts))\n",
    "df = df.withColumn(\"registration_ts\", get_time(df.registration))"
   ]
  },
  {
   "cell_type": "code",
   "execution_count": 25,
   "metadata": {},
   "outputs": [],
   "source": [
    "#drop_lst = ['registration','ts']\n",
    "#df = df.drop(*drop_lst) "
   ]
  },
  {
   "cell_type": "code",
   "execution_count": 26,
   "metadata": {},
   "outputs": [
    {
     "data": {
      "text/html": [
       "<div>\n",
       "<style scoped>\n",
       "    .dataframe tbody tr th:only-of-type {\n",
       "        vertical-align: middle;\n",
       "    }\n",
       "\n",
       "    .dataframe tbody tr th {\n",
       "        vertical-align: top;\n",
       "    }\n",
       "\n",
       "    .dataframe thead th {\n",
       "        text-align: right;\n",
       "    }\n",
       "</style>\n",
       "<table border=\"1\" class=\"dataframe\">\n",
       "  <thead>\n",
       "    <tr style=\"text-align: right;\">\n",
       "      <th></th>\n",
       "      <th>artist</th>\n",
       "      <th>auth</th>\n",
       "      <th>gender</th>\n",
       "      <th>itemInSession</th>\n",
       "      <th>length</th>\n",
       "      <th>level</th>\n",
       "      <th>location</th>\n",
       "      <th>method</th>\n",
       "      <th>page</th>\n",
       "      <th>registration</th>\n",
       "      <th>sessionId</th>\n",
       "      <th>song</th>\n",
       "      <th>status</th>\n",
       "      <th>ts</th>\n",
       "      <th>userAgent</th>\n",
       "      <th>userId</th>\n",
       "      <th>act_time</th>\n",
       "      <th>registration_ts</th>\n",
       "    </tr>\n",
       "  </thead>\n",
       "  <tbody>\n",
       "    <tr>\n",
       "      <th>0</th>\n",
       "      <td>Martha Tilston</td>\n",
       "      <td>Logged In</td>\n",
       "      <td>M</td>\n",
       "      <td>50</td>\n",
       "      <td>277.89016</td>\n",
       "      <td>paid</td>\n",
       "      <td>Bakersfield, CA</td>\n",
       "      <td>PUT</td>\n",
       "      <td>NextSong</td>\n",
       "      <td>1538173362000</td>\n",
       "      <td>29</td>\n",
       "      <td>Rockpools</td>\n",
       "      <td>200</td>\n",
       "      <td>1538352117000</td>\n",
       "      <td>Mozilla/5.0 (Windows NT 6.1; WOW64; rv:31.0) G...</td>\n",
       "      <td>30</td>\n",
       "      <td>2018-10-01 00:01:57</td>\n",
       "      <td>2018-09-28 22:22:42</td>\n",
       "    </tr>\n",
       "    <tr>\n",
       "      <th>1</th>\n",
       "      <td>Five Iron Frenzy</td>\n",
       "      <td>Logged In</td>\n",
       "      <td>M</td>\n",
       "      <td>79</td>\n",
       "      <td>236.09424</td>\n",
       "      <td>free</td>\n",
       "      <td>Boston-Cambridge-Newton, MA-NH</td>\n",
       "      <td>PUT</td>\n",
       "      <td>NextSong</td>\n",
       "      <td>1538331630000</td>\n",
       "      <td>8</td>\n",
       "      <td>Canada</td>\n",
       "      <td>200</td>\n",
       "      <td>1538352180000</td>\n",
       "      <td>\"Mozilla/5.0 (Windows NT 6.1; WOW64) AppleWebK...</td>\n",
       "      <td>9</td>\n",
       "      <td>2018-10-01 00:03:00</td>\n",
       "      <td>2018-09-30 18:20:30</td>\n",
       "    </tr>\n",
       "    <tr>\n",
       "      <th>2</th>\n",
       "      <td>Adam Lambert</td>\n",
       "      <td>Logged In</td>\n",
       "      <td>M</td>\n",
       "      <td>51</td>\n",
       "      <td>282.82730</td>\n",
       "      <td>paid</td>\n",
       "      <td>Bakersfield, CA</td>\n",
       "      <td>PUT</td>\n",
       "      <td>NextSong</td>\n",
       "      <td>1538173362000</td>\n",
       "      <td>29</td>\n",
       "      <td>Time For Miracles</td>\n",
       "      <td>200</td>\n",
       "      <td>1538352394000</td>\n",
       "      <td>Mozilla/5.0 (Windows NT 6.1; WOW64; rv:31.0) G...</td>\n",
       "      <td>30</td>\n",
       "      <td>2018-10-01 00:06:34</td>\n",
       "      <td>2018-09-28 22:22:42</td>\n",
       "    </tr>\n",
       "    <tr>\n",
       "      <th>3</th>\n",
       "      <td>Enigma</td>\n",
       "      <td>Logged In</td>\n",
       "      <td>M</td>\n",
       "      <td>80</td>\n",
       "      <td>262.71302</td>\n",
       "      <td>free</td>\n",
       "      <td>Boston-Cambridge-Newton, MA-NH</td>\n",
       "      <td>PUT</td>\n",
       "      <td>NextSong</td>\n",
       "      <td>1538331630000</td>\n",
       "      <td>8</td>\n",
       "      <td>Knocking On Forbidden Doors</td>\n",
       "      <td>200</td>\n",
       "      <td>1538352416000</td>\n",
       "      <td>\"Mozilla/5.0 (Windows NT 6.1; WOW64) AppleWebK...</td>\n",
       "      <td>9</td>\n",
       "      <td>2018-10-01 00:06:56</td>\n",
       "      <td>2018-09-30 18:20:30</td>\n",
       "    </tr>\n",
       "    <tr>\n",
       "      <th>4</th>\n",
       "      <td>Daft Punk</td>\n",
       "      <td>Logged In</td>\n",
       "      <td>M</td>\n",
       "      <td>52</td>\n",
       "      <td>223.60771</td>\n",
       "      <td>paid</td>\n",
       "      <td>Bakersfield, CA</td>\n",
       "      <td>PUT</td>\n",
       "      <td>NextSong</td>\n",
       "      <td>1538173362000</td>\n",
       "      <td>29</td>\n",
       "      <td>Harder Better Faster Stronger</td>\n",
       "      <td>200</td>\n",
       "      <td>1538352676000</td>\n",
       "      <td>Mozilla/5.0 (Windows NT 6.1; WOW64; rv:31.0) G...</td>\n",
       "      <td>30</td>\n",
       "      <td>2018-10-01 00:11:16</td>\n",
       "      <td>2018-09-28 22:22:42</td>\n",
       "    </tr>\n",
       "  </tbody>\n",
       "</table>\n",
       "</div>"
      ],
      "text/plain": [
       "             artist       auth gender  itemInSession     length level  \\\n",
       "0    Martha Tilston  Logged In      M             50  277.89016  paid   \n",
       "1  Five Iron Frenzy  Logged In      M             79  236.09424  free   \n",
       "2      Adam Lambert  Logged In      M             51  282.82730  paid   \n",
       "3            Enigma  Logged In      M             80  262.71302  free   \n",
       "4         Daft Punk  Logged In      M             52  223.60771  paid   \n",
       "\n",
       "                         location method      page   registration  sessionId  \\\n",
       "0                 Bakersfield, CA    PUT  NextSong  1538173362000         29   \n",
       "1  Boston-Cambridge-Newton, MA-NH    PUT  NextSong  1538331630000          8   \n",
       "2                 Bakersfield, CA    PUT  NextSong  1538173362000         29   \n",
       "3  Boston-Cambridge-Newton, MA-NH    PUT  NextSong  1538331630000          8   \n",
       "4                 Bakersfield, CA    PUT  NextSong  1538173362000         29   \n",
       "\n",
       "                            song  status             ts  \\\n",
       "0                      Rockpools     200  1538352117000   \n",
       "1                         Canada     200  1538352180000   \n",
       "2              Time For Miracles     200  1538352394000   \n",
       "3    Knocking On Forbidden Doors     200  1538352416000   \n",
       "4  Harder Better Faster Stronger     200  1538352676000   \n",
       "\n",
       "                                           userAgent userId  \\\n",
       "0  Mozilla/5.0 (Windows NT 6.1; WOW64; rv:31.0) G...     30   \n",
       "1  \"Mozilla/5.0 (Windows NT 6.1; WOW64) AppleWebK...      9   \n",
       "2  Mozilla/5.0 (Windows NT 6.1; WOW64; rv:31.0) G...     30   \n",
       "3  \"Mozilla/5.0 (Windows NT 6.1; WOW64) AppleWebK...      9   \n",
       "4  Mozilla/5.0 (Windows NT 6.1; WOW64; rv:31.0) G...     30   \n",
       "\n",
       "              act_time      registration_ts  \n",
       "0  2018-10-01 00:01:57  2018-09-28 22:22:42  \n",
       "1  2018-10-01 00:03:00  2018-09-30 18:20:30  \n",
       "2  2018-10-01 00:06:34  2018-09-28 22:22:42  \n",
       "3  2018-10-01 00:06:56  2018-09-30 18:20:30  \n",
       "4  2018-10-01 00:11:16  2018-09-28 22:22:42  "
      ]
     },
     "execution_count": 26,
     "metadata": {},
     "output_type": "execute_result"
    }
   ],
   "source": [
    "df.limit(5).toPandas()"
   ]
  },
  {
   "cell_type": "code",
   "execution_count": 27,
   "metadata": {},
   "outputs": [],
   "source": [
    "df.createOrReplaceTempView(\"Sparkify_local_cleaned\")"
   ]
  },
  {
   "cell_type": "code",
   "execution_count": 28,
   "metadata": {},
   "outputs": [
    {
     "name": "stdout",
     "output_type": "stream",
     "text": [
      "+---------+\n",
      "|     auth|\n",
      "+---------+\n",
      "|Cancelled|\n",
      "|Logged In|\n",
      "+---------+\n",
      "\n"
     ]
    }
   ],
   "source": [
    "spark.sql('''\n",
    "        SELECT DISTINCT(auth)\n",
    "        FROM Sparkify_local_cleaned\n",
    "''').show()"
   ]
  },
  {
   "cell_type": "code",
   "execution_count": 29,
   "metadata": {},
   "outputs": [
    {
     "name": "stdout",
     "output_type": "stream",
     "text": [
      "+---------+-----------+\n",
      "|     auth|user_counts|\n",
      "+---------+-----------+\n",
      "|Logged In|        225|\n",
      "|Cancelled|         52|\n",
      "+---------+-----------+\n",
      "\n"
     ]
    }
   ],
   "source": [
    "spark.sql('''\n",
    "        SELECT auth,COUNT(DISTINCT userId) AS user_counts\n",
    "        FROM Sparkify_local_cleaned\n",
    "        GROUP BY auth\n",
    "        ORDER BY user_counts DESC\n",
    "''').show()"
   ]
  },
  {
   "cell_type": "code",
   "execution_count": 30,
   "metadata": {},
   "outputs": [
    {
     "name": "stdout",
     "output_type": "stream",
     "text": [
      "+------+-----------+\n",
      "|gender|user_counts|\n",
      "+------+-----------+\n",
      "|     M|        121|\n",
      "|     F|        104|\n",
      "+------+-----------+\n",
      "\n"
     ]
    }
   ],
   "source": [
    "gender_count = spark.sql('''\n",
    "        SELECT gender,COUNT(DISTINCT userId) AS user_counts\n",
    "        FROM Sparkify_local_cleaned\n",
    "        GROUP BY gender\n",
    "        ORDER BY user_counts DESC\n",
    "''')\n",
    "gender_count.show()"
   ]
  },
  {
   "cell_type": "code",
   "execution_count": 31,
   "metadata": {},
   "outputs": [
    {
     "name": "stdout",
     "output_type": "stream",
     "text": [
      "+--------+\n",
      "|count(1)|\n",
      "+--------+\n",
      "|  278154|\n",
      "+--------+\n",
      "\n"
     ]
    }
   ],
   "source": [
    "spark.sql('''\n",
    "        SELECT count(*)\n",
    "        FROM Sparkify_local_cleaned\n",
    "        where userid != ''\n",
    "''').show()"
   ]
  },
  {
   "cell_type": "code",
   "execution_count": 32,
   "metadata": {},
   "outputs": [
    {
     "name": "stdout",
     "output_type": "stream",
     "text": [
      "+--------+\n",
      "|count(1)|\n",
      "+--------+\n",
      "|       0|\n",
      "+--------+\n",
      "\n"
     ]
    }
   ],
   "source": [
    "spark.sql('''\n",
    "        SELECT count(*)\n",
    "        FROM Sparkify_local_cleaned\n",
    "        where userid = ''\n",
    "''').show()"
   ]
  },
  {
   "cell_type": "code",
   "execution_count": 33,
   "metadata": {},
   "outputs": [
    {
     "name": "stdout",
     "output_type": "stream",
     "text": [
      "+-----------+\n",
      "|item_counts|\n",
      "+-----------+\n",
      "|       1311|\n",
      "+-----------+\n",
      "\n"
     ]
    }
   ],
   "source": [
    "spark.sql('''\n",
    "        SELECT COUNT(DISTINCT(itemInSession)) AS item_counts\n",
    "        FROM Sparkify_local_cleaned\n",
    "''').show()"
   ]
  },
  {
   "cell_type": "code",
   "execution_count": 34,
   "metadata": {},
   "outputs": [],
   "source": [
    "length_data = spark.sql('''\n",
    "        SELECT length\n",
    "        FROM Sparkify_local_cleaned\n",
    "''')"
   ]
  },
  {
   "cell_type": "code",
   "execution_count": 35,
   "metadata": {},
   "outputs": [
    {
     "name": "stdout",
     "output_type": "stream",
     "text": [
      "+---------+\n",
      "|   length|\n",
      "+---------+\n",
      "|277.89016|\n",
      "|236.09424|\n",
      "| 282.8273|\n",
      "|262.71302|\n",
      "|223.60771|\n",
      "+---------+\n",
      "only showing top 5 rows\n",
      "\n"
     ]
    }
   ],
   "source": [
    "length_data.show(5)"
   ]
  },
  {
   "cell_type": "code",
   "execution_count": 36,
   "metadata": {},
   "outputs": [
    {
     "data": {
      "image/png": "[encoded data removed]",
      "text/plain": [
       "<matplotlib.figure.Figure at 0x7f75cdf6b7f0>"
      ]
     },
     "metadata": {},
     "output_type": "display_data"
    }
   ],
   "source": [
    "sns.distplot(length_data.toPandas().dropna());"
   ]
  },
  {
   "cell_type": "code",
   "execution_count": 37,
   "metadata": {},
   "outputs": [
    {
     "name": "stdout",
     "output_type": "stream",
     "text": [
      "+-----+-----------+\n",
      "|level|user_counts|\n",
      "+-----+-----------+\n",
      "| free|        195|\n",
      "| paid|        165|\n",
      "+-----+-----------+\n",
      "\n"
     ]
    }
   ],
   "source": [
    "spark.sql('''\n",
    "        SELECT level,COUNT(DISTINCT userId) AS user_counts\n",
    "        FROM Sparkify_local_cleaned\n",
    "        GROUP BY level\n",
    "        ORDER BY user_counts DESC\n",
    "''').show()"
   ]
  },
  {
   "cell_type": "code",
   "execution_count": 38,
   "metadata": {},
   "outputs": [],
   "source": [
    "location_count = spark.sql('''\n",
    "        SELECT location,gender,COUNT(DISTINCT userId) AS user_counts\n",
    "        FROM Sparkify_local_cleaned\n",
    "        GROUP BY location, gender\n",
    "        ORDER BY user_counts DESC\n",
    "''').toPandas()"
   ]
  },
  {
   "cell_type": "code",
   "execution_count": 39,
   "metadata": {},
   "outputs": [],
   "source": [
    "#split city and state\n",
    "location_count = location_count.join(location_count['location'].str.split(',',expand=True).rename(columns={0:'city',1:'state'})).drop('location',axis=1)"
   ]
  },
  {
   "cell_type": "code",
   "execution_count": 40,
   "metadata": {},
   "outputs": [
    {
     "data": {
      "text/html": [
       "<div>\n",
       "<style scoped>\n",
       "    .dataframe tbody tr th:only-of-type {\n",
       "        vertical-align: middle;\n",
       "    }\n",
       "\n",
       "    .dataframe tbody tr th {\n",
       "        vertical-align: top;\n",
       "    }\n",
       "\n",
       "    .dataframe thead th {\n",
       "        text-align: right;\n",
       "    }\n",
       "</style>\n",
       "<table border=\"1\" class=\"dataframe\">\n",
       "  <thead>\n",
       "    <tr style=\"text-align: right;\">\n",
       "      <th></th>\n",
       "      <th>gender</th>\n",
       "      <th>user_counts</th>\n",
       "      <th>city</th>\n",
       "      <th>state</th>\n",
       "    </tr>\n",
       "  </thead>\n",
       "  <tbody>\n",
       "    <tr>\n",
       "      <th>0</th>\n",
       "      <td>F</td>\n",
       "      <td>9</td>\n",
       "      <td>Los Angeles-Long Beach-Anaheim</td>\n",
       "      <td>CA</td>\n",
       "    </tr>\n",
       "    <tr>\n",
       "      <th>1</th>\n",
       "      <td>M</td>\n",
       "      <td>8</td>\n",
       "      <td>New York-Newark-Jersey City</td>\n",
       "      <td>NY-NJ-PA</td>\n",
       "    </tr>\n",
       "    <tr>\n",
       "      <th>2</th>\n",
       "      <td>M</td>\n",
       "      <td>7</td>\n",
       "      <td>Los Angeles-Long Beach-Anaheim</td>\n",
       "      <td>CA</td>\n",
       "    </tr>\n",
       "    <tr>\n",
       "      <th>3</th>\n",
       "      <td>F</td>\n",
       "      <td>7</td>\n",
       "      <td>New York-Newark-Jersey City</td>\n",
       "      <td>NY-NJ-PA</td>\n",
       "    </tr>\n",
       "    <tr>\n",
       "      <th>4</th>\n",
       "      <td>M</td>\n",
       "      <td>6</td>\n",
       "      <td>Dallas-Fort Worth-Arlington</td>\n",
       "      <td>TX</td>\n",
       "    </tr>\n",
       "    <tr>\n",
       "      <th>5</th>\n",
       "      <td>M</td>\n",
       "      <td>5</td>\n",
       "      <td>Phoenix-Mesa-Scottsdale</td>\n",
       "      <td>AZ</td>\n",
       "    </tr>\n",
       "    <tr>\n",
       "      <th>6</th>\n",
       "      <td>M</td>\n",
       "      <td>4</td>\n",
       "      <td>Chicago-Naperville-Elgin</td>\n",
       "      <td>IL-IN-WI</td>\n",
       "    </tr>\n",
       "    <tr>\n",
       "      <th>7</th>\n",
       "      <td>F</td>\n",
       "      <td>4</td>\n",
       "      <td>Boston-Cambridge-Newton</td>\n",
       "      <td>MA-NH</td>\n",
       "    </tr>\n",
       "    <tr>\n",
       "      <th>8</th>\n",
       "      <td>F</td>\n",
       "      <td>4</td>\n",
       "      <td>Charlotte-Concord-Gastonia</td>\n",
       "      <td>NC-SC</td>\n",
       "    </tr>\n",
       "    <tr>\n",
       "      <th>9</th>\n",
       "      <td>M</td>\n",
       "      <td>3</td>\n",
       "      <td>Houston-The Woodlands-Sugar Land</td>\n",
       "      <td>TX</td>\n",
       "    </tr>\n",
       "  </tbody>\n",
       "</table>\n",
       "</div>"
      ],
      "text/plain": [
       "  gender  user_counts                              city      state\n",
       "0      F            9    Los Angeles-Long Beach-Anaheim         CA\n",
       "1      M            8       New York-Newark-Jersey City   NY-NJ-PA\n",
       "2      M            7    Los Angeles-Long Beach-Anaheim         CA\n",
       "3      F            7       New York-Newark-Jersey City   NY-NJ-PA\n",
       "4      M            6       Dallas-Fort Worth-Arlington         TX\n",
       "5      M            5           Phoenix-Mesa-Scottsdale         AZ\n",
       "6      M            4          Chicago-Naperville-Elgin   IL-IN-WI\n",
       "7      F            4           Boston-Cambridge-Newton      MA-NH\n",
       "8      F            4        Charlotte-Concord-Gastonia      NC-SC\n",
       "9      M            3  Houston-The Woodlands-Sugar Land         TX"
      ]
     },
     "execution_count": 40,
     "metadata": {},
     "output_type": "execute_result"
    }
   ],
   "source": [
    "location_count.head(10)"
   ]
  },
  {
   "cell_type": "code",
   "execution_count": 41,
   "metadata": {},
   "outputs": [],
   "source": [
    "top10cities = location_count.groupby('city')['user_counts'].sum().sort_values(ascending=False).head(10)"
   ]
  },
  {
   "cell_type": "code",
   "execution_count": 42,
   "metadata": {},
   "outputs": [
    {
     "data": {
      "text/plain": [
       "city\n",
       "Los Angeles-Long Beach-Anaheim           16\n",
       "New York-Newark-Jersey City              15\n",
       "Dallas-Fort Worth-Arlington               7\n",
       "Phoenix-Mesa-Scottsdale                   7\n",
       "Charlotte-Concord-Gastonia                6\n",
       "St. Louis                                 6\n",
       "Chicago-Naperville-Elgin                  6\n",
       "Boston-Cambridge-Newton                   5\n",
       "Miami-Fort Lauderdale-West Palm Beach     5\n",
       "Philadelphia-Camden-Wilmington            5\n",
       "Name: user_counts, dtype: int64"
      ]
     },
     "execution_count": 42,
     "metadata": {},
     "output_type": "execute_result"
    }
   ],
   "source": [
    "top10cities"
   ]
  },
  {
   "cell_type": "code",
   "execution_count": 43,
   "metadata": {},
   "outputs": [
    {
     "data": {
      "image/png": "[encoded data removed]",
      "text/plain": [
       "<matplotlib.figure.Figure at 0x7f75cdf51160>"
      ]
     },
     "metadata": {},
     "output_type": "display_data"
    }
   ],
   "source": [
    "top10cities.plot(kind = 'bar',figsize=(10,5));\n",
    "plt.title('Top 10 cities by User base')\n",
    "plt.ylabel('Number of Users');"
   ]
  },
  {
   "cell_type": "code",
   "execution_count": 44,
   "metadata": {},
   "outputs": [],
   "source": [
    "top10states = location_count.groupby('state')['user_counts'].sum().sort_values(ascending=False).head(10)"
   ]
  },
  {
   "cell_type": "code",
   "execution_count": 45,
   "metadata": {},
   "outputs": [
    {
     "data": {
      "image/png": "[encoded data removed]",
      "text/plain": [
       "<matplotlib.figure.Figure at 0x7f75cdeaaf60>"
      ]
     },
     "metadata": {},
     "output_type": "display_data"
    }
   ],
   "source": [
    "top10states.plot(kind='bar',figsize=(10,5));\n",
    "plt.title('Top 10 States by User base')\n",
    "plt.ylabel('Number of Users');"
   ]
  },
  {
   "cell_type": "code",
   "execution_count": 46,
   "metadata": {},
   "outputs": [
    {
     "name": "stdout",
     "output_type": "stream",
     "text": [
      "+--------------------+\n",
      "|                page|\n",
      "+--------------------+\n",
      "|              Cancel|\n",
      "|    Submit Downgrade|\n",
      "|         Thumbs Down|\n",
      "|                Home|\n",
      "|           Downgrade|\n",
      "|         Roll Advert|\n",
      "|              Logout|\n",
      "|       Save Settings|\n",
      "|Cancellation Conf...|\n",
      "|               About|\n",
      "|            Settings|\n",
      "|     Add to Playlist|\n",
      "|          Add Friend|\n",
      "|            NextSong|\n",
      "|           Thumbs Up|\n",
      "|                Help|\n",
      "|             Upgrade|\n",
      "|               Error|\n",
      "|      Submit Upgrade|\n",
      "+--------------------+\n",
      "\n"
     ]
    }
   ],
   "source": [
    "df.select(\"page\").dropDuplicates().show()"
   ]
  },
  {
   "cell_type": "code",
   "execution_count": 47,
   "metadata": {},
   "outputs": [
    {
     "data": {
      "text/html": [
       "<div>\n",
       "<style scoped>\n",
       "    .dataframe tbody tr th:only-of-type {\n",
       "        vertical-align: middle;\n",
       "    }\n",
       "\n",
       "    .dataframe tbody tr th {\n",
       "        vertical-align: top;\n",
       "    }\n",
       "\n",
       "    .dataframe thead th {\n",
       "        text-align: right;\n",
       "    }\n",
       "</style>\n",
       "<table border=\"1\" class=\"dataframe\">\n",
       "  <thead>\n",
       "    <tr style=\"text-align: right;\">\n",
       "      <th></th>\n",
       "      <th>page</th>\n",
       "      <th>user_counts</th>\n",
       "    </tr>\n",
       "  </thead>\n",
       "  <tbody>\n",
       "    <tr>\n",
       "      <th>0</th>\n",
       "      <td>NextSong</td>\n",
       "      <td>228108</td>\n",
       "    </tr>\n",
       "    <tr>\n",
       "      <th>1</th>\n",
       "      <td>Thumbs Up</td>\n",
       "      <td>12551</td>\n",
       "    </tr>\n",
       "    <tr>\n",
       "      <th>2</th>\n",
       "      <td>Home</td>\n",
       "      <td>10082</td>\n",
       "    </tr>\n",
       "    <tr>\n",
       "      <th>3</th>\n",
       "      <td>Add to Playlist</td>\n",
       "      <td>6526</td>\n",
       "    </tr>\n",
       "    <tr>\n",
       "      <th>4</th>\n",
       "      <td>Add Friend</td>\n",
       "      <td>4277</td>\n",
       "    </tr>\n",
       "    <tr>\n",
       "      <th>5</th>\n",
       "      <td>Roll Advert</td>\n",
       "      <td>3933</td>\n",
       "    </tr>\n",
       "    <tr>\n",
       "      <th>6</th>\n",
       "      <td>Logout</td>\n",
       "      <td>3226</td>\n",
       "    </tr>\n",
       "    <tr>\n",
       "      <th>7</th>\n",
       "      <td>Thumbs Down</td>\n",
       "      <td>2546</td>\n",
       "    </tr>\n",
       "    <tr>\n",
       "      <th>8</th>\n",
       "      <td>Downgrade</td>\n",
       "      <td>2055</td>\n",
       "    </tr>\n",
       "    <tr>\n",
       "      <th>9</th>\n",
       "      <td>Settings</td>\n",
       "      <td>1514</td>\n",
       "    </tr>\n",
       "    <tr>\n",
       "      <th>10</th>\n",
       "      <td>Help</td>\n",
       "      <td>1454</td>\n",
       "    </tr>\n",
       "    <tr>\n",
       "      <th>11</th>\n",
       "      <td>Upgrade</td>\n",
       "      <td>499</td>\n",
       "    </tr>\n",
       "    <tr>\n",
       "      <th>12</th>\n",
       "      <td>About</td>\n",
       "      <td>495</td>\n",
       "    </tr>\n",
       "    <tr>\n",
       "      <th>13</th>\n",
       "      <td>Save Settings</td>\n",
       "      <td>310</td>\n",
       "    </tr>\n",
       "    <tr>\n",
       "      <th>14</th>\n",
       "      <td>Error</td>\n",
       "      <td>252</td>\n",
       "    </tr>\n",
       "    <tr>\n",
       "      <th>15</th>\n",
       "      <td>Submit Upgrade</td>\n",
       "      <td>159</td>\n",
       "    </tr>\n",
       "    <tr>\n",
       "      <th>16</th>\n",
       "      <td>Submit Downgrade</td>\n",
       "      <td>63</td>\n",
       "    </tr>\n",
       "    <tr>\n",
       "      <th>17</th>\n",
       "      <td>Cancel</td>\n",
       "      <td>52</td>\n",
       "    </tr>\n",
       "    <tr>\n",
       "      <th>18</th>\n",
       "      <td>Cancellation Confirmation</td>\n",
       "      <td>52</td>\n",
       "    </tr>\n",
       "  </tbody>\n",
       "</table>\n",
       "</div>"
      ],
      "text/plain": [
       "                         page  user_counts\n",
       "0                    NextSong       228108\n",
       "1                   Thumbs Up        12551\n",
       "2                        Home        10082\n",
       "3             Add to Playlist         6526\n",
       "4                  Add Friend         4277\n",
       "5                 Roll Advert         3933\n",
       "6                      Logout         3226\n",
       "7                 Thumbs Down         2546\n",
       "8                   Downgrade         2055\n",
       "9                    Settings         1514\n",
       "10                       Help         1454\n",
       "11                    Upgrade          499\n",
       "12                      About          495\n",
       "13              Save Settings          310\n",
       "14                      Error          252\n",
       "15             Submit Upgrade          159\n",
       "16           Submit Downgrade           63\n",
       "17                     Cancel           52\n",
       "18  Cancellation Confirmation           52"
      ]
     },
     "execution_count": 47,
     "metadata": {},
     "output_type": "execute_result"
    }
   ],
   "source": [
    "spark.sql('''\n",
    "        SELECT page,COUNT(userId) AS user_counts\n",
    "        FROM Sparkify_local_cleaned\n",
    "        GROUP BY page\n",
    "        ORDER BY user_counts DESC\n",
    "''').toPandas()"
   ]
  },
  {
   "cell_type": "markdown",
   "metadata": {},
   "source": [
    "- 52 users have clearly churned based on the visit to the page Cancellation Confirmation"
   ]
  },
  {
   "cell_type": "code",
   "execution_count": 48,
   "metadata": {},
   "outputs": [],
   "source": [
    "userAgent_count = spark.sql('''\n",
    "        SELECT userAgent,COUNT(DISTINCT userId) AS user_counts\n",
    "        FROM Sparkify_local_cleaned\n",
    "        GROUP BY userAgent\n",
    "        ORDER BY user_counts DESC\n",
    "''').toPandas()"
   ]
  },
  {
   "cell_type": "code",
   "execution_count": 49,
   "metadata": {},
   "outputs": [
    {
     "data": {
      "text/html": [
       "<div>\n",
       "<style scoped>\n",
       "    .dataframe tbody tr th:only-of-type {\n",
       "        vertical-align: middle;\n",
       "    }\n",
       "\n",
       "    .dataframe tbody tr th {\n",
       "        vertical-align: top;\n",
       "    }\n",
       "\n",
       "    .dataframe thead th {\n",
       "        text-align: right;\n",
       "    }\n",
       "</style>\n",
       "<table border=\"1\" class=\"dataframe\">\n",
       "  <thead>\n",
       "    <tr style=\"text-align: right;\">\n",
       "      <th></th>\n",
       "      <th>userAgent</th>\n",
       "      <th>user_counts</th>\n",
       "    </tr>\n",
       "  </thead>\n",
       "  <tbody>\n",
       "    <tr>\n",
       "      <th>0</th>\n",
       "      <td>\"Mozilla/5.0 (Windows NT 6.1; WOW64) AppleWebKit/537.36 (KHTML, like Gecko) Chrome/36.0.1985.143 Safari/537.36\"</td>\n",
       "      <td>24</td>\n",
       "    </tr>\n",
       "    <tr>\n",
       "      <th>1</th>\n",
       "      <td>Mozilla/5.0 (Windows NT 6.1; WOW64; rv:31.0) Gecko/20100101 Firefox/31.0</td>\n",
       "      <td>18</td>\n",
       "    </tr>\n",
       "    <tr>\n",
       "      <th>2</th>\n",
       "      <td>\"Mozilla/5.0 (Macintosh; Intel Mac OS X 10_9_4) AppleWebKit/537.36 (KHTML, like Gecko) Chrome/36.0.1985.125 Safari/537.36\"</td>\n",
       "      <td>16</td>\n",
       "    </tr>\n",
       "    <tr>\n",
       "      <th>3</th>\n",
       "      <td>\"Mozilla/5.0 (Macintosh; Intel Mac OS X 10_9_4) AppleWebKit/537.36 (KHTML, like Gecko) Chrome/36.0.1985.143 Safari/537.36\"</td>\n",
       "      <td>12</td>\n",
       "    </tr>\n",
       "    <tr>\n",
       "      <th>4</th>\n",
       "      <td>\"Mozilla/5.0 (Macintosh; Intel Mac OS X 10_9_4) AppleWebKit/537.77.4 (KHTML, like Gecko) Version/7.0.5 Safari/537.77.4\"</td>\n",
       "      <td>12</td>\n",
       "    </tr>\n",
       "    <tr>\n",
       "      <th>5</th>\n",
       "      <td>\"Mozilla/5.0 (Windows NT 6.1; WOW64) AppleWebKit/537.36 (KHTML, like Gecko) Chrome/36.0.1985.125 Safari/537.36\"</td>\n",
       "      <td>10</td>\n",
       "    </tr>\n",
       "    <tr>\n",
       "      <th>6</th>\n",
       "      <td>\"Mozilla/5.0 (Macintosh; Intel Mac OS X 10_9_4) AppleWebKit/537.78.2 (KHTML, like Gecko) Version/7.0.6 Safari/537.78.2\"</td>\n",
       "      <td>10</td>\n",
       "    </tr>\n",
       "    <tr>\n",
       "      <th>7</th>\n",
       "      <td>Mozilla/5.0 (Macintosh; Intel Mac OS X 10.9; rv:31.0) Gecko/20100101 Firefox/31.0</td>\n",
       "      <td>9</td>\n",
       "    </tr>\n",
       "    <tr>\n",
       "      <th>8</th>\n",
       "      <td>\"Mozilla/5.0 (iPhone; CPU iPhone OS 7_1_2 like Mac OS X) AppleWebKit/537.51.2 (KHTML, like Gecko) Version/7.0 Mobile/11D257 Safari/9537.53\"</td>\n",
       "      <td>8</td>\n",
       "    </tr>\n",
       "    <tr>\n",
       "      <th>9</th>\n",
       "      <td>\"Mozilla/5.0 (Windows NT 6.3; WOW64) AppleWebKit/537.36 (KHTML, like Gecko) Chrome/36.0.1985.143 Safari/537.36\"</td>\n",
       "      <td>7</td>\n",
       "    </tr>\n",
       "    <tr>\n",
       "      <th>10</th>\n",
       "      <td>\"Mozilla/5.0 (Macintosh; Intel Mac OS X 10_9_4) AppleWebKit/537.36 (KHTML, like Gecko) Chrome/37.0.2062.94 Safari/537.36\"</td>\n",
       "      <td>7</td>\n",
       "    </tr>\n",
       "    <tr>\n",
       "      <th>11</th>\n",
       "      <td>Mozilla/5.0 (Windows NT 6.1; WOW64; Trident/7.0; rv:11.0) like Gecko</td>\n",
       "      <td>7</td>\n",
       "    </tr>\n",
       "    <tr>\n",
       "      <th>12</th>\n",
       "      <td>\"Mozilla/5.0 (Windows NT 6.3; WOW64) AppleWebKit/537.36 (KHTML, like Gecko) Chrome/36.0.1985.125 Safari/537.36\"</td>\n",
       "      <td>5</td>\n",
       "    </tr>\n",
       "    <tr>\n",
       "      <th>13</th>\n",
       "      <td>\"Mozilla/5.0 (Windows NT 5.1) AppleWebKit/537.36 (KHTML, like Gecko) Chrome/36.0.1985.143 Safari/537.36\"</td>\n",
       "      <td>4</td>\n",
       "    </tr>\n",
       "    <tr>\n",
       "      <th>14</th>\n",
       "      <td>Mozilla/5.0 (Windows NT 6.3; WOW64; rv:31.0) Gecko/20100101 Firefox/31.0</td>\n",
       "      <td>4</td>\n",
       "    </tr>\n",
       "    <tr>\n",
       "      <th>15</th>\n",
       "      <td>\"Mozilla/5.0 (X11; Linux x86_64) AppleWebKit/537.36 (KHTML, like Gecko) Chrome/36.0.1985.143 Safari/537.36\"</td>\n",
       "      <td>4</td>\n",
       "    </tr>\n",
       "    <tr>\n",
       "      <th>16</th>\n",
       "      <td>\"Mozilla/5.0 (Windows NT 6.1) AppleWebKit/537.36 (KHTML, like Gecko) Chrome/36.0.1985.143 Safari/537.36\"</td>\n",
       "      <td>4</td>\n",
       "    </tr>\n",
       "    <tr>\n",
       "      <th>17</th>\n",
       "      <td>Mozilla/5.0 (X11; Ubuntu; Linux x86_64; rv:31.0) Gecko/20100101 Firefox/31.0</td>\n",
       "      <td>4</td>\n",
       "    </tr>\n",
       "    <tr>\n",
       "      <th>18</th>\n",
       "      <td>\"Mozilla/5.0 (Windows NT 6.1; WOW64) AppleWebKit/537.36 (KHTML, like Gecko) Chrome/37.0.2062.94 Safari/537.36\"</td>\n",
       "      <td>4</td>\n",
       "    </tr>\n",
       "    <tr>\n",
       "      <th>19</th>\n",
       "      <td>\"Mozilla/5.0 (iPhone; CPU iPhone OS 7_1 like Mac OS X) AppleWebKit/537.51.2 (KHTML, like Gecko) Version/7.0 Mobile/11D167 Safari/9537.53\"</td>\n",
       "      <td>4</td>\n",
       "    </tr>\n",
       "    <tr>\n",
       "      <th>20</th>\n",
       "      <td>Mozilla/5.0 (compatible; MSIE 9.0; Windows NT 6.1; WOW64; Trident/5.0)</td>\n",
       "      <td>3</td>\n",
       "    </tr>\n",
       "    <tr>\n",
       "      <th>21</th>\n",
       "      <td>\"Mozilla/5.0 (Windows NT 6.1; WOW64) AppleWebKit/537.36 (KHTML, like Gecko) Chrome/37.0.2062.103 Safari/537.36\"</td>\n",
       "      <td>3</td>\n",
       "    </tr>\n",
       "    <tr>\n",
       "      <th>22</th>\n",
       "      <td>Mozilla/5.0 (Windows NT 6.1; rv:31.0) Gecko/20100101 Firefox/31.0</td>\n",
       "      <td>3</td>\n",
       "    </tr>\n",
       "    <tr>\n",
       "      <th>23</th>\n",
       "      <td>\"Mozilla/5.0 (Macintosh; Intel Mac OS X 10_9_4) AppleWebKit/537.36 (KHTML, like Gecko) Chrome/35.0.1916.153 Safari/537.36\"</td>\n",
       "      <td>2</td>\n",
       "    </tr>\n",
       "    <tr>\n",
       "      <th>24</th>\n",
       "      <td>Mozilla/5.0 (Macintosh; Intel Mac OS X 10.7; rv:31.0) Gecko/20100101 Firefox/31.0</td>\n",
       "      <td>2</td>\n",
       "    </tr>\n",
       "    <tr>\n",
       "      <th>25</th>\n",
       "      <td>\"Mozilla/5.0 (iPad; CPU OS 7_1_2 like Mac OS X) AppleWebKit/537.51.2 (KHTML, like Gecko) Version/7.0 Mobile/11D257 Safari/9537.53\"</td>\n",
       "      <td>2</td>\n",
       "    </tr>\n",
       "    <tr>\n",
       "      <th>26</th>\n",
       "      <td>\"Mozilla/5.0 (Windows NT 6.2; WOW64) AppleWebKit/537.36 (KHTML, like Gecko) Chrome/36.0.1985.143 Safari/537.36\"</td>\n",
       "      <td>2</td>\n",
       "    </tr>\n",
       "    <tr>\n",
       "      <th>27</th>\n",
       "      <td>\"Mozilla/5.0 (Macintosh; Intel Mac OS X 10_7_5) AppleWebKit/537.77.4 (KHTML, like Gecko) Version/6.1.5 Safari/537.77.4\"</td>\n",
       "      <td>2</td>\n",
       "    </tr>\n",
       "    <tr>\n",
       "      <th>28</th>\n",
       "      <td>\"Mozilla/5.0 (Windows NT 6.1; WOW64) AppleWebKit/537.36 (KHTML, like Gecko) Chrome/35.0.1916.153 Safari/537.36\"</td>\n",
       "      <td>2</td>\n",
       "    </tr>\n",
       "    <tr>\n",
       "      <th>29</th>\n",
       "      <td>\"Mozilla/5.0 (Macintosh; Intel Mac OS X 10_10) AppleWebKit/600.1.8 (KHTML, like Gecko) Version/8.0 Safari/600.1.8\"</td>\n",
       "      <td>2</td>\n",
       "    </tr>\n",
       "  </tbody>\n",
       "</table>\n",
       "</div>"
      ],
      "text/plain": [
       "                                                                                                                                      userAgent  \\\n",
       "0   \"Mozilla/5.0 (Windows NT 6.1; WOW64) AppleWebKit/537.36 (KHTML, like Gecko) Chrome/36.0.1985.143 Safari/537.36\"                               \n",
       "1   Mozilla/5.0 (Windows NT 6.1; WOW64; rv:31.0) Gecko/20100101 Firefox/31.0                                                                      \n",
       "2   \"Mozilla/5.0 (Macintosh; Intel Mac OS X 10_9_4) AppleWebKit/537.36 (KHTML, like Gecko) Chrome/36.0.1985.125 Safari/537.36\"                    \n",
       "3   \"Mozilla/5.0 (Macintosh; Intel Mac OS X 10_9_4) AppleWebKit/537.36 (KHTML, like Gecko) Chrome/36.0.1985.143 Safari/537.36\"                    \n",
       "4   \"Mozilla/5.0 (Macintosh; Intel Mac OS X 10_9_4) AppleWebKit/537.77.4 (KHTML, like Gecko) Version/7.0.5 Safari/537.77.4\"                       \n",
       "5   \"Mozilla/5.0 (Windows NT 6.1; WOW64) AppleWebKit/537.36 (KHTML, like Gecko) Chrome/36.0.1985.125 Safari/537.36\"                               \n",
       "6   \"Mozilla/5.0 (Macintosh; Intel Mac OS X 10_9_4) AppleWebKit/537.78.2 (KHTML, like Gecko) Version/7.0.6 Safari/537.78.2\"                       \n",
       "7   Mozilla/5.0 (Macintosh; Intel Mac OS X 10.9; rv:31.0) Gecko/20100101 Firefox/31.0                                                             \n",
       "8   \"Mozilla/5.0 (iPhone; CPU iPhone OS 7_1_2 like Mac OS X) AppleWebKit/537.51.2 (KHTML, like Gecko) Version/7.0 Mobile/11D257 Safari/9537.53\"   \n",
       "9   \"Mozilla/5.0 (Windows NT 6.3; WOW64) AppleWebKit/537.36 (KHTML, like Gecko) Chrome/36.0.1985.143 Safari/537.36\"                               \n",
       "10  \"Mozilla/5.0 (Macintosh; Intel Mac OS X 10_9_4) AppleWebKit/537.36 (KHTML, like Gecko) Chrome/37.0.2062.94 Safari/537.36\"                     \n",
       "11  Mozilla/5.0 (Windows NT 6.1; WOW64; Trident/7.0; rv:11.0) like Gecko                                                                          \n",
       "12  \"Mozilla/5.0 (Windows NT 6.3; WOW64) AppleWebKit/537.36 (KHTML, like Gecko) Chrome/36.0.1985.125 Safari/537.36\"                               \n",
       "13  \"Mozilla/5.0 (Windows NT 5.1) AppleWebKit/537.36 (KHTML, like Gecko) Chrome/36.0.1985.143 Safari/537.36\"                                      \n",
       "14  Mozilla/5.0 (Windows NT 6.3; WOW64; rv:31.0) Gecko/20100101 Firefox/31.0                                                                      \n",
       "15  \"Mozilla/5.0 (X11; Linux x86_64) AppleWebKit/537.36 (KHTML, like Gecko) Chrome/36.0.1985.143 Safari/537.36\"                                   \n",
       "16  \"Mozilla/5.0 (Windows NT 6.1) AppleWebKit/537.36 (KHTML, like Gecko) Chrome/36.0.1985.143 Safari/537.36\"                                      \n",
       "17  Mozilla/5.0 (X11; Ubuntu; Linux x86_64; rv:31.0) Gecko/20100101 Firefox/31.0                                                                  \n",
       "18  \"Mozilla/5.0 (Windows NT 6.1; WOW64) AppleWebKit/537.36 (KHTML, like Gecko) Chrome/37.0.2062.94 Safari/537.36\"                                \n",
       "19  \"Mozilla/5.0 (iPhone; CPU iPhone OS 7_1 like Mac OS X) AppleWebKit/537.51.2 (KHTML, like Gecko) Version/7.0 Mobile/11D167 Safari/9537.53\"     \n",
       "20  Mozilla/5.0 (compatible; MSIE 9.0; Windows NT 6.1; WOW64; Trident/5.0)                                                                        \n",
       "21  \"Mozilla/5.0 (Windows NT 6.1; WOW64) AppleWebKit/537.36 (KHTML, like Gecko) Chrome/37.0.2062.103 Safari/537.36\"                               \n",
       "22  Mozilla/5.0 (Windows NT 6.1; rv:31.0) Gecko/20100101 Firefox/31.0                                                                             \n",
       "23  \"Mozilla/5.0 (Macintosh; Intel Mac OS X 10_9_4) AppleWebKit/537.36 (KHTML, like Gecko) Chrome/35.0.1916.153 Safari/537.36\"                    \n",
       "24  Mozilla/5.0 (Macintosh; Intel Mac OS X 10.7; rv:31.0) Gecko/20100101 Firefox/31.0                                                             \n",
       "25  \"Mozilla/5.0 (iPad; CPU OS 7_1_2 like Mac OS X) AppleWebKit/537.51.2 (KHTML, like Gecko) Version/7.0 Mobile/11D257 Safari/9537.53\"            \n",
       "26  \"Mozilla/5.0 (Windows NT 6.2; WOW64) AppleWebKit/537.36 (KHTML, like Gecko) Chrome/36.0.1985.143 Safari/537.36\"                               \n",
       "27  \"Mozilla/5.0 (Macintosh; Intel Mac OS X 10_7_5) AppleWebKit/537.77.4 (KHTML, like Gecko) Version/6.1.5 Safari/537.77.4\"                       \n",
       "28  \"Mozilla/5.0 (Windows NT 6.1; WOW64) AppleWebKit/537.36 (KHTML, like Gecko) Chrome/35.0.1916.153 Safari/537.36\"                               \n",
       "29  \"Mozilla/5.0 (Macintosh; Intel Mac OS X 10_10) AppleWebKit/600.1.8 (KHTML, like Gecko) Version/8.0 Safari/600.1.8\"                            \n",
       "\n",
       "    user_counts  \n",
       "0   24           \n",
       "1   18           \n",
       "2   16           \n",
       "3   12           \n",
       "4   12           \n",
       "5   10           \n",
       "6   10           \n",
       "7   9            \n",
       "8   8            \n",
       "9   7            \n",
       "10  7            \n",
       "11  7            \n",
       "12  5            \n",
       "13  4            \n",
       "14  4            \n",
       "15  4            \n",
       "16  4            \n",
       "17  4            \n",
       "18  4            \n",
       "19  4            \n",
       "20  3            \n",
       "21  3            \n",
       "22  3            \n",
       "23  2            \n",
       "24  2            \n",
       "25  2            \n",
       "26  2            \n",
       "27  2            \n",
       "28  2            \n",
       "29  2            "
      ]
     },
     "execution_count": 49,
     "metadata": {},
     "output_type": "execute_result"
    }
   ],
   "source": [
    "pd.set_option('display.max_colwidth', -1)\n",
    "userAgent_count.head(30)"
   ]
  },
  {
   "cell_type": "code",
   "execution_count": 50,
   "metadata": {},
   "outputs": [],
   "source": [
    "def get_browser(x):\n",
    "    '''\n",
    "    Input: A String containing User agent information\n",
    "    Output: Type of User Browser or NaN\n",
    "    '''\n",
    "    if 'Firefox' in x:\n",
    "        return 'Firefox'\n",
    "    elif 'Safari' in x:\n",
    "        if 'Chrome' in x:\n",
    "            return 'Chrome'\n",
    "        else:\n",
    "            return 'Safari'\n",
    "    elif 'Trident' in x:\n",
    "        return 'IE'\n",
    "    else:\n",
    "        return np.NaN"
   ]
  },
  {
   "cell_type": "code",
   "execution_count": 51,
   "metadata": {},
   "outputs": [],
   "source": [
    "userAgent_count['browser'] = userAgent_count['userAgent'].apply(get_browser)"
   ]
  },
  {
   "cell_type": "code",
   "execution_count": 52,
   "metadata": {},
   "outputs": [
    {
     "data": {
      "image/png": "[encoded data removed]",
      "text/plain": [
       "<matplotlib.figure.Figure at 0x7f75cddaab38>"
      ]
     },
     "metadata": {},
     "output_type": "display_data"
    }
   ],
   "source": [
    "\n",
    "userAgent_count.groupby('browser')['user_counts'].sum().sort_values().plot(kind='bar' ,figsize=(10,5));"
   ]
  },
  {
   "cell_type": "code",
   "execution_count": 53,
   "metadata": {},
   "outputs": [],
   "source": [
    "platform_dict = {'compatible': 'Windows',  'iPad': 'iPad',  'iPhone': 'iPhone',  \n",
    "          'Macintosh': 'Mac',  'Windows NT 5.1': 'Windows','Windows NT 6.0': 'Windows', 'Windows NT 6.1': 'Windows',  \n",
    "          'Windows NT 6.2': 'Windows',  'Windows NT 6.3': 'Windows', 'X11': 'Linux'}"
   ]
  },
  {
   "cell_type": "code",
   "execution_count": 54,
   "metadata": {},
   "outputs": [],
   "source": [
    "userAgent_count['platform'] = userAgent_count['userAgent'].str.extract(r'\\(([^\\)]*)\\)')[0].str.split(';').str[0].map(platform_dict)"
   ]
  },
  {
   "cell_type": "code",
   "execution_count": 55,
   "metadata": {},
   "outputs": [
    {
     "data": {
      "text/plain": [
       "(56, 4)"
      ]
     },
     "execution_count": 55,
     "metadata": {},
     "output_type": "execute_result"
    }
   ],
   "source": [
    "userAgent_count.shape"
   ]
  },
  {
   "cell_type": "code",
   "execution_count": 56,
   "metadata": {},
   "outputs": [
    {
     "data": {
      "image/png": "[encoded data removed]",
      "text/plain": [
       "<matplotlib.figure.Figure at 0x7f75cdddb860>"
      ]
     },
     "metadata": {},
     "output_type": "display_data"
    }
   ],
   "source": [
    "userAgent_count.groupby('platform')['user_counts'].sum().sort_values().plot(kind='bar',figsize=(10,5));\n"
   ]
  },
  {
   "cell_type": "code",
   "execution_count": 57,
   "metadata": {},
   "outputs": [],
   "source": [
    "time_data = spark.sql('''\n",
    "        SELECT act_time,userId\n",
    "        FROM Sparkify_local_cleaned\n",
    "''').toPandas()"
   ]
  },
  {
   "cell_type": "code",
   "execution_count": 58,
   "metadata": {},
   "outputs": [],
   "source": [
    "time_data['act_time'] = pd.to_datetime(time_data['act_time'])"
   ]
  },
  {
   "cell_type": "code",
   "execution_count": 59,
   "metadata": {},
   "outputs": [],
   "source": [
    "weekday_dict = {0:'Mon.',1:'Tues.',2:'Wed.',3:'Thur.',4:'Fri.',5:'Sat.',6:'Sun.'}\n",
    "time_data['dayofweek'] = time_data['act_time'].dt.weekday.map(weekday_dict)\n",
    "time_data['day'] = time_data['act_time'].dt.day\n",
    "time_data['hour'] = time_data['act_time'].dt.hour"
   ]
  },
  {
   "cell_type": "code",
   "execution_count": 60,
   "metadata": {},
   "outputs": [
    {
     "data": {
      "image/png": "[encoded data removed]",
      "text/plain": [
       "<matplotlib.figure.Figure at 0x7f75c282c908>"
      ]
     },
     "metadata": {},
     "output_type": "display_data"
    }
   ],
   "source": [
    "time_data.groupby('dayofweek')['userId'].count().loc[list(weekday_dict.values())].plot(kind='bar',figsize=(10,5));"
   ]
  },
  {
   "cell_type": "code",
   "execution_count": 61,
   "metadata": {},
   "outputs": [
    {
     "data": {
      "image/png": "[encoded data removed]",
      "text/plain": [
       "<matplotlib.figure.Figure at 0x7f75cdeee780>"
      ]
     },
     "metadata": {},
     "output_type": "display_data"
    }
   ],
   "source": [
    "time_data.groupby('day')['userId'].count().plot(kind='bar' , figsize=(10,5));"
   ]
  },
  {
   "cell_type": "code",
   "execution_count": 62,
   "metadata": {},
   "outputs": [
    {
     "data": {
      "image/png": "[encoded data removed]",
      "text/plain": [
       "<matplotlib.figure.Figure at 0x7f75c6bb81d0>"
      ]
     },
     "metadata": {},
     "output_type": "display_data"
    }
   ],
   "source": [
    "time_data.groupby('hour')['userId'].count().plot(kind='bar' ,figsize=(10,5));"
   ]
  },
  {
   "cell_type": "markdown",
   "metadata": {},
   "source": [
    "# Exploratory Data Analysis\n",
    "When you're working with the full dataset, perform EDA by loading a small subset of the data and doing basic manipulations within Spark. In this workspace, you are already provided a small subset of data you can explore.\n",
    "\n",
    "### Define Churn\n",
    "\n",
    "Once you've done some preliminary analysis, create a column `Churn` to use as the label for your model. I suggest using the `Cancellation Confirmation` events to define your churn, which happen for both paid and free users. As a bonus task, you can also look into the `Downgrade` events.\n",
    "\n",
    "### Explore Data\n",
    "Once you've defined churn, perform some exploratory data analysis to observe the behavior for users who stayed vs users who churned. You can start by exploring aggregates on these two groups of users, observing how much of a specific action they experienced per a certain time unit or number of songs played."
   ]
  },
  {
   "cell_type": "code",
   "execution_count": 63,
   "metadata": {},
   "outputs": [],
   "source": [
    "#define an udf to transform event to 0 or 1\n",
    "flag_event = udf(lambda x : 1 if x=='Cancellation Confirmation' else 0, IntegerType())"
   ]
  },
  {
   "cell_type": "code",
   "execution_count": 64,
   "metadata": {},
   "outputs": [],
   "source": [
    "#define the current churn or not state\n",
    "df_cleaned_cancel = df.withColumn('Churn_state',flag_event('page'))"
   ]
  },
  {
   "cell_type": "code",
   "execution_count": 65,
   "metadata": {},
   "outputs": [
    {
     "name": "stdout",
     "output_type": "stream",
     "text": [
      "+--------------------+\n",
      "|                page|\n",
      "+--------------------+\n",
      "|              Cancel|\n",
      "|    Submit Downgrade|\n",
      "|         Thumbs Down|\n",
      "|                Home|\n",
      "|           Downgrade|\n",
      "|         Roll Advert|\n",
      "|              Logout|\n",
      "|       Save Settings|\n",
      "|Cancellation Conf...|\n",
      "|               About|\n",
      "|            Settings|\n",
      "|     Add to Playlist|\n",
      "|          Add Friend|\n",
      "|            NextSong|\n",
      "|           Thumbs Up|\n",
      "|                Help|\n",
      "|             Upgrade|\n",
      "|               Error|\n",
      "|      Submit Upgrade|\n",
      "+--------------------+\n",
      "\n"
     ]
    }
   ],
   "source": [
    "df_cleaned_cancel.select(\"page\").dropDuplicates().show()"
   ]
  },
  {
   "cell_type": "code",
   "execution_count": 66,
   "metadata": {},
   "outputs": [
    {
     "name": "stdout",
     "output_type": "stream",
     "text": [
      "+------+\n",
      "|userId|\n",
      "+------+\n",
      "|   125|\n",
      "|    51|\n",
      "|    54|\n",
      "|100014|\n",
      "|   101|\n",
      "|    29|\n",
      "|100021|\n",
      "|    87|\n",
      "|    73|\n",
      "|     3|\n",
      "+------+\n",
      "only showing top 10 rows\n",
      "\n"
     ]
    }
   ],
   "source": [
    "df_cleaned_cancel.filter(df_cleaned_cancel.page==\"Cancellation Confirmation\").select(\"userId\").dropDuplicates().show(10)"
   ]
  },
  {
   "cell_type": "code",
   "execution_count": 67,
   "metadata": {},
   "outputs": [
    {
     "data": {
      "text/plain": [
       "['artist',\n",
       " 'auth',\n",
       " 'gender',\n",
       " 'itemInSession',\n",
       " 'length',\n",
       " 'level',\n",
       " 'location',\n",
       " 'method',\n",
       " 'page',\n",
       " 'registration',\n",
       " 'sessionId',\n",
       " 'song',\n",
       " 'status',\n",
       " 'ts',\n",
       " 'userAgent',\n",
       " 'userId',\n",
       " 'act_time',\n",
       " 'registration_ts',\n",
       " 'Churn_state']"
      ]
     },
     "execution_count": 67,
     "metadata": {},
     "output_type": "execute_result"
    }
   ],
   "source": [
    "df_cleaned_cancel.columns"
   ]
  },
  {
   "cell_type": "code",
   "execution_count": 68,
   "metadata": {},
   "outputs": [
    {
     "name": "stdout",
     "output_type": "stream",
     "text": [
      "+------+--------------------+-------------------+-----+--------------------+---------+\n",
      "|userId|                page|           act_time|level|                song|sessionId|\n",
      "+------+--------------------+-------------------+-----+--------------------+---------+\n",
      "|   125|            NextSong|2018-10-12 04:05:44| free|    paranoid android|      174|\n",
      "|   125|            NextSong|2018-10-12 04:11:21| free|Hypnotize(Album V...|      174|\n",
      "|   125|            NextSong|2018-10-12 04:15:11| free|       I'm On My Way|      174|\n",
      "|   125|            NextSong|2018-10-12 04:18:34| free|Leader Of Men (Al...|      174|\n",
      "|   125|            NextSong|2018-10-12 04:22:04| free|       Love You Down|      174|\n",
      "|   125|            NextSong|2018-10-12 04:28:35| free|Don't Leave Me Be...|      174|\n",
      "|   125|            NextSong|2018-10-12 04:32:08| free|     They're Red Hot|      174|\n",
      "|   125|            NextSong|2018-10-12 04:35:06| free|                Kota|      174|\n",
      "|   125|         Roll Advert|2018-10-12 04:35:17| free|                null|      174|\n",
      "|   125|              Cancel|2018-10-12 04:35:18| free|                null|      174|\n",
      "|   125|Cancellation Conf...|2018-10-12 04:35:18| free|                null|      174|\n",
      "+------+--------------------+-------------------+-----+--------------------+---------+\n",
      "\n"
     ]
    }
   ],
   "source": [
    "df_cleaned_cancel.select([\"userId\", \"page\", \"act_time\", \"level\", \"song\", \"sessionId\"]).where(df_cleaned_cancel.userId == \"125\").sort(\"act_time\").show(20)"
   ]
  },
  {
   "cell_type": "code",
   "execution_count": 69,
   "metadata": {},
   "outputs": [],
   "source": [
    "#mark the user who have churned event\n",
    "userwindow = Window.partitionBy('userId').rangeBetween(Window.unboundedPreceding,Window.unboundedFollowing)\n",
    "df_cleaned_cancel = df_cleaned_cancel.withColumn('Churn',fmax('Churn_state').over(userwindow))"
   ]
  },
  {
   "cell_type": "code",
   "execution_count": 70,
   "metadata": {},
   "outputs": [
    {
     "data": {
      "text/html": [
       "<div>\n",
       "<style scoped>\n",
       "    .dataframe tbody tr th:only-of-type {\n",
       "        vertical-align: middle;\n",
       "    }\n",
       "\n",
       "    .dataframe tbody tr th {\n",
       "        vertical-align: top;\n",
       "    }\n",
       "\n",
       "    .dataframe thead th {\n",
       "        text-align: right;\n",
       "    }\n",
       "</style>\n",
       "<table border=\"1\" class=\"dataframe\">\n",
       "  <thead>\n",
       "    <tr style=\"text-align: right;\">\n",
       "      <th></th>\n",
       "      <th>artist</th>\n",
       "      <th>auth</th>\n",
       "      <th>gender</th>\n",
       "      <th>itemInSession</th>\n",
       "      <th>length</th>\n",
       "      <th>level</th>\n",
       "      <th>location</th>\n",
       "      <th>method</th>\n",
       "      <th>page</th>\n",
       "      <th>registration</th>\n",
       "      <th>sessionId</th>\n",
       "      <th>song</th>\n",
       "      <th>status</th>\n",
       "      <th>ts</th>\n",
       "      <th>userAgent</th>\n",
       "      <th>userId</th>\n",
       "      <th>act_time</th>\n",
       "      <th>registration_ts</th>\n",
       "      <th>Churn_state</th>\n",
       "      <th>Churn</th>\n",
       "    </tr>\n",
       "  </thead>\n",
       "  <tbody>\n",
       "    <tr>\n",
       "      <th>0</th>\n",
       "      <td>Sleeping With Sirens</td>\n",
       "      <td>Logged In</td>\n",
       "      <td>F</td>\n",
       "      <td>0</td>\n",
       "      <td>202.97098</td>\n",
       "      <td>free</td>\n",
       "      <td>Bridgeport-Stamford-Norwalk, CT</td>\n",
       "      <td>PUT</td>\n",
       "      <td>NextSong</td>\n",
       "      <td>1538016340000</td>\n",
       "      <td>31</td>\n",
       "      <td>Captain Tyin Knots VS Mr Walkway (No Way)</td>\n",
       "      <td>200</td>\n",
       "      <td>1539003534000</td>\n",
       "      <td>\"Mozilla/5.0 (iPhone; CPU iPhone OS 7_1_2 like Mac OS X) AppleWebKit/537.51.2 (KHTML, like Gecko) Version/7.0 Mobile/11D257 Safari/9537.53\"</td>\n",
       "      <td>100010</td>\n",
       "      <td>2018-10-08 12:58:54</td>\n",
       "      <td>2018-09-27 02:45:40</td>\n",
       "      <td>0</td>\n",
       "      <td>0</td>\n",
       "    </tr>\n",
       "    <tr>\n",
       "      <th>1</th>\n",
       "      <td>Francesca Battistelli</td>\n",
       "      <td>Logged In</td>\n",
       "      <td>F</td>\n",
       "      <td>1</td>\n",
       "      <td>196.54485</td>\n",
       "      <td>free</td>\n",
       "      <td>Bridgeport-Stamford-Norwalk, CT</td>\n",
       "      <td>PUT</td>\n",
       "      <td>NextSong</td>\n",
       "      <td>1538016340000</td>\n",
       "      <td>31</td>\n",
       "      <td>Beautiful_ Beautiful (Album)</td>\n",
       "      <td>200</td>\n",
       "      <td>1539003736000</td>\n",
       "      <td>\"Mozilla/5.0 (iPhone; CPU iPhone OS 7_1_2 like Mac OS X) AppleWebKit/537.51.2 (KHTML, like Gecko) Version/7.0 Mobile/11D257 Safari/9537.53\"</td>\n",
       "      <td>100010</td>\n",
       "      <td>2018-10-08 13:02:16</td>\n",
       "      <td>2018-09-27 02:45:40</td>\n",
       "      <td>0</td>\n",
       "      <td>0</td>\n",
       "    </tr>\n",
       "    <tr>\n",
       "      <th>2</th>\n",
       "      <td>Brutha</td>\n",
       "      <td>Logged In</td>\n",
       "      <td>F</td>\n",
       "      <td>2</td>\n",
       "      <td>263.13098</td>\n",
       "      <td>free</td>\n",
       "      <td>Bridgeport-Stamford-Norwalk, CT</td>\n",
       "      <td>PUT</td>\n",
       "      <td>NextSong</td>\n",
       "      <td>1538016340000</td>\n",
       "      <td>31</td>\n",
       "      <td>She's Gone</td>\n",
       "      <td>200</td>\n",
       "      <td>1539003932000</td>\n",
       "      <td>\"Mozilla/5.0 (iPhone; CPU iPhone OS 7_1_2 like Mac OS X) AppleWebKit/537.51.2 (KHTML, like Gecko) Version/7.0 Mobile/11D257 Safari/9537.53\"</td>\n",
       "      <td>100010</td>\n",
       "      <td>2018-10-08 13:05:32</td>\n",
       "      <td>2018-09-27 02:45:40</td>\n",
       "      <td>0</td>\n",
       "      <td>0</td>\n",
       "    </tr>\n",
       "    <tr>\n",
       "      <th>3</th>\n",
       "      <td>None</td>\n",
       "      <td>Logged In</td>\n",
       "      <td>F</td>\n",
       "      <td>3</td>\n",
       "      <td>NaN</td>\n",
       "      <td>free</td>\n",
       "      <td>Bridgeport-Stamford-Norwalk, CT</td>\n",
       "      <td>PUT</td>\n",
       "      <td>Thumbs Up</td>\n",
       "      <td>1538016340000</td>\n",
       "      <td>31</td>\n",
       "      <td>None</td>\n",
       "      <td>307</td>\n",
       "      <td>1539003933000</td>\n",
       "      <td>\"Mozilla/5.0 (iPhone; CPU iPhone OS 7_1_2 like Mac OS X) AppleWebKit/537.51.2 (KHTML, like Gecko) Version/7.0 Mobile/11D257 Safari/9537.53\"</td>\n",
       "      <td>100010</td>\n",
       "      <td>2018-10-08 13:05:33</td>\n",
       "      <td>2018-09-27 02:45:40</td>\n",
       "      <td>0</td>\n",
       "      <td>0</td>\n",
       "    </tr>\n",
       "    <tr>\n",
       "      <th>4</th>\n",
       "      <td>Josh Ritter</td>\n",
       "      <td>Logged In</td>\n",
       "      <td>F</td>\n",
       "      <td>4</td>\n",
       "      <td>316.23791</td>\n",
       "      <td>free</td>\n",
       "      <td>Bridgeport-Stamford-Norwalk, CT</td>\n",
       "      <td>PUT</td>\n",
       "      <td>NextSong</td>\n",
       "      <td>1538016340000</td>\n",
       "      <td>31</td>\n",
       "      <td>Folk Bloodbath</td>\n",
       "      <td>200</td>\n",
       "      <td>1539004195000</td>\n",
       "      <td>\"Mozilla/5.0 (iPhone; CPU iPhone OS 7_1_2 like Mac OS X) AppleWebKit/537.51.2 (KHTML, like Gecko) Version/7.0 Mobile/11D257 Safari/9537.53\"</td>\n",
       "      <td>100010</td>\n",
       "      <td>2018-10-08 13:09:55</td>\n",
       "      <td>2018-09-27 02:45:40</td>\n",
       "      <td>0</td>\n",
       "      <td>0</td>\n",
       "    </tr>\n",
       "  </tbody>\n",
       "</table>\n",
       "</div>"
      ],
      "text/plain": [
       "                  artist       auth gender  itemInSession     length level  \\\n",
       "0  Sleeping With Sirens   Logged In  F      0              202.97098  free   \n",
       "1  Francesca Battistelli  Logged In  F      1              196.54485  free   \n",
       "2  Brutha                 Logged In  F      2              263.13098  free   \n",
       "3  None                   Logged In  F      3             NaN         free   \n",
       "4  Josh Ritter            Logged In  F      4              316.23791  free   \n",
       "\n",
       "                          location method       page   registration  \\\n",
       "0  Bridgeport-Stamford-Norwalk, CT  PUT    NextSong   1538016340000   \n",
       "1  Bridgeport-Stamford-Norwalk, CT  PUT    NextSong   1538016340000   \n",
       "2  Bridgeport-Stamford-Norwalk, CT  PUT    NextSong   1538016340000   \n",
       "3  Bridgeport-Stamford-Norwalk, CT  PUT    Thumbs Up  1538016340000   \n",
       "4  Bridgeport-Stamford-Norwalk, CT  PUT    NextSong   1538016340000   \n",
       "\n",
       "   sessionId                                       song  status  \\\n",
       "0  31         Captain Tyin Knots VS Mr Walkway (No Way)  200      \n",
       "1  31         Beautiful_ Beautiful (Album)               200      \n",
       "2  31         She's Gone                                 200      \n",
       "3  31         None                                       307      \n",
       "4  31         Folk Bloodbath                             200      \n",
       "\n",
       "              ts  \\\n",
       "0  1539003534000   \n",
       "1  1539003736000   \n",
       "2  1539003932000   \n",
       "3  1539003933000   \n",
       "4  1539004195000   \n",
       "\n",
       "                                                                                                                                     userAgent  \\\n",
       "0  \"Mozilla/5.0 (iPhone; CPU iPhone OS 7_1_2 like Mac OS X) AppleWebKit/537.51.2 (KHTML, like Gecko) Version/7.0 Mobile/11D257 Safari/9537.53\"   \n",
       "1  \"Mozilla/5.0 (iPhone; CPU iPhone OS 7_1_2 like Mac OS X) AppleWebKit/537.51.2 (KHTML, like Gecko) Version/7.0 Mobile/11D257 Safari/9537.53\"   \n",
       "2  \"Mozilla/5.0 (iPhone; CPU iPhone OS 7_1_2 like Mac OS X) AppleWebKit/537.51.2 (KHTML, like Gecko) Version/7.0 Mobile/11D257 Safari/9537.53\"   \n",
       "3  \"Mozilla/5.0 (iPhone; CPU iPhone OS 7_1_2 like Mac OS X) AppleWebKit/537.51.2 (KHTML, like Gecko) Version/7.0 Mobile/11D257 Safari/9537.53\"   \n",
       "4  \"Mozilla/5.0 (iPhone; CPU iPhone OS 7_1_2 like Mac OS X) AppleWebKit/537.51.2 (KHTML, like Gecko) Version/7.0 Mobile/11D257 Safari/9537.53\"   \n",
       "\n",
       "   userId             act_time      registration_ts  Churn_state  Churn  \n",
       "0  100010  2018-10-08 12:58:54  2018-09-27 02:45:40  0            0      \n",
       "1  100010  2018-10-08 13:02:16  2018-09-27 02:45:40  0            0      \n",
       "2  100010  2018-10-08 13:05:32  2018-09-27 02:45:40  0            0      \n",
       "3  100010  2018-10-08 13:05:33  2018-09-27 02:45:40  0            0      \n",
       "4  100010  2018-10-08 13:09:55  2018-09-27 02:45:40  0            0      "
      ]
     },
     "execution_count": 70,
     "metadata": {},
     "output_type": "execute_result"
    }
   ],
   "source": [
    "df_cleaned_cancel.limit(5).toPandas()"
   ]
  },
  {
   "cell_type": "code",
   "execution_count": 71,
   "metadata": {},
   "outputs": [
    {
     "data": {
      "text/plain": [
       "[Row(Churn=1, count=52), Row(Churn=0, count=173)]"
      ]
     },
     "execution_count": 71,
     "metadata": {},
     "output_type": "execute_result"
    }
   ],
   "source": [
    "df_cleaned_cancel.dropDuplicates(['userId']).select('Churn').groupby('Churn').count().collect()"
   ]
  },
  {
   "cell_type": "code",
   "execution_count": 72,
   "metadata": {},
   "outputs": [
    {
     "name": "stdout",
     "output_type": "stream",
     "text": [
      "+-----+---------+-----+\n",
      "|Churn|     auth|count|\n",
      "+-----+---------+-----+\n",
      "|    0|Logged In|  173|\n",
      "|    1|Logged In|   52|\n",
      "+-----+---------+-----+\n",
      "\n"
     ]
    }
   ],
   "source": [
    "df_cleaned_cancel.dropDuplicates([\"userId\"]).groupby([\"Churn\", \"auth\"]).count().sort(\"Churn\").show()"
   ]
  },
  {
   "cell_type": "code",
   "execution_count": 73,
   "metadata": {},
   "outputs": [
    {
     "data": {
      "image/png": "[encoded data removed]",
      "text/plain": [
       "<matplotlib.figure.Figure at 0x7f75cde46748>"
      ]
     },
     "metadata": {},
     "output_type": "display_data"
    }
   ],
   "source": [
    "fig_dims = (10, 5)\n",
    "fig, ax = plt.subplots(figsize=fig_dims)\n",
    "df_pd = df_cleaned_cancel.dropDuplicates([\"userId\", \"auth\"]).groupby([\"Churn\", \"auth\"]).count().sort(\"Churn\").toPandas()\n",
    "sns.barplot(x='Churn', y='count', hue='auth', ax=ax, data=df_pd, palette=\"Blues_d\");"
   ]
  },
  {
   "cell_type": "markdown",
   "metadata": {},
   "source": [
    "- auth has no bearing on churn, It can be dropped"
   ]
  },
  {
   "cell_type": "code",
   "execution_count": 74,
   "metadata": {},
   "outputs": [
    {
     "name": "stdout",
     "output_type": "stream",
     "text": [
      "+-----+------+-----+\n",
      "|Churn|gender|count|\n",
      "+-----+------+-----+\n",
      "|    0|     M|   89|\n",
      "|    0|     F|   84|\n",
      "|    1|     F|   20|\n",
      "|    1|     M|   32|\n",
      "+-----+------+-----+\n",
      "\n"
     ]
    }
   ],
   "source": [
    "df_cleaned_cancel.dropDuplicates([\"userId\", \"gender\"]).groupby([\"Churn\", \"gender\"]).count().sort(\"Churn\").show()"
   ]
  },
  {
   "cell_type": "code",
   "execution_count": 75,
   "metadata": {},
   "outputs": [
    {
     "data": {
      "image/png": "[encoded data removed]",
      "text/plain": [
       "<matplotlib.figure.Figure at 0x7f75c378ab70>"
      ]
     },
     "metadata": {},
     "output_type": "display_data"
    }
   ],
   "source": [
    "fig_dims = (10, 5)\n",
    "fig, ax = plt.subplots(figsize=fig_dims)\n",
    "df_pd = df_cleaned_cancel.dropDuplicates([\"userId\", \"gender\"]).groupby([\"Churn\", \"gender\"]).count().sort(\"Churn\").toPandas()\n",
    "sns.barplot(x='Churn', y='count', hue='gender', ax = ax, data=df_pd, palette=\"Blues_d\");"
   ]
  },
  {
   "cell_type": "code",
   "execution_count": 76,
   "metadata": {},
   "outputs": [
    {
     "data": {
      "text/plain": [
       "(1.2800974409737422, 0.20051086855629463)"
      ]
     },
     "execution_count": 76,
     "metadata": {},
     "output_type": "execute_result"
    }
   ],
   "source": [
    "proportions_ztest([32,20],[121,104],alternative='two-sided')"
   ]
  },
  {
   "cell_type": "code",
   "execution_count": 77,
   "metadata": {},
   "outputs": [
    {
     "name": "stdout",
     "output_type": "stream",
     "text": [
      "+-----+------------------+------------------+----------+----------+\n",
      "|Churn|       mean_length|      stdev_length|max_length|min_length|\n",
      "+-----+------------------+------------------+----------+----------+\n",
      "|    1|248.63279564406218|102.38497717575477|3024.66567|   4.04853|\n",
      "|    0|249.20913538880816|  98.6258830014688|3024.66567|   0.78322|\n",
      "+-----+------------------+------------------+----------+----------+\n",
      "\n"
     ]
    }
   ],
   "source": [
    "df_cleaned_cancel.select([\"Churn\", \"length\"]).groupby([\"Churn\"]).agg(avg('length').alias('mean_length'), \n",
    "                                                                     stddev('length').alias('stdev_length'),\n",
    "                                                                    fmax('length').alias('max_length'),\n",
    "                                                                    fmin('length').alias('min_length')).show()"
   ]
  },
  {
   "cell_type": "code",
   "execution_count": 78,
   "metadata": {},
   "outputs": [
    {
     "name": "stdout",
     "output_type": "stream",
     "text": [
      "+-----+-----+-----+\n",
      "|Churn|level|count|\n",
      "+-----+-----+-----+\n",
      "|    0| free|  133|\n",
      "|    0| paid|   40|\n",
      "|    1| paid|    8|\n",
      "|    1| free|   44|\n",
      "+-----+-----+-----+\n",
      "\n"
     ]
    }
   ],
   "source": [
    "df_cleaned_cancel.dropDuplicates([\"userId\"]).groupby([\"Churn\", \"level\"]).count().sort(\"Churn\").show()"
   ]
  },
  {
   "cell_type": "code",
   "execution_count": 79,
   "metadata": {},
   "outputs": [
    {
     "data": {
      "text/plain": [
       "(-1.194176507959015, 0.23240893045643263)"
      ]
     },
     "execution_count": 79,
     "metadata": {},
     "output_type": "execute_result"
    }
   ],
   "source": [
    "proportions_ztest([8,44],[48,177],alternative='two-sided')"
   ]
  },
  {
   "cell_type": "code",
   "execution_count": 80,
   "metadata": {},
   "outputs": [
    {
     "data": {
      "image/png": "[encoded data removed]",
      "text/plain": [
       "<matplotlib.figure.Figure at 0x7f75c2b2fb00>"
      ]
     },
     "metadata": {},
     "output_type": "display_data"
    }
   ],
   "source": [
    "fig_dims = (10, 5)\n",
    "fig, ax = plt.subplots(figsize=fig_dims)\n",
    "df_pd = df_cleaned_cancel.dropDuplicates([\"userId\", \"gender\"]).groupby([\"Churn\", \"level\"]).count().sort(\"Churn\").toPandas()\n",
    "sns.barplot(x='Churn', y='count', hue='level', ax = ax, data=df_pd, palette=\"Blues_d\");"
   ]
  },
  {
   "cell_type": "code",
   "execution_count": 81,
   "metadata": {},
   "outputs": [
    {
     "data": {
      "text/html": [
       "<div>\n",
       "<style scoped>\n",
       "    .dataframe tbody tr th:only-of-type {\n",
       "        vertical-align: middle;\n",
       "    }\n",
       "\n",
       "    .dataframe tbody tr th {\n",
       "        vertical-align: top;\n",
       "    }\n",
       "\n",
       "    .dataframe thead th {\n",
       "        text-align: right;\n",
       "    }\n",
       "</style>\n",
       "<table border=\"1\" class=\"dataframe\">\n",
       "  <thead>\n",
       "    <tr style=\"text-align: right;\">\n",
       "      <th></th>\n",
       "      <th>artist</th>\n",
       "      <th>auth</th>\n",
       "      <th>gender</th>\n",
       "      <th>itemInSession</th>\n",
       "      <th>length</th>\n",
       "      <th>level</th>\n",
       "      <th>location</th>\n",
       "      <th>method</th>\n",
       "      <th>page</th>\n",
       "      <th>registration</th>\n",
       "      <th>sessionId</th>\n",
       "      <th>song</th>\n",
       "      <th>status</th>\n",
       "      <th>ts</th>\n",
       "      <th>userAgent</th>\n",
       "      <th>userId</th>\n",
       "      <th>act_time</th>\n",
       "      <th>registration_ts</th>\n",
       "      <th>Churn_state</th>\n",
       "      <th>Churn</th>\n",
       "    </tr>\n",
       "  </thead>\n",
       "  <tbody>\n",
       "    <tr>\n",
       "      <th>0</th>\n",
       "      <td>Sleeping With Sirens</td>\n",
       "      <td>Logged In</td>\n",
       "      <td>F</td>\n",
       "      <td>0</td>\n",
       "      <td>202.97098</td>\n",
       "      <td>free</td>\n",
       "      <td>Bridgeport-Stamford-Norwalk, CT</td>\n",
       "      <td>PUT</td>\n",
       "      <td>NextSong</td>\n",
       "      <td>1538016340000</td>\n",
       "      <td>31</td>\n",
       "      <td>Captain Tyin Knots VS Mr Walkway (No Way)</td>\n",
       "      <td>200</td>\n",
       "      <td>1539003534000</td>\n",
       "      <td>\"Mozilla/5.0 (iPhone; CPU iPhone OS 7_1_2 like Mac OS X) AppleWebKit/537.51.2 (KHTML, like Gecko) Version/7.0 Mobile/11D257 Safari/9537.53\"</td>\n",
       "      <td>100010</td>\n",
       "      <td>2018-10-08 12:58:54</td>\n",
       "      <td>2018-09-27 02:45:40</td>\n",
       "      <td>0</td>\n",
       "      <td>0</td>\n",
       "    </tr>\n",
       "    <tr>\n",
       "      <th>1</th>\n",
       "      <td>Francesca Battistelli</td>\n",
       "      <td>Logged In</td>\n",
       "      <td>F</td>\n",
       "      <td>1</td>\n",
       "      <td>196.54485</td>\n",
       "      <td>free</td>\n",
       "      <td>Bridgeport-Stamford-Norwalk, CT</td>\n",
       "      <td>PUT</td>\n",
       "      <td>NextSong</td>\n",
       "      <td>1538016340000</td>\n",
       "      <td>31</td>\n",
       "      <td>Beautiful_ Beautiful (Album)</td>\n",
       "      <td>200</td>\n",
       "      <td>1539003736000</td>\n",
       "      <td>\"Mozilla/5.0 (iPhone; CPU iPhone OS 7_1_2 like Mac OS X) AppleWebKit/537.51.2 (KHTML, like Gecko) Version/7.0 Mobile/11D257 Safari/9537.53\"</td>\n",
       "      <td>100010</td>\n",
       "      <td>2018-10-08 13:02:16</td>\n",
       "      <td>2018-09-27 02:45:40</td>\n",
       "      <td>0</td>\n",
       "      <td>0</td>\n",
       "    </tr>\n",
       "    <tr>\n",
       "      <th>2</th>\n",
       "      <td>Brutha</td>\n",
       "      <td>Logged In</td>\n",
       "      <td>F</td>\n",
       "      <td>2</td>\n",
       "      <td>263.13098</td>\n",
       "      <td>free</td>\n",
       "      <td>Bridgeport-Stamford-Norwalk, CT</td>\n",
       "      <td>PUT</td>\n",
       "      <td>NextSong</td>\n",
       "      <td>1538016340000</td>\n",
       "      <td>31</td>\n",
       "      <td>She's Gone</td>\n",
       "      <td>200</td>\n",
       "      <td>1539003932000</td>\n",
       "      <td>\"Mozilla/5.0 (iPhone; CPU iPhone OS 7_1_2 like Mac OS X) AppleWebKit/537.51.2 (KHTML, like Gecko) Version/7.0 Mobile/11D257 Safari/9537.53\"</td>\n",
       "      <td>100010</td>\n",
       "      <td>2018-10-08 13:05:32</td>\n",
       "      <td>2018-09-27 02:45:40</td>\n",
       "      <td>0</td>\n",
       "      <td>0</td>\n",
       "    </tr>\n",
       "    <tr>\n",
       "      <th>3</th>\n",
       "      <td>None</td>\n",
       "      <td>Logged In</td>\n",
       "      <td>F</td>\n",
       "      <td>3</td>\n",
       "      <td>NaN</td>\n",
       "      <td>free</td>\n",
       "      <td>Bridgeport-Stamford-Norwalk, CT</td>\n",
       "      <td>PUT</td>\n",
       "      <td>Thumbs Up</td>\n",
       "      <td>1538016340000</td>\n",
       "      <td>31</td>\n",
       "      <td>None</td>\n",
       "      <td>307</td>\n",
       "      <td>1539003933000</td>\n",
       "      <td>\"Mozilla/5.0 (iPhone; CPU iPhone OS 7_1_2 like Mac OS X) AppleWebKit/537.51.2 (KHTML, like Gecko) Version/7.0 Mobile/11D257 Safari/9537.53\"</td>\n",
       "      <td>100010</td>\n",
       "      <td>2018-10-08 13:05:33</td>\n",
       "      <td>2018-09-27 02:45:40</td>\n",
       "      <td>0</td>\n",
       "      <td>0</td>\n",
       "    </tr>\n",
       "    <tr>\n",
       "      <th>4</th>\n",
       "      <td>Josh Ritter</td>\n",
       "      <td>Logged In</td>\n",
       "      <td>F</td>\n",
       "      <td>4</td>\n",
       "      <td>316.23791</td>\n",
       "      <td>free</td>\n",
       "      <td>Bridgeport-Stamford-Norwalk, CT</td>\n",
       "      <td>PUT</td>\n",
       "      <td>NextSong</td>\n",
       "      <td>1538016340000</td>\n",
       "      <td>31</td>\n",
       "      <td>Folk Bloodbath</td>\n",
       "      <td>200</td>\n",
       "      <td>1539004195000</td>\n",
       "      <td>\"Mozilla/5.0 (iPhone; CPU iPhone OS 7_1_2 like Mac OS X) AppleWebKit/537.51.2 (KHTML, like Gecko) Version/7.0 Mobile/11D257 Safari/9537.53\"</td>\n",
       "      <td>100010</td>\n",
       "      <td>2018-10-08 13:09:55</td>\n",
       "      <td>2018-09-27 02:45:40</td>\n",
       "      <td>0</td>\n",
       "      <td>0</td>\n",
       "    </tr>\n",
       "  </tbody>\n",
       "</table>\n",
       "</div>"
      ],
      "text/plain": [
       "                  artist       auth gender  itemInSession     length level  \\\n",
       "0  Sleeping With Sirens   Logged In  F      0              202.97098  free   \n",
       "1  Francesca Battistelli  Logged In  F      1              196.54485  free   \n",
       "2  Brutha                 Logged In  F      2              263.13098  free   \n",
       "3  None                   Logged In  F      3             NaN         free   \n",
       "4  Josh Ritter            Logged In  F      4              316.23791  free   \n",
       "\n",
       "                          location method       page   registration  \\\n",
       "0  Bridgeport-Stamford-Norwalk, CT  PUT    NextSong   1538016340000   \n",
       "1  Bridgeport-Stamford-Norwalk, CT  PUT    NextSong   1538016340000   \n",
       "2  Bridgeport-Stamford-Norwalk, CT  PUT    NextSong   1538016340000   \n",
       "3  Bridgeport-Stamford-Norwalk, CT  PUT    Thumbs Up  1538016340000   \n",
       "4  Bridgeport-Stamford-Norwalk, CT  PUT    NextSong   1538016340000   \n",
       "\n",
       "   sessionId                                       song  status  \\\n",
       "0  31         Captain Tyin Knots VS Mr Walkway (No Way)  200      \n",
       "1  31         Beautiful_ Beautiful (Album)               200      \n",
       "2  31         She's Gone                                 200      \n",
       "3  31         None                                       307      \n",
       "4  31         Folk Bloodbath                             200      \n",
       "\n",
       "              ts  \\\n",
       "0  1539003534000   \n",
       "1  1539003736000   \n",
       "2  1539003932000   \n",
       "3  1539003933000   \n",
       "4  1539004195000   \n",
       "\n",
       "                                                                                                                                     userAgent  \\\n",
       "0  \"Mozilla/5.0 (iPhone; CPU iPhone OS 7_1_2 like Mac OS X) AppleWebKit/537.51.2 (KHTML, like Gecko) Version/7.0 Mobile/11D257 Safari/9537.53\"   \n",
       "1  \"Mozilla/5.0 (iPhone; CPU iPhone OS 7_1_2 like Mac OS X) AppleWebKit/537.51.2 (KHTML, like Gecko) Version/7.0 Mobile/11D257 Safari/9537.53\"   \n",
       "2  \"Mozilla/5.0 (iPhone; CPU iPhone OS 7_1_2 like Mac OS X) AppleWebKit/537.51.2 (KHTML, like Gecko) Version/7.0 Mobile/11D257 Safari/9537.53\"   \n",
       "3  \"Mozilla/5.0 (iPhone; CPU iPhone OS 7_1_2 like Mac OS X) AppleWebKit/537.51.2 (KHTML, like Gecko) Version/7.0 Mobile/11D257 Safari/9537.53\"   \n",
       "4  \"Mozilla/5.0 (iPhone; CPU iPhone OS 7_1_2 like Mac OS X) AppleWebKit/537.51.2 (KHTML, like Gecko) Version/7.0 Mobile/11D257 Safari/9537.53\"   \n",
       "\n",
       "   userId             act_time      registration_ts  Churn_state  Churn  \n",
       "0  100010  2018-10-08 12:58:54  2018-09-27 02:45:40  0            0      \n",
       "1  100010  2018-10-08 13:02:16  2018-09-27 02:45:40  0            0      \n",
       "2  100010  2018-10-08 13:05:32  2018-09-27 02:45:40  0            0      \n",
       "3  100010  2018-10-08 13:05:33  2018-09-27 02:45:40  0            0      \n",
       "4  100010  2018-10-08 13:09:55  2018-09-27 02:45:40  0            0      "
      ]
     },
     "execution_count": 81,
     "metadata": {},
     "output_type": "execute_result"
    }
   ],
   "source": [
    "df_cleaned_cancel.limit(5).toPandas()"
   ]
  },
  {
   "cell_type": "markdown",
   "metadata": {},
   "source": [
    "### Normalize Data:"
   ]
  },
  {
   "cell_type": "markdown",
   "metadata": {},
   "source": [
    "- Normalization is a technique often applied as part of data preparation for machine learning. The goal of normalization is to change the values of numeric columns in the dataset to a common scale, without distorting differences in the ranges of values. \n",
    "- For machine learning, every dataset does not require normalization. It is required only when features have different ranges.\n",
    "\n"
   ]
  },
  {
   "cell_type": "code",
   "execution_count": 82,
   "metadata": {},
   "outputs": [],
   "source": [
    "def normalize_data(groupby_data):\n",
    "    '''\n",
    "    Input: dataframe with columns\n",
    "    Output: Returns a dataframe with an additional column result with a normalised values between 0 and 1.0\n",
    "    '''\n",
    "    groupby_series = groupby_data.set_index(list(groupby_data.columns[:2]))\n",
    "    temp = groupby_series.unstack('Churn').fillna(0)\n",
    "    df = pd.DataFrame(((temp - temp.min()) / (temp.max() - temp.min())).stack()).reset_index()\n",
    "    df = df.rename(columns={df.columns[-1]:'result'})\n",
    "    return df"
   ]
  },
  {
   "cell_type": "code",
   "execution_count": 83,
   "metadata": {},
   "outputs": [],
   "source": [
    "split_city_state = split(df_cleaned_cancel['location'], ',')\n",
    "df_cleaned_cancel = df_cleaned_cancel.withColumn('city',split_city_state.getItem(0))\n",
    "df_cleaned_cancel = df_cleaned_cancel.withColumn('state',split_city_state.getItem(1))"
   ]
  },
  {
   "cell_type": "code",
   "execution_count": 84,
   "metadata": {},
   "outputs": [],
   "source": [
    "city_data = df_cleaned_cancel.dropDuplicates([\"userId\"]).groupby([\"city\",\"Churn\"]).count().sort(\"city\").toPandas()"
   ]
  },
  {
   "cell_type": "code",
   "execution_count": 85,
   "metadata": {},
   "outputs": [
    {
     "data": {
      "text/plain": [
       "(133, 3)"
      ]
     },
     "execution_count": 85,
     "metadata": {},
     "output_type": "execute_result"
    }
   ],
   "source": [
    "city_data.shape"
   ]
  },
  {
   "cell_type": "code",
   "execution_count": 86,
   "metadata": {},
   "outputs": [
    {
     "data": {
      "text/html": [
       "<div>\n",
       "<style scoped>\n",
       "    .dataframe tbody tr th:only-of-type {\n",
       "        vertical-align: middle;\n",
       "    }\n",
       "\n",
       "    .dataframe tbody tr th {\n",
       "        vertical-align: top;\n",
       "    }\n",
       "\n",
       "    .dataframe thead th {\n",
       "        text-align: right;\n",
       "    }\n",
       "</style>\n",
       "<table border=\"1\" class=\"dataframe\">\n",
       "  <thead>\n",
       "    <tr style=\"text-align: right;\">\n",
       "      <th></th>\n",
       "      <th>city</th>\n",
       "      <th>Churn</th>\n",
       "      <th>count</th>\n",
       "    </tr>\n",
       "  </thead>\n",
       "  <tbody>\n",
       "    <tr>\n",
       "      <th>0</th>\n",
       "      <td>Albany</td>\n",
       "      <td>1</td>\n",
       "      <td>1</td>\n",
       "    </tr>\n",
       "    <tr>\n",
       "      <th>1</th>\n",
       "      <td>Albany-Schenectady-Troy</td>\n",
       "      <td>1</td>\n",
       "      <td>1</td>\n",
       "    </tr>\n",
       "    <tr>\n",
       "      <th>2</th>\n",
       "      <td>Alexandria</td>\n",
       "      <td>0</td>\n",
       "      <td>1</td>\n",
       "    </tr>\n",
       "    <tr>\n",
       "      <th>3</th>\n",
       "      <td>Allentown-Bethlehem-Easton</td>\n",
       "      <td>0</td>\n",
       "      <td>1</td>\n",
       "    </tr>\n",
       "    <tr>\n",
       "      <th>4</th>\n",
       "      <td>Anchorage</td>\n",
       "      <td>0</td>\n",
       "      <td>1</td>\n",
       "    </tr>\n",
       "  </tbody>\n",
       "</table>\n",
       "</div>"
      ],
      "text/plain": [
       "                         city  Churn  count\n",
       "0  Albany                      1      1    \n",
       "1  Albany-Schenectady-Troy     1      1    \n",
       "2  Alexandria                  0      1    \n",
       "3  Allentown-Bethlehem-Easton  0      1    \n",
       "4  Anchorage                   0      1    "
      ]
     },
     "execution_count": 86,
     "metadata": {},
     "output_type": "execute_result"
    }
   ],
   "source": [
    "city_data.head()"
   ]
  },
  {
   "cell_type": "code",
   "execution_count": 87,
   "metadata": {},
   "outputs": [
    {
     "data": {
      "text/html": [
       "<div>\n",
       "<style scoped>\n",
       "    .dataframe tbody tr th:only-of-type {\n",
       "        vertical-align: middle;\n",
       "    }\n",
       "\n",
       "    .dataframe tbody tr th {\n",
       "        vertical-align: top;\n",
       "    }\n",
       "\n",
       "    .dataframe thead th {\n",
       "        text-align: right;\n",
       "    }\n",
       "</style>\n",
       "<table border=\"1\" class=\"dataframe\">\n",
       "  <thead>\n",
       "    <tr style=\"text-align: right;\">\n",
       "      <th></th>\n",
       "      <th>city</th>\n",
       "      <th>Churn</th>\n",
       "      <th>count</th>\n",
       "    </tr>\n",
       "  </thead>\n",
       "  <tbody>\n",
       "    <tr>\n",
       "      <th>0</th>\n",
       "      <td>Albany</td>\n",
       "      <td>1</td>\n",
       "      <td>1</td>\n",
       "    </tr>\n",
       "  </tbody>\n",
       "</table>\n",
       "</div>"
      ],
      "text/plain": [
       "     city  Churn  count\n",
       "0  Albany  1      1    "
      ]
     },
     "execution_count": 87,
     "metadata": {},
     "output_type": "execute_result"
    }
   ],
   "source": [
    "city_data[city_data['city']=='Albany']"
   ]
  },
  {
   "cell_type": "code",
   "execution_count": 88,
   "metadata": {},
   "outputs": [
    {
     "data": {
      "text/html": [
       "<div>\n",
       "<style scoped>\n",
       "    .dataframe tbody tr th:only-of-type {\n",
       "        vertical-align: middle;\n",
       "    }\n",
       "\n",
       "    .dataframe tbody tr th {\n",
       "        vertical-align: top;\n",
       "    }\n",
       "\n",
       "    .dataframe thead th {\n",
       "        text-align: right;\n",
       "    }\n",
       "</style>\n",
       "<table border=\"1\" class=\"dataframe\">\n",
       "  <thead>\n",
       "    <tr style=\"text-align: right;\">\n",
       "      <th></th>\n",
       "      <th>city</th>\n",
       "      <th>Churn</th>\n",
       "      <th>count</th>\n",
       "    </tr>\n",
       "  </thead>\n",
       "  <tbody>\n",
       "    <tr>\n",
       "      <th>65</th>\n",
       "      <td>Los Angeles-Long Beach-Anaheim</td>\n",
       "      <td>0</td>\n",
       "      <td>13</td>\n",
       "    </tr>\n",
       "    <tr>\n",
       "      <th>66</th>\n",
       "      <td>Los Angeles-Long Beach-Anaheim</td>\n",
       "      <td>1</td>\n",
       "      <td>3</td>\n",
       "    </tr>\n",
       "  </tbody>\n",
       "</table>\n",
       "</div>"
      ],
      "text/plain": [
       "                              city  Churn  count\n",
       "65  Los Angeles-Long Beach-Anaheim  0      13   \n",
       "66  Los Angeles-Long Beach-Anaheim  1      3    "
      ]
     },
     "execution_count": 88,
     "metadata": {},
     "output_type": "execute_result"
    }
   ],
   "source": [
    "city_data[city_data['city']=='Los Angeles-Long Beach-Anaheim']"
   ]
  },
  {
   "cell_type": "code",
   "execution_count": 89,
   "metadata": {},
   "outputs": [
    {
     "data": {
      "text/html": [
       "<div>\n",
       "<style scoped>\n",
       "    .dataframe tbody tr th:only-of-type {\n",
       "        vertical-align: middle;\n",
       "    }\n",
       "\n",
       "    .dataframe tbody tr th {\n",
       "        vertical-align: top;\n",
       "    }\n",
       "\n",
       "    .dataframe thead th {\n",
       "        text-align: right;\n",
       "    }\n",
       "</style>\n",
       "<table border=\"1\" class=\"dataframe\">\n",
       "  <thead>\n",
       "    <tr style=\"text-align: right;\">\n",
       "      <th></th>\n",
       "      <th>city</th>\n",
       "      <th>Churn</th>\n",
       "      <th>count</th>\n",
       "    </tr>\n",
       "  </thead>\n",
       "  <tbody>\n",
       "    <tr>\n",
       "      <th>83</th>\n",
       "      <td>New York-Newark-Jersey City</td>\n",
       "      <td>0</td>\n",
       "      <td>10</td>\n",
       "    </tr>\n",
       "    <tr>\n",
       "      <th>84</th>\n",
       "      <td>New York-Newark-Jersey City</td>\n",
       "      <td>1</td>\n",
       "      <td>5</td>\n",
       "    </tr>\n",
       "  </tbody>\n",
       "</table>\n",
       "</div>"
      ],
      "text/plain": [
       "                           city  Churn  count\n",
       "83  New York-Newark-Jersey City  0      10   \n",
       "84  New York-Newark-Jersey City  1      5    "
      ]
     },
     "execution_count": 89,
     "metadata": {},
     "output_type": "execute_result"
    }
   ],
   "source": [
    "city_data[city_data['city']=='New York-Newark-Jersey City']"
   ]
  },
  {
   "cell_type": "code",
   "execution_count": 90,
   "metadata": {},
   "outputs": [],
   "source": [
    "city_data = normalize_data(city_data)"
   ]
  },
  {
   "cell_type": "code",
   "execution_count": 91,
   "metadata": {},
   "outputs": [
    {
     "data": {
      "text/html": [
       "<div>\n",
       "<style scoped>\n",
       "    .dataframe tbody tr th:only-of-type {\n",
       "        vertical-align: middle;\n",
       "    }\n",
       "\n",
       "    .dataframe tbody tr th {\n",
       "        vertical-align: top;\n",
       "    }\n",
       "\n",
       "    .dataframe thead th {\n",
       "        text-align: right;\n",
       "    }\n",
       "</style>\n",
       "<table border=\"1\" class=\"dataframe\">\n",
       "  <thead>\n",
       "    <tr style=\"text-align: right;\">\n",
       "      <th></th>\n",
       "      <th>city</th>\n",
       "      <th>Churn</th>\n",
       "      <th>result</th>\n",
       "    </tr>\n",
       "  </thead>\n",
       "  <tbody>\n",
       "    <tr>\n",
       "      <th>0</th>\n",
       "      <td>Albany</td>\n",
       "      <td>0</td>\n",
       "      <td>0.0</td>\n",
       "    </tr>\n",
       "    <tr>\n",
       "      <th>1</th>\n",
       "      <td>Albany</td>\n",
       "      <td>1</td>\n",
       "      <td>0.2</td>\n",
       "    </tr>\n",
       "  </tbody>\n",
       "</table>\n",
       "</div>"
      ],
      "text/plain": [
       "     city  Churn  result\n",
       "0  Albany  0      0.0   \n",
       "1  Albany  1      0.2   "
      ]
     },
     "execution_count": 91,
     "metadata": {},
     "output_type": "execute_result"
    }
   ],
   "source": [
    "city_data[city_data['city']=='Albany']"
   ]
  },
  {
   "cell_type": "code",
   "execution_count": 92,
   "metadata": {},
   "outputs": [
    {
     "data": {
      "text/html": [
       "<div>\n",
       "<style scoped>\n",
       "    .dataframe tbody tr th:only-of-type {\n",
       "        vertical-align: middle;\n",
       "    }\n",
       "\n",
       "    .dataframe tbody tr th {\n",
       "        vertical-align: top;\n",
       "    }\n",
       "\n",
       "    .dataframe thead th {\n",
       "        text-align: right;\n",
       "    }\n",
       "</style>\n",
       "<table border=\"1\" class=\"dataframe\">\n",
       "  <thead>\n",
       "    <tr style=\"text-align: right;\">\n",
       "      <th></th>\n",
       "      <th>city</th>\n",
       "      <th>Churn</th>\n",
       "      <th>result</th>\n",
       "    </tr>\n",
       "  </thead>\n",
       "  <tbody>\n",
       "    <tr>\n",
       "      <th>110</th>\n",
       "      <td>Los Angeles-Long Beach-Anaheim</td>\n",
       "      <td>0</td>\n",
       "      <td>1.0</td>\n",
       "    </tr>\n",
       "    <tr>\n",
       "      <th>111</th>\n",
       "      <td>Los Angeles-Long Beach-Anaheim</td>\n",
       "      <td>1</td>\n",
       "      <td>0.6</td>\n",
       "    </tr>\n",
       "  </tbody>\n",
       "</table>\n",
       "</div>"
      ],
      "text/plain": [
       "                               city  Churn  result\n",
       "110  Los Angeles-Long Beach-Anaheim  0      1.0   \n",
       "111  Los Angeles-Long Beach-Anaheim  1      0.6   "
      ]
     },
     "execution_count": 92,
     "metadata": {},
     "output_type": "execute_result"
    }
   ],
   "source": [
    "city_data[city_data['city']=='Los Angeles-Long Beach-Anaheim']"
   ]
  },
  {
   "cell_type": "code",
   "execution_count": 93,
   "metadata": {},
   "outputs": [
    {
     "data": {
      "text/html": [
       "<div>\n",
       "<style scoped>\n",
       "    .dataframe tbody tr th:only-of-type {\n",
       "        vertical-align: middle;\n",
       "    }\n",
       "\n",
       "    .dataframe tbody tr th {\n",
       "        vertical-align: top;\n",
       "    }\n",
       "\n",
       "    .dataframe thead th {\n",
       "        text-align: right;\n",
       "    }\n",
       "</style>\n",
       "<table border=\"1\" class=\"dataframe\">\n",
       "  <thead>\n",
       "    <tr style=\"text-align: right;\">\n",
       "      <th></th>\n",
       "      <th>city</th>\n",
       "      <th>Churn</th>\n",
       "      <th>result</th>\n",
       "    </tr>\n",
       "  </thead>\n",
       "  <tbody>\n",
       "    <tr>\n",
       "      <th>142</th>\n",
       "      <td>New York-Newark-Jersey City</td>\n",
       "      <td>0</td>\n",
       "      <td>0.769231</td>\n",
       "    </tr>\n",
       "    <tr>\n",
       "      <th>143</th>\n",
       "      <td>New York-Newark-Jersey City</td>\n",
       "      <td>1</td>\n",
       "      <td>1.000000</td>\n",
       "    </tr>\n",
       "  </tbody>\n",
       "</table>\n",
       "</div>"
      ],
      "text/plain": [
       "                            city  Churn    result\n",
       "142  New York-Newark-Jersey City  0      0.769231\n",
       "143  New York-Newark-Jersey City  1      1.000000"
      ]
     },
     "execution_count": 93,
     "metadata": {},
     "output_type": "execute_result"
    }
   ],
   "source": [
    "city_data[city_data['city']=='New York-Newark-Jersey City']"
   ]
  },
  {
   "cell_type": "code",
   "execution_count": 94,
   "metadata": {},
   "outputs": [
    {
     "data": {
      "text/html": [
       "<div>\n",
       "<style scoped>\n",
       "    .dataframe tbody tr th:only-of-type {\n",
       "        vertical-align: middle;\n",
       "    }\n",
       "\n",
       "    .dataframe tbody tr th {\n",
       "        vertical-align: top;\n",
       "    }\n",
       "\n",
       "    .dataframe thead th {\n",
       "        text-align: right;\n",
       "    }\n",
       "</style>\n",
       "<table border=\"1\" class=\"dataframe\">\n",
       "  <thead>\n",
       "    <tr style=\"text-align: right;\">\n",
       "      <th></th>\n",
       "      <th>city</th>\n",
       "      <th>Churn</th>\n",
       "      <th>result</th>\n",
       "    </tr>\n",
       "  </thead>\n",
       "  <tbody>\n",
       "    <tr>\n",
       "      <th>0</th>\n",
       "      <td>Albany</td>\n",
       "      <td>0</td>\n",
       "      <td>0.000000</td>\n",
       "    </tr>\n",
       "    <tr>\n",
       "      <th>1</th>\n",
       "      <td>Albany</td>\n",
       "      <td>1</td>\n",
       "      <td>0.200000</td>\n",
       "    </tr>\n",
       "    <tr>\n",
       "      <th>2</th>\n",
       "      <td>Albany-Schenectady-Troy</td>\n",
       "      <td>0</td>\n",
       "      <td>0.000000</td>\n",
       "    </tr>\n",
       "    <tr>\n",
       "      <th>3</th>\n",
       "      <td>Albany-Schenectady-Troy</td>\n",
       "      <td>1</td>\n",
       "      <td>0.200000</td>\n",
       "    </tr>\n",
       "    <tr>\n",
       "      <th>4</th>\n",
       "      <td>Alexandria</td>\n",
       "      <td>0</td>\n",
       "      <td>0.076923</td>\n",
       "    </tr>\n",
       "  </tbody>\n",
       "</table>\n",
       "</div>"
      ],
      "text/plain": [
       "                      city  Churn    result\n",
       "0  Albany                   0      0.000000\n",
       "1  Albany                   1      0.200000\n",
       "2  Albany-Schenectady-Troy  0      0.000000\n",
       "3  Albany-Schenectady-Troy  1      0.200000\n",
       "4  Alexandria               0      0.076923"
      ]
     },
     "execution_count": 94,
     "metadata": {},
     "output_type": "execute_result"
    }
   ],
   "source": [
    "city_data.head()"
   ]
  },
  {
   "cell_type": "code",
   "execution_count": 95,
   "metadata": {},
   "outputs": [
    {
     "data": {
      "text/plain": [
       "(226, 3)"
      ]
     },
     "execution_count": 95,
     "metadata": {},
     "output_type": "execute_result"
    }
   ],
   "source": [
    "city_data.shape"
   ]
  },
  {
   "cell_type": "code",
   "execution_count": 96,
   "metadata": {},
   "outputs": [
    {
     "data": {
      "text/plain": [
       "Index(['city', 'Churn', 'result'], dtype='object')"
      ]
     },
     "execution_count": 96,
     "metadata": {},
     "output_type": "execute_result"
    }
   ],
   "source": [
    "city_data.columns"
   ]
  },
  {
   "cell_type": "code",
   "execution_count": 97,
   "metadata": {},
   "outputs": [
    {
     "data": {
      "text/plain": [
       "1.0"
      ]
     },
     "execution_count": 97,
     "metadata": {},
     "output_type": "execute_result"
    }
   ],
   "source": [
    "city_data['result'].max()"
   ]
  },
  {
   "cell_type": "code",
   "execution_count": 98,
   "metadata": {},
   "outputs": [
    {
     "data": {
      "text/html": [
       "<div>\n",
       "<style scoped>\n",
       "    .dataframe tbody tr th:only-of-type {\n",
       "        vertical-align: middle;\n",
       "    }\n",
       "\n",
       "    .dataframe tbody tr th {\n",
       "        vertical-align: top;\n",
       "    }\n",
       "\n",
       "    .dataframe thead th {\n",
       "        text-align: right;\n",
       "    }\n",
       "</style>\n",
       "<table border=\"1\" class=\"dataframe\">\n",
       "  <thead>\n",
       "    <tr style=\"text-align: right;\">\n",
       "      <th></th>\n",
       "      <th>city</th>\n",
       "      <th>Churn</th>\n",
       "      <th>result</th>\n",
       "    </tr>\n",
       "  </thead>\n",
       "  <tbody>\n",
       "    <tr>\n",
       "      <th>110</th>\n",
       "      <td>Los Angeles-Long Beach-Anaheim</td>\n",
       "      <td>0</td>\n",
       "      <td>1.0</td>\n",
       "    </tr>\n",
       "    <tr>\n",
       "      <th>143</th>\n",
       "      <td>New York-Newark-Jersey City</td>\n",
       "      <td>1</td>\n",
       "      <td>1.0</td>\n",
       "    </tr>\n",
       "  </tbody>\n",
       "</table>\n",
       "</div>"
      ],
      "text/plain": [
       "                               city  Churn  result\n",
       "110  Los Angeles-Long Beach-Anaheim  0      1.0   \n",
       "143  New York-Newark-Jersey City     1      1.0   "
      ]
     },
     "execution_count": 98,
     "metadata": {},
     "output_type": "execute_result"
    }
   ],
   "source": [
    "city_data.loc[city_data['result'] >= 1]"
   ]
  },
  {
   "cell_type": "code",
   "execution_count": 99,
   "metadata": {},
   "outputs": [
    {
     "data": {
      "text/plain": [
       "0.0"
      ]
     },
     "execution_count": 99,
     "metadata": {},
     "output_type": "execute_result"
    }
   ],
   "source": [
    "city_data['result'].min()"
   ]
  },
  {
   "cell_type": "code",
   "execution_count": 100,
   "metadata": {},
   "outputs": [
    {
     "data": {
      "text/html": [
       "<div>\n",
       "<style scoped>\n",
       "    .dataframe tbody tr th:only-of-type {\n",
       "        vertical-align: middle;\n",
       "    }\n",
       "\n",
       "    .dataframe tbody tr th {\n",
       "        vertical-align: top;\n",
       "    }\n",
       "\n",
       "    .dataframe thead th {\n",
       "        text-align: right;\n",
       "    }\n",
       "</style>\n",
       "<table border=\"1\" class=\"dataframe\">\n",
       "  <thead>\n",
       "    <tr style=\"text-align: right;\">\n",
       "      <th></th>\n",
       "      <th>city</th>\n",
       "      <th>Churn</th>\n",
       "      <th>result</th>\n",
       "    </tr>\n",
       "  </thead>\n",
       "  <tbody>\n",
       "    <tr>\n",
       "      <th>0</th>\n",
       "      <td>Albany</td>\n",
       "      <td>0</td>\n",
       "      <td>0.0</td>\n",
       "    </tr>\n",
       "    <tr>\n",
       "      <th>2</th>\n",
       "      <td>Albany-Schenectady-Troy</td>\n",
       "      <td>0</td>\n",
       "      <td>0.0</td>\n",
       "    </tr>\n",
       "    <tr>\n",
       "      <th>5</th>\n",
       "      <td>Alexandria</td>\n",
       "      <td>1</td>\n",
       "      <td>0.0</td>\n",
       "    </tr>\n",
       "    <tr>\n",
       "      <th>7</th>\n",
       "      <td>Allentown-Bethlehem-Easton</td>\n",
       "      <td>1</td>\n",
       "      <td>0.0</td>\n",
       "    </tr>\n",
       "    <tr>\n",
       "      <th>9</th>\n",
       "      <td>Anchorage</td>\n",
       "      <td>1</td>\n",
       "      <td>0.0</td>\n",
       "    </tr>\n",
       "    <tr>\n",
       "      <th>11</th>\n",
       "      <td>Atlanta-Sandy Springs-Roswell</td>\n",
       "      <td>1</td>\n",
       "      <td>0.0</td>\n",
       "    </tr>\n",
       "    <tr>\n",
       "      <th>13</th>\n",
       "      <td>Atlantic City-Hammonton</td>\n",
       "      <td>1</td>\n",
       "      <td>0.0</td>\n",
       "    </tr>\n",
       "    <tr>\n",
       "      <th>15</th>\n",
       "      <td>Austin-Round Rock</td>\n",
       "      <td>1</td>\n",
       "      <td>0.0</td>\n",
       "    </tr>\n",
       "    <tr>\n",
       "      <th>17</th>\n",
       "      <td>Bakersfield</td>\n",
       "      <td>1</td>\n",
       "      <td>0.0</td>\n",
       "    </tr>\n",
       "    <tr>\n",
       "      <th>21</th>\n",
       "      <td>Billings</td>\n",
       "      <td>1</td>\n",
       "      <td>0.0</td>\n",
       "    </tr>\n",
       "    <tr>\n",
       "      <th>22</th>\n",
       "      <td>Birmingham-Hoover</td>\n",
       "      <td>0</td>\n",
       "      <td>0.0</td>\n",
       "    </tr>\n",
       "    <tr>\n",
       "      <th>25</th>\n",
       "      <td>Boston-Cambridge-Newton</td>\n",
       "      <td>1</td>\n",
       "      <td>0.0</td>\n",
       "    </tr>\n",
       "    <tr>\n",
       "      <th>27</th>\n",
       "      <td>Boulder</td>\n",
       "      <td>1</td>\n",
       "      <td>0.0</td>\n",
       "    </tr>\n",
       "    <tr>\n",
       "      <th>28</th>\n",
       "      <td>Bozeman</td>\n",
       "      <td>0</td>\n",
       "      <td>0.0</td>\n",
       "    </tr>\n",
       "    <tr>\n",
       "      <th>31</th>\n",
       "      <td>Bridgeport-Stamford-Norwalk</td>\n",
       "      <td>1</td>\n",
       "      <td>0.0</td>\n",
       "    </tr>\n",
       "    <tr>\n",
       "      <th>33</th>\n",
       "      <td>Buffalo-Cheektowaga-Niagara Falls</td>\n",
       "      <td>1</td>\n",
       "      <td>0.0</td>\n",
       "    </tr>\n",
       "    <tr>\n",
       "      <th>35</th>\n",
       "      <td>Charlotte-Concord-Gastonia</td>\n",
       "      <td>1</td>\n",
       "      <td>0.0</td>\n",
       "    </tr>\n",
       "    <tr>\n",
       "      <th>39</th>\n",
       "      <td>Cincinnati</td>\n",
       "      <td>1</td>\n",
       "      <td>0.0</td>\n",
       "    </tr>\n",
       "    <tr>\n",
       "      <th>40</th>\n",
       "      <td>Cleveland-Elyria</td>\n",
       "      <td>0</td>\n",
       "      <td>0.0</td>\n",
       "    </tr>\n",
       "    <tr>\n",
       "      <th>42</th>\n",
       "      <td>Colorado Springs</td>\n",
       "      <td>0</td>\n",
       "      <td>0.0</td>\n",
       "    </tr>\n",
       "    <tr>\n",
       "      <th>45</th>\n",
       "      <td>Columbus</td>\n",
       "      <td>1</td>\n",
       "      <td>0.0</td>\n",
       "    </tr>\n",
       "    <tr>\n",
       "      <th>47</th>\n",
       "      <td>Concord</td>\n",
       "      <td>1</td>\n",
       "      <td>0.0</td>\n",
       "    </tr>\n",
       "    <tr>\n",
       "      <th>49</th>\n",
       "      <td>Cookeville</td>\n",
       "      <td>1</td>\n",
       "      <td>0.0</td>\n",
       "    </tr>\n",
       "    <tr>\n",
       "      <th>50</th>\n",
       "      <td>Corpus Christi</td>\n",
       "      <td>0</td>\n",
       "      <td>0.0</td>\n",
       "    </tr>\n",
       "    <tr>\n",
       "      <th>55</th>\n",
       "      <td>Danville</td>\n",
       "      <td>1</td>\n",
       "      <td>0.0</td>\n",
       "    </tr>\n",
       "    <tr>\n",
       "      <th>57</th>\n",
       "      <td>Dayton</td>\n",
       "      <td>1</td>\n",
       "      <td>0.0</td>\n",
       "    </tr>\n",
       "    <tr>\n",
       "      <th>59</th>\n",
       "      <td>Deltona-Daytona Beach-Ormond Beach</td>\n",
       "      <td>1</td>\n",
       "      <td>0.0</td>\n",
       "    </tr>\n",
       "    <tr>\n",
       "      <th>65</th>\n",
       "      <td>Dubuque</td>\n",
       "      <td>1</td>\n",
       "      <td>0.0</td>\n",
       "    </tr>\n",
       "    <tr>\n",
       "      <th>67</th>\n",
       "      <td>Duluth</td>\n",
       "      <td>1</td>\n",
       "      <td>0.0</td>\n",
       "    </tr>\n",
       "    <tr>\n",
       "      <th>69</th>\n",
       "      <td>Fairbanks</td>\n",
       "      <td>1</td>\n",
       "      <td>0.0</td>\n",
       "    </tr>\n",
       "    <tr>\n",
       "      <th>...</th>\n",
       "      <td>...</td>\n",
       "      <td>...</td>\n",
       "      <td>...</td>\n",
       "    </tr>\n",
       "    <tr>\n",
       "      <th>152</th>\n",
       "      <td>Oxnard-Thousand Oaks-Ventura</td>\n",
       "      <td>0</td>\n",
       "      <td>0.0</td>\n",
       "    </tr>\n",
       "    <tr>\n",
       "      <th>159</th>\n",
       "      <td>Pittsburgh</td>\n",
       "      <td>1</td>\n",
       "      <td>0.0</td>\n",
       "    </tr>\n",
       "    <tr>\n",
       "      <th>161</th>\n",
       "      <td>Pontiac</td>\n",
       "      <td>1</td>\n",
       "      <td>0.0</td>\n",
       "    </tr>\n",
       "    <tr>\n",
       "      <th>163</th>\n",
       "      <td>Port St. Lucie</td>\n",
       "      <td>1</td>\n",
       "      <td>0.0</td>\n",
       "    </tr>\n",
       "    <tr>\n",
       "      <th>165</th>\n",
       "      <td>Portland-Vancouver-Hillsboro</td>\n",
       "      <td>1</td>\n",
       "      <td>0.0</td>\n",
       "    </tr>\n",
       "    <tr>\n",
       "      <th>167</th>\n",
       "      <td>Price</td>\n",
       "      <td>1</td>\n",
       "      <td>0.0</td>\n",
       "    </tr>\n",
       "    <tr>\n",
       "      <th>169</th>\n",
       "      <td>Providence-Warwick</td>\n",
       "      <td>1</td>\n",
       "      <td>0.0</td>\n",
       "    </tr>\n",
       "    <tr>\n",
       "      <th>170</th>\n",
       "      <td>Quincy</td>\n",
       "      <td>0</td>\n",
       "      <td>0.0</td>\n",
       "    </tr>\n",
       "    <tr>\n",
       "      <th>173</th>\n",
       "      <td>Raleigh</td>\n",
       "      <td>1</td>\n",
       "      <td>0.0</td>\n",
       "    </tr>\n",
       "    <tr>\n",
       "      <th>175</th>\n",
       "      <td>Riverside-San Bernardino-Ontario</td>\n",
       "      <td>1</td>\n",
       "      <td>0.0</td>\n",
       "    </tr>\n",
       "    <tr>\n",
       "      <th>177</th>\n",
       "      <td>Roanoke</td>\n",
       "      <td>1</td>\n",
       "      <td>0.0</td>\n",
       "    </tr>\n",
       "    <tr>\n",
       "      <th>179</th>\n",
       "      <td>Sacramento--Roseville--Arden-Arcade</td>\n",
       "      <td>1</td>\n",
       "      <td>0.0</td>\n",
       "    </tr>\n",
       "    <tr>\n",
       "      <th>181</th>\n",
       "      <td>Salinas</td>\n",
       "      <td>1</td>\n",
       "      <td>0.0</td>\n",
       "    </tr>\n",
       "    <tr>\n",
       "      <th>183</th>\n",
       "      <td>San Antonio-New Braunfels</td>\n",
       "      <td>1</td>\n",
       "      <td>0.0</td>\n",
       "    </tr>\n",
       "    <tr>\n",
       "      <th>189</th>\n",
       "      <td>San Jose-Sunnyvale-Santa Clara</td>\n",
       "      <td>1</td>\n",
       "      <td>0.0</td>\n",
       "    </tr>\n",
       "    <tr>\n",
       "      <th>191</th>\n",
       "      <td>Santa Maria-Santa Barbara</td>\n",
       "      <td>1</td>\n",
       "      <td>0.0</td>\n",
       "    </tr>\n",
       "    <tr>\n",
       "      <th>193</th>\n",
       "      <td>Scranton--Wilkes-Barre--Hazleton</td>\n",
       "      <td>1</td>\n",
       "      <td>0.0</td>\n",
       "    </tr>\n",
       "    <tr>\n",
       "      <th>195</th>\n",
       "      <td>Seattle-Tacoma-Bellevue</td>\n",
       "      <td>1</td>\n",
       "      <td>0.0</td>\n",
       "    </tr>\n",
       "    <tr>\n",
       "      <th>196</th>\n",
       "      <td>Selma</td>\n",
       "      <td>0</td>\n",
       "      <td>0.0</td>\n",
       "    </tr>\n",
       "    <tr>\n",
       "      <th>198</th>\n",
       "      <td>Spokane-Spokane Valley</td>\n",
       "      <td>0</td>\n",
       "      <td>0.0</td>\n",
       "    </tr>\n",
       "    <tr>\n",
       "      <th>203</th>\n",
       "      <td>Sterling</td>\n",
       "      <td>1</td>\n",
       "      <td>0.0</td>\n",
       "    </tr>\n",
       "    <tr>\n",
       "      <th>205</th>\n",
       "      <td>Stockton-Lodi</td>\n",
       "      <td>1</td>\n",
       "      <td>0.0</td>\n",
       "    </tr>\n",
       "    <tr>\n",
       "      <th>207</th>\n",
       "      <td>Syracuse</td>\n",
       "      <td>1</td>\n",
       "      <td>0.0</td>\n",
       "    </tr>\n",
       "    <tr>\n",
       "      <th>209</th>\n",
       "      <td>Tallahassee</td>\n",
       "      <td>1</td>\n",
       "      <td>0.0</td>\n",
       "    </tr>\n",
       "    <tr>\n",
       "      <th>211</th>\n",
       "      <td>Tampa-St. Petersburg-Clearwater</td>\n",
       "      <td>1</td>\n",
       "      <td>0.0</td>\n",
       "    </tr>\n",
       "    <tr>\n",
       "      <th>213</th>\n",
       "      <td>Troy</td>\n",
       "      <td>1</td>\n",
       "      <td>0.0</td>\n",
       "    </tr>\n",
       "    <tr>\n",
       "      <th>215</th>\n",
       "      <td>Truckee-Grass Valley</td>\n",
       "      <td>1</td>\n",
       "      <td>0.0</td>\n",
       "    </tr>\n",
       "    <tr>\n",
       "      <th>217</th>\n",
       "      <td>Vineland-Bridgeton</td>\n",
       "      <td>1</td>\n",
       "      <td>0.0</td>\n",
       "    </tr>\n",
       "    <tr>\n",
       "      <th>223</th>\n",
       "      <td>Wilson</td>\n",
       "      <td>1</td>\n",
       "      <td>0.0</td>\n",
       "    </tr>\n",
       "    <tr>\n",
       "      <th>225</th>\n",
       "      <td>Winston-Salem</td>\n",
       "      <td>1</td>\n",
       "      <td>0.0</td>\n",
       "    </tr>\n",
       "  </tbody>\n",
       "</table>\n",
       "<p>93 rows × 3 columns</p>\n",
       "</div>"
      ],
      "text/plain": [
       "                                    city  Churn  result\n",
       "0    Albany                               0      0.0   \n",
       "2    Albany-Schenectady-Troy              0      0.0   \n",
       "5    Alexandria                           1      0.0   \n",
       "7    Allentown-Bethlehem-Easton           1      0.0   \n",
       "9    Anchorage                            1      0.0   \n",
       "11   Atlanta-Sandy Springs-Roswell        1      0.0   \n",
       "13   Atlantic City-Hammonton              1      0.0   \n",
       "15   Austin-Round Rock                    1      0.0   \n",
       "17   Bakersfield                          1      0.0   \n",
       "21   Billings                             1      0.0   \n",
       "22   Birmingham-Hoover                    0      0.0   \n",
       "25   Boston-Cambridge-Newton              1      0.0   \n",
       "27   Boulder                              1      0.0   \n",
       "28   Bozeman                              0      0.0   \n",
       "31   Bridgeport-Stamford-Norwalk          1      0.0   \n",
       "33   Buffalo-Cheektowaga-Niagara Falls    1      0.0   \n",
       "35   Charlotte-Concord-Gastonia           1      0.0   \n",
       "39   Cincinnati                           1      0.0   \n",
       "40   Cleveland-Elyria                     0      0.0   \n",
       "42   Colorado Springs                     0      0.0   \n",
       "45   Columbus                             1      0.0   \n",
       "47   Concord                              1      0.0   \n",
       "49   Cookeville                           1      0.0   \n",
       "50   Corpus Christi                       0      0.0   \n",
       "55   Danville                             1      0.0   \n",
       "57   Dayton                               1      0.0   \n",
       "59   Deltona-Daytona Beach-Ormond Beach   1      0.0   \n",
       "65   Dubuque                              1      0.0   \n",
       "67   Duluth                               1      0.0   \n",
       "69   Fairbanks                            1      0.0   \n",
       "..         ...                           ..      ...   \n",
       "152  Oxnard-Thousand Oaks-Ventura         0      0.0   \n",
       "159  Pittsburgh                           1      0.0   \n",
       "161  Pontiac                              1      0.0   \n",
       "163  Port St. Lucie                       1      0.0   \n",
       "165  Portland-Vancouver-Hillsboro         1      0.0   \n",
       "167  Price                                1      0.0   \n",
       "169  Providence-Warwick                   1      0.0   \n",
       "170  Quincy                               0      0.0   \n",
       "173  Raleigh                              1      0.0   \n",
       "175  Riverside-San Bernardino-Ontario     1      0.0   \n",
       "177  Roanoke                              1      0.0   \n",
       "179  Sacramento--Roseville--Arden-Arcade  1      0.0   \n",
       "181  Salinas                              1      0.0   \n",
       "183  San Antonio-New Braunfels            1      0.0   \n",
       "189  San Jose-Sunnyvale-Santa Clara       1      0.0   \n",
       "191  Santa Maria-Santa Barbara            1      0.0   \n",
       "193  Scranton--Wilkes-Barre--Hazleton     1      0.0   \n",
       "195  Seattle-Tacoma-Bellevue              1      0.0   \n",
       "196  Selma                                0      0.0   \n",
       "198  Spokane-Spokane Valley               0      0.0   \n",
       "203  Sterling                             1      0.0   \n",
       "205  Stockton-Lodi                        1      0.0   \n",
       "207  Syracuse                             1      0.0   \n",
       "209  Tallahassee                          1      0.0   \n",
       "211  Tampa-St. Petersburg-Clearwater      1      0.0   \n",
       "213  Troy                                 1      0.0   \n",
       "215  Truckee-Grass Valley                 1      0.0   \n",
       "217  Vineland-Bridgeton                   1      0.0   \n",
       "223  Wilson                               1      0.0   \n",
       "225  Winston-Salem                        1      0.0   \n",
       "\n",
       "[93 rows x 3 columns]"
      ]
     },
     "execution_count": 100,
     "metadata": {},
     "output_type": "execute_result"
    }
   ],
   "source": [
    "city_data.loc[city_data['result'] == 0]"
   ]
  },
  {
   "cell_type": "code",
   "execution_count": 101,
   "metadata": {},
   "outputs": [
    {
     "data": {
      "image/png": "[encoded data removed]",
      "text/plain": [
       "<matplotlib.figure.Figure at 0x7f75c6d96da0>"
      ]
     },
     "metadata": {},
     "output_type": "display_data"
    }
   ],
   "source": [
    "fig_dims = (30, 20)\n",
    "fig, ax = plt.subplots(figsize=fig_dims)\n",
    "sns.barplot( x=\"result\",y=\"city\", hue=\"Churn\", data=city_data,ax=ax,  palette=\"Blues_d\");"
   ]
  },
  {
   "cell_type": "code",
   "execution_count": 102,
   "metadata": {},
   "outputs": [],
   "source": [
    "state_data = df_cleaned_cancel.dropDuplicates([\"userId\"]).groupby([\"state\",\"Churn\"]).count().sort(\"state\").toPandas()"
   ]
  },
  {
   "cell_type": "code",
   "execution_count": 103,
   "metadata": {},
   "outputs": [],
   "source": [
    "state_data = normalize_data(state_data)"
   ]
  },
  {
   "cell_type": "code",
   "execution_count": 104,
   "metadata": {},
   "outputs": [
    {
     "data": {
      "image/png": "[encoded data removed]",
      "text/plain": [
       "<matplotlib.figure.Figure at 0x7f75cdb787b8>"
      ]
     },
     "metadata": {},
     "output_type": "display_data"
    }
   ],
   "source": [
    "fig, ax = plt.subplots(figsize=(20,15))\n",
    "sns.barplot( x=\"result\",y=\"state\", hue=\"Churn\", data=state_data,ax=ax, palette=\"Blues_d\");"
   ]
  },
  {
   "cell_type": "code",
   "execution_count": 105,
   "metadata": {},
   "outputs": [
    {
     "name": "stdout",
     "output_type": "stream",
     "text": [
      "+-----+--------------------+------+\n",
      "|Churn|                page| count|\n",
      "+-----+--------------------+------+\n",
      "|    1|               About|    56|\n",
      "|    0|               About|   439|\n",
      "|    1|          Add Friend|   636|\n",
      "|    0|          Add Friend|  3641|\n",
      "|    1|     Add to Playlist|  1038|\n",
      "|    0|     Add to Playlist|  5488|\n",
      "|    1|              Cancel|    52|\n",
      "|    1|Cancellation Conf...|    52|\n",
      "|    0|           Downgrade|  1718|\n",
      "|    1|           Downgrade|   337|\n",
      "|    0|               Error|   220|\n",
      "|    1|               Error|    32|\n",
      "|    0|                Help|  1215|\n",
      "|    1|                Help|   239|\n",
      "|    0|                Home|  8410|\n",
      "|    1|                Home|  1672|\n",
      "|    1|              Logout|   553|\n",
      "|    0|              Logout|  2673|\n",
      "|    1|            NextSong| 36394|\n",
      "|    0|            NextSong|191714|\n",
      "+-----+--------------------+------+\n",
      "only showing top 20 rows\n",
      "\n"
     ]
    }
   ],
   "source": [
    "df_cleaned_cancel.select([\"Churn\", \"page\"]).groupby([\"Churn\", \"page\"]).count().sort(\"page\").show()"
   ]
  },
  {
   "cell_type": "code",
   "execution_count": 106,
   "metadata": {},
   "outputs": [],
   "source": [
    "page_data = df_cleaned_cancel.select([\"page\",\"Churn\"]).groupby([ \"page\",\"Churn\"]).count().sort(\"page\").toPandas()"
   ]
  },
  {
   "cell_type": "code",
   "execution_count": 107,
   "metadata": {},
   "outputs": [],
   "source": [
    "page_data = normalize_data(page_data)"
   ]
  },
  {
   "cell_type": "code",
   "execution_count": 108,
   "metadata": {},
   "outputs": [
    {
     "data": {
      "image/png": "[encoded data removed]",
      "text/plain": [
       "<matplotlib.figure.Figure at 0x7f75c2d6b908>"
      ]
     },
     "metadata": {},
     "output_type": "display_data"
    }
   ],
   "source": [
    "fig, ax = plt.subplots(figsize=(10,5))\n",
    "sns.barplot( x=\"result\",y=\"page\", hue=\"Churn\", data=page_data,ax=ax,palette=\"Blues_d\");"
   ]
  },
  {
   "cell_type": "code",
   "execution_count": 109,
   "metadata": {},
   "outputs": [],
   "source": [
    "browser = udf(lambda x : get_browser(x))"
   ]
  },
  {
   "cell_type": "code",
   "execution_count": 110,
   "metadata": {},
   "outputs": [],
   "source": [
    "#get browsers\n",
    "df_cleaned_cancel = df_cleaned_cancel.withColumn('browser',browser(df_cleaned_cancel.userAgent))"
   ]
  },
  {
   "cell_type": "code",
   "execution_count": 111,
   "metadata": {},
   "outputs": [],
   "source": [
    "get_platform = udf(lambda x: platform_dict[re.findall(r'\\(([^\\)]*)\\)',x)[0].split(';')[0]])"
   ]
  },
  {
   "cell_type": "code",
   "execution_count": 112,
   "metadata": {},
   "outputs": [],
   "source": [
    "#get platform\n",
    "df_cleaned_cancel = df_cleaned_cancel.withColumn('platform',get_platform(df_cleaned_cancel.userAgent))"
   ]
  },
  {
   "cell_type": "code",
   "execution_count": 113,
   "metadata": {},
   "outputs": [],
   "source": [
    "browser_data = df_cleaned_cancel.select([\"browser\",\"Churn\"]).groupby([ \"browser\",\"Churn\"]).count().sort(\"browser\").toPandas()"
   ]
  },
  {
   "cell_type": "code",
   "execution_count": 114,
   "metadata": {},
   "outputs": [],
   "source": [
    "browser_data = normalize_data(browser_data)"
   ]
  },
  {
   "cell_type": "code",
   "execution_count": 115,
   "metadata": {},
   "outputs": [
    {
     "data": {
      "image/png": "[encoded data removed]",
      "text/plain": [
       "<matplotlib.figure.Figure at 0x7f75c2b2f898>"
      ]
     },
     "metadata": {},
     "output_type": "display_data"
    }
   ],
   "source": [
    "fig, ax = plt.subplots(figsize=(10,5))\n",
    "sns.barplot( x=\"result\",y=\"browser\", hue=\"Churn\", data=browser_data,ax=ax, palette=\"Blues_d\");"
   ]
  },
  {
   "cell_type": "code",
   "execution_count": 116,
   "metadata": {},
   "outputs": [],
   "source": [
    "platform_data = df_cleaned_cancel.select([\"platform\",\"Churn\"]).groupby([ \"platform\",\"Churn\"]).count().sort(\"platform\").toPandas()"
   ]
  },
  {
   "cell_type": "code",
   "execution_count": 117,
   "metadata": {},
   "outputs": [],
   "source": [
    "platform_data = normalize_data(platform_data)"
   ]
  },
  {
   "cell_type": "code",
   "execution_count": 118,
   "metadata": {},
   "outputs": [
    {
     "data": {
      "image/png": "[encoded data removed]",
      "text/plain": [
       "<matplotlib.figure.Figure at 0x7f75cdd54470>"
      ]
     },
     "metadata": {},
     "output_type": "display_data"
    }
   ],
   "source": [
    "fig, ax = plt.subplots(figsize=(10,5))\n",
    "sns.barplot( x=\"result\",y=\"platform\", hue=\"Churn\", data=platform_data,ax=ax, palette=\"Blues_d\");"
   ]
  },
  {
   "cell_type": "code",
   "execution_count": 119,
   "metadata": {},
   "outputs": [
    {
     "data": {
      "text/html": [
       "<div>\n",
       "<style scoped>\n",
       "    .dataframe tbody tr th:only-of-type {\n",
       "        vertical-align: middle;\n",
       "    }\n",
       "\n",
       "    .dataframe tbody tr th {\n",
       "        vertical-align: top;\n",
       "    }\n",
       "\n",
       "    .dataframe thead th {\n",
       "        text-align: right;\n",
       "    }\n",
       "</style>\n",
       "<table border=\"1\" class=\"dataframe\">\n",
       "  <thead>\n",
       "    <tr style=\"text-align: right;\">\n",
       "      <th></th>\n",
       "      <th>artist</th>\n",
       "      <th>auth</th>\n",
       "      <th>gender</th>\n",
       "      <th>itemInSession</th>\n",
       "      <th>length</th>\n",
       "      <th>level</th>\n",
       "      <th>location</th>\n",
       "      <th>method</th>\n",
       "      <th>page</th>\n",
       "      <th>registration</th>\n",
       "      <th>...</th>\n",
       "      <th>userAgent</th>\n",
       "      <th>userId</th>\n",
       "      <th>act_time</th>\n",
       "      <th>registration_ts</th>\n",
       "      <th>Churn_state</th>\n",
       "      <th>Churn</th>\n",
       "      <th>city</th>\n",
       "      <th>state</th>\n",
       "      <th>browser</th>\n",
       "      <th>platform</th>\n",
       "    </tr>\n",
       "  </thead>\n",
       "  <tbody>\n",
       "    <tr>\n",
       "      <th>0</th>\n",
       "      <td>Sleeping With Sirens</td>\n",
       "      <td>Logged In</td>\n",
       "      <td>F</td>\n",
       "      <td>0</td>\n",
       "      <td>202.97098</td>\n",
       "      <td>free</td>\n",
       "      <td>Bridgeport-Stamford-Norwalk, CT</td>\n",
       "      <td>PUT</td>\n",
       "      <td>NextSong</td>\n",
       "      <td>1538016340000</td>\n",
       "      <td>...</td>\n",
       "      <td>\"Mozilla/5.0 (iPhone; CPU iPhone OS 7_1_2 like Mac OS X) AppleWebKit/537.51.2 (KHTML, like Gecko) Version/7.0 Mobile/11D257 Safari/9537.53\"</td>\n",
       "      <td>100010</td>\n",
       "      <td>2018-10-08 12:58:54</td>\n",
       "      <td>2018-09-27 02:45:40</td>\n",
       "      <td>0</td>\n",
       "      <td>0</td>\n",
       "      <td>Bridgeport-Stamford-Norwalk</td>\n",
       "      <td>CT</td>\n",
       "      <td>Safari</td>\n",
       "      <td>iPhone</td>\n",
       "    </tr>\n",
       "    <tr>\n",
       "      <th>1</th>\n",
       "      <td>Francesca Battistelli</td>\n",
       "      <td>Logged In</td>\n",
       "      <td>F</td>\n",
       "      <td>1</td>\n",
       "      <td>196.54485</td>\n",
       "      <td>free</td>\n",
       "      <td>Bridgeport-Stamford-Norwalk, CT</td>\n",
       "      <td>PUT</td>\n",
       "      <td>NextSong</td>\n",
       "      <td>1538016340000</td>\n",
       "      <td>...</td>\n",
       "      <td>\"Mozilla/5.0 (iPhone; CPU iPhone OS 7_1_2 like Mac OS X) AppleWebKit/537.51.2 (KHTML, like Gecko) Version/7.0 Mobile/11D257 Safari/9537.53\"</td>\n",
       "      <td>100010</td>\n",
       "      <td>2018-10-08 13:02:16</td>\n",
       "      <td>2018-09-27 02:45:40</td>\n",
       "      <td>0</td>\n",
       "      <td>0</td>\n",
       "      <td>Bridgeport-Stamford-Norwalk</td>\n",
       "      <td>CT</td>\n",
       "      <td>Safari</td>\n",
       "      <td>iPhone</td>\n",
       "    </tr>\n",
       "    <tr>\n",
       "      <th>2</th>\n",
       "      <td>Brutha</td>\n",
       "      <td>Logged In</td>\n",
       "      <td>F</td>\n",
       "      <td>2</td>\n",
       "      <td>263.13098</td>\n",
       "      <td>free</td>\n",
       "      <td>Bridgeport-Stamford-Norwalk, CT</td>\n",
       "      <td>PUT</td>\n",
       "      <td>NextSong</td>\n",
       "      <td>1538016340000</td>\n",
       "      <td>...</td>\n",
       "      <td>\"Mozilla/5.0 (iPhone; CPU iPhone OS 7_1_2 like Mac OS X) AppleWebKit/537.51.2 (KHTML, like Gecko) Version/7.0 Mobile/11D257 Safari/9537.53\"</td>\n",
       "      <td>100010</td>\n",
       "      <td>2018-10-08 13:05:32</td>\n",
       "      <td>2018-09-27 02:45:40</td>\n",
       "      <td>0</td>\n",
       "      <td>0</td>\n",
       "      <td>Bridgeport-Stamford-Norwalk</td>\n",
       "      <td>CT</td>\n",
       "      <td>Safari</td>\n",
       "      <td>iPhone</td>\n",
       "    </tr>\n",
       "    <tr>\n",
       "      <th>3</th>\n",
       "      <td>None</td>\n",
       "      <td>Logged In</td>\n",
       "      <td>F</td>\n",
       "      <td>3</td>\n",
       "      <td>NaN</td>\n",
       "      <td>free</td>\n",
       "      <td>Bridgeport-Stamford-Norwalk, CT</td>\n",
       "      <td>PUT</td>\n",
       "      <td>Thumbs Up</td>\n",
       "      <td>1538016340000</td>\n",
       "      <td>...</td>\n",
       "      <td>\"Mozilla/5.0 (iPhone; CPU iPhone OS 7_1_2 like Mac OS X) AppleWebKit/537.51.2 (KHTML, like Gecko) Version/7.0 Mobile/11D257 Safari/9537.53\"</td>\n",
       "      <td>100010</td>\n",
       "      <td>2018-10-08 13:05:33</td>\n",
       "      <td>2018-09-27 02:45:40</td>\n",
       "      <td>0</td>\n",
       "      <td>0</td>\n",
       "      <td>Bridgeport-Stamford-Norwalk</td>\n",
       "      <td>CT</td>\n",
       "      <td>Safari</td>\n",
       "      <td>iPhone</td>\n",
       "    </tr>\n",
       "    <tr>\n",
       "      <th>4</th>\n",
       "      <td>Josh Ritter</td>\n",
       "      <td>Logged In</td>\n",
       "      <td>F</td>\n",
       "      <td>4</td>\n",
       "      <td>316.23791</td>\n",
       "      <td>free</td>\n",
       "      <td>Bridgeport-Stamford-Norwalk, CT</td>\n",
       "      <td>PUT</td>\n",
       "      <td>NextSong</td>\n",
       "      <td>1538016340000</td>\n",
       "      <td>...</td>\n",
       "      <td>\"Mozilla/5.0 (iPhone; CPU iPhone OS 7_1_2 like Mac OS X) AppleWebKit/537.51.2 (KHTML, like Gecko) Version/7.0 Mobile/11D257 Safari/9537.53\"</td>\n",
       "      <td>100010</td>\n",
       "      <td>2018-10-08 13:09:55</td>\n",
       "      <td>2018-09-27 02:45:40</td>\n",
       "      <td>0</td>\n",
       "      <td>0</td>\n",
       "      <td>Bridgeport-Stamford-Norwalk</td>\n",
       "      <td>CT</td>\n",
       "      <td>Safari</td>\n",
       "      <td>iPhone</td>\n",
       "    </tr>\n",
       "  </tbody>\n",
       "</table>\n",
       "<p>5 rows × 24 columns</p>\n",
       "</div>"
      ],
      "text/plain": [
       "                  artist       auth gender  itemInSession     length level  \\\n",
       "0  Sleeping With Sirens   Logged In  F      0              202.97098  free   \n",
       "1  Francesca Battistelli  Logged In  F      1              196.54485  free   \n",
       "2  Brutha                 Logged In  F      2              263.13098  free   \n",
       "3  None                   Logged In  F      3             NaN         free   \n",
       "4  Josh Ritter            Logged In  F      4              316.23791  free   \n",
       "\n",
       "                          location method       page   registration    ...     \\\n",
       "0  Bridgeport-Stamford-Norwalk, CT  PUT    NextSong   1538016340000    ...      \n",
       "1  Bridgeport-Stamford-Norwalk, CT  PUT    NextSong   1538016340000    ...      \n",
       "2  Bridgeport-Stamford-Norwalk, CT  PUT    NextSong   1538016340000    ...      \n",
       "3  Bridgeport-Stamford-Norwalk, CT  PUT    Thumbs Up  1538016340000    ...      \n",
       "4  Bridgeport-Stamford-Norwalk, CT  PUT    NextSong   1538016340000    ...      \n",
       "\n",
       "                                                                                                                                     userAgent  \\\n",
       "0  \"Mozilla/5.0 (iPhone; CPU iPhone OS 7_1_2 like Mac OS X) AppleWebKit/537.51.2 (KHTML, like Gecko) Version/7.0 Mobile/11D257 Safari/9537.53\"   \n",
       "1  \"Mozilla/5.0 (iPhone; CPU iPhone OS 7_1_2 like Mac OS X) AppleWebKit/537.51.2 (KHTML, like Gecko) Version/7.0 Mobile/11D257 Safari/9537.53\"   \n",
       "2  \"Mozilla/5.0 (iPhone; CPU iPhone OS 7_1_2 like Mac OS X) AppleWebKit/537.51.2 (KHTML, like Gecko) Version/7.0 Mobile/11D257 Safari/9537.53\"   \n",
       "3  \"Mozilla/5.0 (iPhone; CPU iPhone OS 7_1_2 like Mac OS X) AppleWebKit/537.51.2 (KHTML, like Gecko) Version/7.0 Mobile/11D257 Safari/9537.53\"   \n",
       "4  \"Mozilla/5.0 (iPhone; CPU iPhone OS 7_1_2 like Mac OS X) AppleWebKit/537.51.2 (KHTML, like Gecko) Version/7.0 Mobile/11D257 Safari/9537.53\"   \n",
       "\n",
       "   userId             act_time      registration_ts Churn_state Churn  \\\n",
       "0  100010  2018-10-08 12:58:54  2018-09-27 02:45:40  0           0      \n",
       "1  100010  2018-10-08 13:02:16  2018-09-27 02:45:40  0           0      \n",
       "2  100010  2018-10-08 13:05:32  2018-09-27 02:45:40  0           0      \n",
       "3  100010  2018-10-08 13:05:33  2018-09-27 02:45:40  0           0      \n",
       "4  100010  2018-10-08 13:09:55  2018-09-27 02:45:40  0           0      \n",
       "\n",
       "                          city state  browser  platform  \n",
       "0  Bridgeport-Stamford-Norwalk   CT   Safari   iPhone    \n",
       "1  Bridgeport-Stamford-Norwalk   CT   Safari   iPhone    \n",
       "2  Bridgeport-Stamford-Norwalk   CT   Safari   iPhone    \n",
       "3  Bridgeport-Stamford-Norwalk   CT   Safari   iPhone    \n",
       "4  Bridgeport-Stamford-Norwalk   CT   Safari   iPhone    \n",
       "\n",
       "[5 rows x 24 columns]"
      ]
     },
     "execution_count": 119,
     "metadata": {},
     "output_type": "execute_result"
    }
   ],
   "source": [
    "df_cleaned_cancel.limit(5).toPandas()"
   ]
  },
  {
   "cell_type": "code",
   "execution_count": 120,
   "metadata": {},
   "outputs": [],
   "source": [
    "df_cleaned_cancel_kbp = df_cleaned_cancel"
   ]
  },
  {
   "cell_type": "code",
   "execution_count": 121,
   "metadata": {},
   "outputs": [
    {
     "data": {
      "text/html": [
       "<div>\n",
       "<style scoped>\n",
       "    .dataframe tbody tr th:only-of-type {\n",
       "        vertical-align: middle;\n",
       "    }\n",
       "\n",
       "    .dataframe tbody tr th {\n",
       "        vertical-align: top;\n",
       "    }\n",
       "\n",
       "    .dataframe thead th {\n",
       "        text-align: right;\n",
       "    }\n",
       "</style>\n",
       "<table border=\"1\" class=\"dataframe\">\n",
       "  <thead>\n",
       "    <tr style=\"text-align: right;\">\n",
       "      <th></th>\n",
       "      <th>artist</th>\n",
       "      <th>auth</th>\n",
       "      <th>gender</th>\n",
       "      <th>itemInSession</th>\n",
       "      <th>length</th>\n",
       "      <th>level</th>\n",
       "      <th>location</th>\n",
       "      <th>method</th>\n",
       "      <th>page</th>\n",
       "      <th>registration</th>\n",
       "      <th>...</th>\n",
       "      <th>userAgent</th>\n",
       "      <th>userId</th>\n",
       "      <th>act_time</th>\n",
       "      <th>registration_ts</th>\n",
       "      <th>Churn_state</th>\n",
       "      <th>Churn</th>\n",
       "      <th>city</th>\n",
       "      <th>state</th>\n",
       "      <th>browser</th>\n",
       "      <th>platform</th>\n",
       "    </tr>\n",
       "  </thead>\n",
       "  <tbody>\n",
       "    <tr>\n",
       "      <th>0</th>\n",
       "      <td>Sleeping With Sirens</td>\n",
       "      <td>Logged In</td>\n",
       "      <td>F</td>\n",
       "      <td>0</td>\n",
       "      <td>202.97098</td>\n",
       "      <td>free</td>\n",
       "      <td>Bridgeport-Stamford-Norwalk, CT</td>\n",
       "      <td>PUT</td>\n",
       "      <td>NextSong</td>\n",
       "      <td>1538016340000</td>\n",
       "      <td>...</td>\n",
       "      <td>\"Mozilla/5.0 (iPhone; CPU iPhone OS 7_1_2 like Mac OS X) AppleWebKit/537.51.2 (KHTML, like Gecko) Version/7.0 Mobile/11D257 Safari/9537.53\"</td>\n",
       "      <td>100010</td>\n",
       "      <td>2018-10-08 12:58:54</td>\n",
       "      <td>2018-09-27 02:45:40</td>\n",
       "      <td>0</td>\n",
       "      <td>0</td>\n",
       "      <td>Bridgeport-Stamford-Norwalk</td>\n",
       "      <td>CT</td>\n",
       "      <td>Safari</td>\n",
       "      <td>iPhone</td>\n",
       "    </tr>\n",
       "    <tr>\n",
       "      <th>1</th>\n",
       "      <td>Francesca Battistelli</td>\n",
       "      <td>Logged In</td>\n",
       "      <td>F</td>\n",
       "      <td>1</td>\n",
       "      <td>196.54485</td>\n",
       "      <td>free</td>\n",
       "      <td>Bridgeport-Stamford-Norwalk, CT</td>\n",
       "      <td>PUT</td>\n",
       "      <td>NextSong</td>\n",
       "      <td>1538016340000</td>\n",
       "      <td>...</td>\n",
       "      <td>\"Mozilla/5.0 (iPhone; CPU iPhone OS 7_1_2 like Mac OS X) AppleWebKit/537.51.2 (KHTML, like Gecko) Version/7.0 Mobile/11D257 Safari/9537.53\"</td>\n",
       "      <td>100010</td>\n",
       "      <td>2018-10-08 13:02:16</td>\n",
       "      <td>2018-09-27 02:45:40</td>\n",
       "      <td>0</td>\n",
       "      <td>0</td>\n",
       "      <td>Bridgeport-Stamford-Norwalk</td>\n",
       "      <td>CT</td>\n",
       "      <td>Safari</td>\n",
       "      <td>iPhone</td>\n",
       "    </tr>\n",
       "  </tbody>\n",
       "</table>\n",
       "<p>2 rows × 24 columns</p>\n",
       "</div>"
      ],
      "text/plain": [
       "                  artist       auth gender  itemInSession     length level  \\\n",
       "0  Sleeping With Sirens   Logged In  F      0              202.97098  free   \n",
       "1  Francesca Battistelli  Logged In  F      1              196.54485  free   \n",
       "\n",
       "                          location method      page   registration    ...     \\\n",
       "0  Bridgeport-Stamford-Norwalk, CT  PUT    NextSong  1538016340000    ...      \n",
       "1  Bridgeport-Stamford-Norwalk, CT  PUT    NextSong  1538016340000    ...      \n",
       "\n",
       "                                                                                                                                     userAgent  \\\n",
       "0  \"Mozilla/5.0 (iPhone; CPU iPhone OS 7_1_2 like Mac OS X) AppleWebKit/537.51.2 (KHTML, like Gecko) Version/7.0 Mobile/11D257 Safari/9537.53\"   \n",
       "1  \"Mozilla/5.0 (iPhone; CPU iPhone OS 7_1_2 like Mac OS X) AppleWebKit/537.51.2 (KHTML, like Gecko) Version/7.0 Mobile/11D257 Safari/9537.53\"   \n",
       "\n",
       "   userId             act_time      registration_ts Churn_state Churn  \\\n",
       "0  100010  2018-10-08 12:58:54  2018-09-27 02:45:40  0           0      \n",
       "1  100010  2018-10-08 13:02:16  2018-09-27 02:45:40  0           0      \n",
       "\n",
       "                          city state  browser  platform  \n",
       "0  Bridgeport-Stamford-Norwalk   CT   Safari   iPhone    \n",
       "1  Bridgeport-Stamford-Norwalk   CT   Safari   iPhone    \n",
       "\n",
       "[2 rows x 24 columns]"
      ]
     },
     "execution_count": 121,
     "metadata": {},
     "output_type": "execute_result"
    }
   ],
   "source": [
    "df_cleaned_cancel_kbp.limit(2).toPandas()"
   ]
  },
  {
   "cell_type": "code",
   "execution_count": 122,
   "metadata": {},
   "outputs": [],
   "source": [
    "get_hour = udf(lambda x: datetime.datetime.fromtimestamp(x / 1000.0).hour)\n",
    "get_day = udf(lambda x: datetime.datetime.fromtimestamp(x / 1000.0).day)\n",
    "get_weekday = udf(lambda x: datetime.datetime.fromtimestamp(x / 1000.0).strftime('%w'))"
   ]
  },
  {
   "cell_type": "code",
   "execution_count": 123,
   "metadata": {},
   "outputs": [
    {
     "data": {
      "text/html": [
       "<div>\n",
       "<style scoped>\n",
       "    .dataframe tbody tr th:only-of-type {\n",
       "        vertical-align: middle;\n",
       "    }\n",
       "\n",
       "    .dataframe tbody tr th {\n",
       "        vertical-align: top;\n",
       "    }\n",
       "\n",
       "    .dataframe thead th {\n",
       "        text-align: right;\n",
       "    }\n",
       "</style>\n",
       "<table border=\"1\" class=\"dataframe\">\n",
       "  <thead>\n",
       "    <tr style=\"text-align: right;\">\n",
       "      <th></th>\n",
       "      <th>artist</th>\n",
       "      <th>auth</th>\n",
       "      <th>gender</th>\n",
       "      <th>itemInSession</th>\n",
       "      <th>length</th>\n",
       "      <th>level</th>\n",
       "      <th>location</th>\n",
       "      <th>method</th>\n",
       "      <th>page</th>\n",
       "      <th>registration</th>\n",
       "      <th>...</th>\n",
       "      <th>userAgent</th>\n",
       "      <th>userId</th>\n",
       "      <th>act_time</th>\n",
       "      <th>registration_ts</th>\n",
       "      <th>Churn_state</th>\n",
       "      <th>Churn</th>\n",
       "      <th>city</th>\n",
       "      <th>state</th>\n",
       "      <th>browser</th>\n",
       "      <th>platform</th>\n",
       "    </tr>\n",
       "  </thead>\n",
       "  <tbody>\n",
       "    <tr>\n",
       "      <th>0</th>\n",
       "      <td>Sleeping With Sirens</td>\n",
       "      <td>Logged In</td>\n",
       "      <td>F</td>\n",
       "      <td>0</td>\n",
       "      <td>202.97098</td>\n",
       "      <td>free</td>\n",
       "      <td>Bridgeport-Stamford-Norwalk, CT</td>\n",
       "      <td>PUT</td>\n",
       "      <td>NextSong</td>\n",
       "      <td>1538016340000</td>\n",
       "      <td>...</td>\n",
       "      <td>\"Mozilla/5.0 (iPhone; CPU iPhone OS 7_1_2 like Mac OS X) AppleWebKit/537.51.2 (KHTML, like Gecko) Version/7.0 Mobile/11D257 Safari/9537.53\"</td>\n",
       "      <td>100010</td>\n",
       "      <td>2018-10-08 12:58:54</td>\n",
       "      <td>2018-09-27 02:45:40</td>\n",
       "      <td>0</td>\n",
       "      <td>0</td>\n",
       "      <td>Bridgeport-Stamford-Norwalk</td>\n",
       "      <td>CT</td>\n",
       "      <td>Safari</td>\n",
       "      <td>iPhone</td>\n",
       "    </tr>\n",
       "    <tr>\n",
       "      <th>1</th>\n",
       "      <td>Francesca Battistelli</td>\n",
       "      <td>Logged In</td>\n",
       "      <td>F</td>\n",
       "      <td>1</td>\n",
       "      <td>196.54485</td>\n",
       "      <td>free</td>\n",
       "      <td>Bridgeport-Stamford-Norwalk, CT</td>\n",
       "      <td>PUT</td>\n",
       "      <td>NextSong</td>\n",
       "      <td>1538016340000</td>\n",
       "      <td>...</td>\n",
       "      <td>\"Mozilla/5.0 (iPhone; CPU iPhone OS 7_1_2 like Mac OS X) AppleWebKit/537.51.2 (KHTML, like Gecko) Version/7.0 Mobile/11D257 Safari/9537.53\"</td>\n",
       "      <td>100010</td>\n",
       "      <td>2018-10-08 13:02:16</td>\n",
       "      <td>2018-09-27 02:45:40</td>\n",
       "      <td>0</td>\n",
       "      <td>0</td>\n",
       "      <td>Bridgeport-Stamford-Norwalk</td>\n",
       "      <td>CT</td>\n",
       "      <td>Safari</td>\n",
       "      <td>iPhone</td>\n",
       "    </tr>\n",
       "  </tbody>\n",
       "</table>\n",
       "<p>2 rows × 24 columns</p>\n",
       "</div>"
      ],
      "text/plain": [
       "                  artist       auth gender  itemInSession     length level  \\\n",
       "0  Sleeping With Sirens   Logged In  F      0              202.97098  free   \n",
       "1  Francesca Battistelli  Logged In  F      1              196.54485  free   \n",
       "\n",
       "                          location method      page   registration    ...     \\\n",
       "0  Bridgeport-Stamford-Norwalk, CT  PUT    NextSong  1538016340000    ...      \n",
       "1  Bridgeport-Stamford-Norwalk, CT  PUT    NextSong  1538016340000    ...      \n",
       "\n",
       "                                                                                                                                     userAgent  \\\n",
       "0  \"Mozilla/5.0 (iPhone; CPU iPhone OS 7_1_2 like Mac OS X) AppleWebKit/537.51.2 (KHTML, like Gecko) Version/7.0 Mobile/11D257 Safari/9537.53\"   \n",
       "1  \"Mozilla/5.0 (iPhone; CPU iPhone OS 7_1_2 like Mac OS X) AppleWebKit/537.51.2 (KHTML, like Gecko) Version/7.0 Mobile/11D257 Safari/9537.53\"   \n",
       "\n",
       "   userId             act_time      registration_ts Churn_state Churn  \\\n",
       "0  100010  2018-10-08 12:58:54  2018-09-27 02:45:40  0           0      \n",
       "1  100010  2018-10-08 13:02:16  2018-09-27 02:45:40  0           0      \n",
       "\n",
       "                          city state  browser  platform  \n",
       "0  Bridgeport-Stamford-Norwalk   CT   Safari   iPhone    \n",
       "1  Bridgeport-Stamford-Norwalk   CT   Safari   iPhone    \n",
       "\n",
       "[2 rows x 24 columns]"
      ]
     },
     "execution_count": 123,
     "metadata": {},
     "output_type": "execute_result"
    }
   ],
   "source": [
    "df_cleaned_cancel = df_cleaned_cancel_kbp\n",
    "df_cleaned_cancel.limit(2).toPandas()"
   ]
  },
  {
   "cell_type": "code",
   "execution_count": 124,
   "metadata": {},
   "outputs": [],
   "source": [
    "df_cleaned_cancel = df_cleaned_cancel.withColumn('hour', get_hour(df_cleaned_cancel.ts))\n",
    "df_cleaned_cancel = df_cleaned_cancel.withColumn('day', get_day(df_cleaned_cancel.ts))\n",
    "df_cleaned_cancel = df_cleaned_cancel.withColumn('dayofweek', get_weekday(df_cleaned_cancel.ts))"
   ]
  },
  {
   "cell_type": "code",
   "execution_count": 125,
   "metadata": {},
   "outputs": [],
   "source": [
    "hour_data = df_cleaned_cancel.select([\"Churn\", \"hour\"]).groupby([\"Churn\", \"hour\"]).count().sort(\"hour\").toPandas()\n",
    "day_data = df_cleaned_cancel.select([\"Churn\", \"day\"]).groupby([\"Churn\", \"day\"]).count().sort(\"day\").toPandas()\n",
    "dayofweek_data = df_cleaned_cancel.select([\"Churn\", \"dayofweek\"]).groupby([\"Churn\", \"dayofweek\"]).count().sort(\"dayofweek\").toPandas()"
   ]
  },
  {
   "cell_type": "code",
   "execution_count": 126,
   "metadata": {},
   "outputs": [],
   "source": [
    "hour_data = normalize_data(hour_data)"
   ]
  },
  {
   "cell_type": "code",
   "execution_count": 127,
   "metadata": {},
   "outputs": [
    {
     "data": {
      "image/png": "[encoded data removed]",
      "text/plain": [
       "<matplotlib.figure.Figure at 0x7f75c6b82a58>"
      ]
     },
     "metadata": {},
     "output_type": "display_data"
    }
   ],
   "source": [
    "fig, ax = plt.subplots(figsize=(10,5))\n",
    "sns.barplot( x=\"hour\",y=\"result\", hue=\"Churn\", data=hour_data,ax=ax,order=list(map(lambda x: str(x),range(23))), palette=\"Blues_d\");"
   ]
  },
  {
   "cell_type": "code",
   "execution_count": 128,
   "metadata": {},
   "outputs": [],
   "source": [
    "day_data = normalize_data(day_data)"
   ]
  },
  {
   "cell_type": "code",
   "execution_count": 129,
   "metadata": {},
   "outputs": [
    {
     "data": {
      "image/png": "[encoded data removed]",
      "text/plain": [
       "<matplotlib.figure.Figure at 0x7f75c6b9c3c8>"
      ]
     },
     "metadata": {},
     "output_type": "display_data"
    }
   ],
   "source": [
    "fig, ax = plt.subplots(figsize=(10,5))\n",
    "sns.barplot( x=\"day\",y=\"result\", hue=\"Churn\", data=day_data,ax=ax,order=list(map(lambda x: str(x),range(1,32))), palette=\"Blues_d\" );"
   ]
  },
  {
   "cell_type": "code",
   "execution_count": 130,
   "metadata": {},
   "outputs": [],
   "source": [
    "dayofweek_data = normalize_data(dayofweek_data)"
   ]
  },
  {
   "cell_type": "code",
   "execution_count": 131,
   "metadata": {},
   "outputs": [
    {
     "data": {
      "text/html": [
       "<div>\n",
       "<style scoped>\n",
       "    .dataframe tbody tr th:only-of-type {\n",
       "        vertical-align: middle;\n",
       "    }\n",
       "\n",
       "    .dataframe tbody tr th {\n",
       "        vertical-align: top;\n",
       "    }\n",
       "\n",
       "    .dataframe thead th {\n",
       "        text-align: right;\n",
       "    }\n",
       "</style>\n",
       "<table border=\"1\" class=\"dataframe\">\n",
       "  <thead>\n",
       "    <tr style=\"text-align: right;\">\n",
       "      <th></th>\n",
       "      <th>dayofweek</th>\n",
       "      <th>Churn</th>\n",
       "      <th>result</th>\n",
       "    </tr>\n",
       "  </thead>\n",
       "  <tbody>\n",
       "    <tr>\n",
       "      <th>0</th>\n",
       "      <td>0</td>\n",
       "      <td>0</td>\n",
       "      <td>0.000000</td>\n",
       "    </tr>\n",
       "    <tr>\n",
       "      <th>1</th>\n",
       "      <td>0</td>\n",
       "      <td>1</td>\n",
       "      <td>0.000000</td>\n",
       "    </tr>\n",
       "    <tr>\n",
       "      <th>2</th>\n",
       "      <td>1</td>\n",
       "      <td>0</td>\n",
       "      <td>0.827431</td>\n",
       "    </tr>\n",
       "    <tr>\n",
       "      <th>3</th>\n",
       "      <td>1</td>\n",
       "      <td>1</td>\n",
       "      <td>0.784776</td>\n",
       "    </tr>\n",
       "    <tr>\n",
       "      <th>4</th>\n",
       "      <td>2</td>\n",
       "      <td>0</td>\n",
       "      <td>0.985619</td>\n",
       "    </tr>\n",
       "    <tr>\n",
       "      <th>5</th>\n",
       "      <td>2</td>\n",
       "      <td>1</td>\n",
       "      <td>0.911285</td>\n",
       "    </tr>\n",
       "    <tr>\n",
       "      <th>6</th>\n",
       "      <td>3</td>\n",
       "      <td>0</td>\n",
       "      <td>0.938009</td>\n",
       "    </tr>\n",
       "    <tr>\n",
       "      <th>7</th>\n",
       "      <td>3</td>\n",
       "      <td>1</td>\n",
       "      <td>0.845103</td>\n",
       "    </tr>\n",
       "    <tr>\n",
       "      <th>8</th>\n",
       "      <td>4</td>\n",
       "      <td>0</td>\n",
       "      <td>0.842789</td>\n",
       "    </tr>\n",
       "    <tr>\n",
       "      <th>9</th>\n",
       "      <td>4</td>\n",
       "      <td>1</td>\n",
       "      <td>0.915720</td>\n",
       "    </tr>\n",
       "    <tr>\n",
       "      <th>10</th>\n",
       "      <td>5</td>\n",
       "      <td>0</td>\n",
       "      <td>1.000000</td>\n",
       "    </tr>\n",
       "    <tr>\n",
       "      <th>11</th>\n",
       "      <td>5</td>\n",
       "      <td>1</td>\n",
       "      <td>1.000000</td>\n",
       "    </tr>\n",
       "    <tr>\n",
       "      <th>12</th>\n",
       "      <td>6</td>\n",
       "      <td>0</td>\n",
       "      <td>0.229348</td>\n",
       "    </tr>\n",
       "    <tr>\n",
       "      <th>13</th>\n",
       "      <td>6</td>\n",
       "      <td>1</td>\n",
       "      <td>0.363556</td>\n",
       "    </tr>\n",
       "  </tbody>\n",
       "</table>\n",
       "</div>"
      ],
      "text/plain": [
       "   dayofweek  Churn    result\n",
       "0   0         0      0.000000\n",
       "1   0         1      0.000000\n",
       "2   1         0      0.827431\n",
       "3   1         1      0.784776\n",
       "4   2         0      0.985619\n",
       "5   2         1      0.911285\n",
       "6   3         0      0.938009\n",
       "7   3         1      0.845103\n",
       "8   4         0      0.842789\n",
       "9   4         1      0.915720\n",
       "10  5         0      1.000000\n",
       "11  5         1      1.000000\n",
       "12  6         0      0.229348\n",
       "13  6         1      0.363556"
      ]
     },
     "execution_count": 131,
     "metadata": {},
     "output_type": "execute_result"
    }
   ],
   "source": [
    "dayofweek_data"
   ]
  },
  {
   "cell_type": "code",
   "execution_count": 132,
   "metadata": {},
   "outputs": [
    {
     "data": {
      "image/png": "[encoded data removed]",
      "text/plain": [
       "<matplotlib.figure.Figure at 0x7f75c2bbfd30>"
      ]
     },
     "metadata": {},
     "output_type": "display_data"
    }
   ],
   "source": [
    "fig, ax = plt.subplots(figsize=(10,5))\n",
    "sns.barplot( x=\"dayofweek\",y=\"result\", hue=\"Churn\", data=dayofweek_data,ax=ax, palette=\"Blues_d\");"
   ]
  },
  {
   "cell_type": "markdown",
   "metadata": {},
   "source": [
    "# Feature Engineering\n",
    "Once you've familiarized yourself with the data, build out the features you find promising to train your model on. To work with the full dataset, you can follow the following steps.\n",
    "- Write a script to extract the necessary features from the smaller subset of data\n",
    "- Ensure that your script is scalable, using the best practices discussed in Lesson 3\n",
    "- Try your script on the full data set, debugging your script if necessary\n",
    "\n",
    "If you are working in the classroom workspace, you can just extract features based on the small subset of data contained here. Be sure to transfer over this work to the larger dataset when you work on your Spark cluster."
   ]
  },
  {
   "cell_type": "code",
   "execution_count": 133,
   "metadata": {},
   "outputs": [
    {
     "name": "stdout",
     "output_type": "stream",
     "text": [
      "root\n",
      " |-- artist: string (nullable = true)\n",
      " |-- auth: string (nullable = true)\n",
      " |-- gender: string (nullable = true)\n",
      " |-- itemInSession: long (nullable = true)\n",
      " |-- length: double (nullable = true)\n",
      " |-- level: string (nullable = true)\n",
      " |-- location: string (nullable = true)\n",
      " |-- method: string (nullable = true)\n",
      " |-- page: string (nullable = true)\n",
      " |-- registration: long (nullable = true)\n",
      " |-- sessionId: long (nullable = true)\n",
      " |-- song: string (nullable = true)\n",
      " |-- status: long (nullable = true)\n",
      " |-- ts: long (nullable = true)\n",
      " |-- userAgent: string (nullable = true)\n",
      " |-- userId: string (nullable = true)\n",
      " |-- act_time: string (nullable = true)\n",
      " |-- registration_ts: string (nullable = true)\n",
      " |-- Churn_state: integer (nullable = true)\n",
      " |-- Churn: integer (nullable = true)\n",
      " |-- city: string (nullable = true)\n",
      " |-- state: string (nullable = true)\n",
      " |-- browser: string (nullable = true)\n",
      " |-- platform: string (nullable = true)\n",
      " |-- hour: string (nullable = true)\n",
      " |-- day: string (nullable = true)\n",
      " |-- dayofweek: string (nullable = true)\n",
      "\n"
     ]
    }
   ],
   "source": [
    "df_cleaned_cancel.printSchema()"
   ]
  },
  {
   "cell_type": "markdown",
   "metadata": {},
   "source": [
    "On the basis of the above EDA, we can create features as follows:\n",
    "\n",
    "- Categorical Features (need label encoding)\n",
    "    - gender\n",
    "    - level\n",
    "    - browser\n",
    "    - platform\n",
    "    \n",
    "- Numerical Features\n",
    "    - mean,max,min,std of length of users\n",
    "    - numbers of these item in page (NextSong,ThumbsUp, ThumbsDown, AddtoPlaylist, AddFriend, RollAdvert)\n",
    "    - number of unique songs and total songs of users\n",
    "    - number of unique artists of users\n",
    "    - percentage of operations after 15th in a month\n",
    "    - percentage of operations in workday"
   ]
  },
  {
   "cell_type": "code",
   "execution_count": 134,
   "metadata": {},
   "outputs": [],
   "source": [
    "def label_encoding(col_name):\n",
    "    '''\n",
    "    encodes categorical data to numbers\n",
    "    Input: column to be encoded\n",
    "    Output:\n",
    "        A dataframe consisting of the field userId and the input columns now encoded   \n",
    "    '''\n",
    "    temp = df_cleaned_cancel.select([col_name]).dropDuplicates().toPandas()\n",
    "    label_dict = {val:str(idx) for idx,val in enumerate(temp[col_name].tolist())}\n",
    "    result = df_cleaned_cancel.dropDuplicates(['userId']).select(['userId',col_name]).replace(label_dict,subset=col_name)\n",
    "    return result"
   ]
  },
  {
   "cell_type": "code",
   "execution_count": 135,
   "metadata": {},
   "outputs": [
    {
     "name": "stdout",
     "output_type": "stream",
     "text": [
      "+------+------+\n",
      "|userId|gender|\n",
      "+------+------+\n",
      "|100010|     0|\n",
      "|200002|     1|\n",
      "|   125|     1|\n",
      "|   124|     0|\n",
      "|    51|     1|\n",
      "+------+------+\n",
      "only showing top 5 rows\n",
      "\n"
     ]
    }
   ],
   "source": [
    "feature_gender = label_encoding('gender')\n",
    "feature_gender.show(5)"
   ]
  },
  {
   "cell_type": "code",
   "execution_count": 136,
   "metadata": {},
   "outputs": [
    {
     "name": "stdout",
     "output_type": "stream",
     "text": [
      "+------+------+\n",
      "|userId|gender|\n",
      "+------+------+\n",
      "|100010|     F|\n",
      "+------+------+\n",
      "\n"
     ]
    }
   ],
   "source": [
    "df_cleaned_cancel.select(\"userId\",\"gender\").where(df_cleaned_cancel.userId == '100010').dropDuplicates().show(5)"
   ]
  },
  {
   "cell_type": "code",
   "execution_count": 137,
   "metadata": {},
   "outputs": [
    {
     "name": "stdout",
     "output_type": "stream",
     "text": [
      "+------+------+\n",
      "|userId|gender|\n",
      "+------+------+\n",
      "|200002|     M|\n",
      "+------+------+\n",
      "\n"
     ]
    }
   ],
   "source": [
    "df_cleaned_cancel.select(\"userId\",\"gender\").where(df_cleaned_cancel.userId == '200002').dropDuplicates().show(5)"
   ]
  },
  {
   "cell_type": "code",
   "execution_count": 138,
   "metadata": {},
   "outputs": [
    {
     "name": "stdout",
     "output_type": "stream",
     "text": [
      "+------+------+\n",
      "|userId|gender|\n",
      "+------+------+\n",
      "|    51|     M|\n",
      "|   125|     M|\n",
      "|   124|     F|\n",
      "+------+------+\n",
      "\n"
     ]
    }
   ],
   "source": [
    "usersample=[\"124\",\"125\",\"51\"]  \n",
    "df_cleaned_cancel.select(\"userId\",\"gender\").filter(df_cleaned_cancel.userId.isin(usersample) ).dropDuplicates().show(5)"
   ]
  },
  {
   "cell_type": "code",
   "execution_count": 139,
   "metadata": {},
   "outputs": [
    {
     "name": "stdout",
     "output_type": "stream",
     "text": [
      "+------+------+\n",
      "|userId|gender|\n",
      "+------+------+\n",
      "|   125|     1|\n",
      "|   124|     0|\n",
      "|    51|     1|\n",
      "+------+------+\n",
      "\n"
     ]
    }
   ],
   "source": [
    "feature_gender.select(\"userId\",\"gender\").filter(feature_gender.userId.isin(usersample)).dropDuplicates().show(5)"
   ]
  },
  {
   "cell_type": "code",
   "execution_count": 140,
   "metadata": {},
   "outputs": [
    {
     "data": {
      "text/plain": [
       "pyspark.sql.dataframe.DataFrame"
      ]
     },
     "execution_count": 140,
     "metadata": {},
     "output_type": "execute_result"
    }
   ],
   "source": [
    "type(feature_gender)"
   ]
  },
  {
   "cell_type": "code",
   "execution_count": 141,
   "metadata": {},
   "outputs": [],
   "source": [
    "def get_categorical_features():\n",
    "    '''\n",
    "    join all categorical features together\n",
    "    '''\n",
    "    feature_gender = label_encoding('gender')\n",
    "    feature_level = label_encoding('level')\n",
    "    feature_browser = label_encoding('browser')\n",
    "    feature_platform = label_encoding('platform')\n",
    "    \n",
    "    result = feature_gender.join(feature_level,on='userId',how='inner').\\\n",
    "                            join(feature_browser,on='userId',how='inner').\\\n",
    "                            join(feature_platform,on='userId',how='inner')\n",
    "    return result"
   ]
  },
  {
   "cell_type": "code",
   "execution_count": 142,
   "metadata": {},
   "outputs": [],
   "source": [
    "categorical_feature = get_categorical_features()"
   ]
  },
  {
   "cell_type": "code",
   "execution_count": 143,
   "metadata": {},
   "outputs": [
    {
     "name": "stdout",
     "output_type": "stream",
     "text": [
      "+------+------+-----+-------+--------+\n",
      "|userId|gender|level|browser|platform|\n",
      "+------+------+-----+-------+--------+\n",
      "|100010|     0|    0|      1|       1|\n",
      "|200002|     1|    0|      1|       1|\n",
      "+------+------+-----+-------+--------+\n",
      "only showing top 2 rows\n",
      "\n"
     ]
    }
   ],
   "source": [
    "categorical_feature.show(2)"
   ]
  },
  {
   "cell_type": "code",
   "execution_count": 144,
   "metadata": {},
   "outputs": [
    {
     "name": "stdout",
     "output_type": "stream",
     "text": [
      "+-----+------+-------+--------+\n",
      "|level|gender|browser|platform|\n",
      "+-----+------+-------+--------+\n",
      "|    0|     1|      0|       4|\n",
      "|    0|     1|      3|       2|\n",
      "|    0|     0|      1|       3|\n",
      "|    0|     1|      1|       1|\n",
      "|    0|     0|      1|       0|\n",
      "|    0|     1|      1|       0|\n",
      "|    1|     0|      2|       4|\n",
      "|    1|     1|      3|       2|\n",
      "|    0|     0|      0|       4|\n",
      "|    0|     0|      0|       2|\n",
      "|    0|     0|      0|       3|\n",
      "|    1|     1|      3|       3|\n",
      "|    0|     0|      1|       1|\n",
      "|    0|     1|      3|       4|\n",
      "|    1|     1|      3|       4|\n",
      "|    0|     0|      3|       3|\n",
      "|    1|     0|      3|       2|\n",
      "|    0|     1|      1|       3|\n",
      "|    1|     1|      0|       4|\n",
      "|    1|     0|      3|       3|\n",
      "|    0|     0|      3|       4|\n",
      "|    1|     0|      1|       1|\n",
      "|    1|     0|      3|       4|\n",
      "|    1|     0|      1|       3|\n",
      "|    1|     0|      0|       4|\n",
      "|    0|     1|      0|       2|\n",
      "|    1|     1|      0|       3|\n",
      "|    1|     0|      0|       3|\n",
      "|    0|     1|      2|       4|\n",
      "|    0|     1|      0|       3|\n",
      "+-----+------+-------+--------+\n",
      "only showing top 30 rows\n",
      "\n"
     ]
    }
   ],
   "source": [
    "categorical_feature.select(\"level\",\"gender\", \"browser\" , \"platform\" ).dropDuplicates().show(30)"
   ]
  },
  {
   "cell_type": "code",
   "execution_count": 145,
   "metadata": {},
   "outputs": [
    {
     "name": "stdout",
     "output_type": "stream",
     "text": [
      "+------+---------------+-----+\n",
      "|userId|           page|count|\n",
      "+------+---------------+-----+\n",
      "|    88|           Home|   85|\n",
      "|    88|       NextSong| 2045|\n",
      "|    13|Add to Playlist|   37|\n",
      "|    87|           Home|   56|\n",
      "|   131|        Upgrade|    1|\n",
      "|    59|     Add Friend|   16|\n",
      "|    40|           Help|    9|\n",
      "|    92|       Settings|   52|\n",
      "|    12|      Thumbs Up|   42|\n",
      "|    50|          Error|    2|\n",
      "|    81|        Upgrade|    1|\n",
      "|    81| Submit Upgrade|    1|\n",
      "|    53| Submit Upgrade|    1|\n",
      "|    99|      Downgrade|    2|\n",
      "|200017|       NextSong|  493|\n",
      "|300015|     Add Friend|   47|\n",
      "|300007|    Roll Advert|    2|\n",
      "|300005|      Thumbs Up|   35|\n",
      "|300014|      Downgrade|    3|\n",
      "|300019|        Upgrade|    1|\n",
      "+------+---------------+-----+\n",
      "only showing top 20 rows\n",
      "\n"
     ]
    }
   ],
   "source": [
    "dfx = df_cleaned_cancel.select([\"userId\",\"page\"]).groupby([\"userId\",\"page\"]).count()\n",
    "dfx.show(20)"
   ]
  },
  {
   "cell_type": "code",
   "execution_count": 146,
   "metadata": {},
   "outputs": [],
   "source": [
    "page_count = df_cleaned_cancel.select([\"userId\",\"page\"]).groupby([\"userId\",\"page\"]).count()\n",
    "# create the pivot table"
   ]
  },
  {
   "cell_type": "code",
   "execution_count": 147,
   "metadata": {},
   "outputs": [
    {
     "name": "stdout",
     "output_type": "stream",
     "text": [
      "+------+-----+----------+---------------+------+-------------------------+---------+-----+----+----+------+--------+-----------+-------------+--------+----------------+--------------+-----------+---------+-------+\n",
      "|userId|About|Add Friend|Add to Playlist|Cancel|Cancellation Confirmation|Downgrade|Error|Help|Home|Logout|NextSong|Roll Advert|Save Settings|Settings|Submit Downgrade|Submit Upgrade|Thumbs Down|Thumbs Up|Upgrade|\n",
      "+------+-----+----------+---------------+------+-------------------------+---------+-----+----+----+------+--------+-----------+-------------+--------+----------------+--------------+-----------+---------+-------+\n",
      "|200002|    3|         4|              8|     0|                        0|        5|    0|   2|  20|     5|     387|          7|            0|       3|               0|             1|          6|       21|      2|\n",
      "|100010|    1|         4|              7|     0|                        0|        0|    0|   2|  11|     5|     275|         52|            0|       0|               0|             0|          5|       17|      2|\n",
      "|   125|    0|         0|              0|     1|                        1|        0|    0|   0|   0|     0|       8|          1|            0|       0|               0|             0|          0|        0|      0|\n",
      "+------+-----+----------+---------------+------+-------------------------+---------+-----+----+----+------+--------+-----------+-------------+--------+----------------+--------------+-----------+---------+-------+\n",
      "only showing top 3 rows\n",
      "\n"
     ]
    }
   ],
   "source": [
    "temp1 = page_count.groupby('userId').pivot('page').agg(first('count')).fillna(0)\n",
    "temp1.show(3)\n",
    " "
   ]
  },
  {
   "cell_type": "code",
   "execution_count": 148,
   "metadata": {},
   "outputs": [
    {
     "name": "stdout",
     "output_type": "stream",
     "text": [
      "+------+--------+---------+-----------+---------------+----------+-----------+\n",
      "|userId|NextSong|Thumbs Up|Thumbs Down|Add to Playlist|Add Friend|Roll Advert|\n",
      "+------+--------+---------+-----------+---------------+----------+-----------+\n",
      "|200002|     387|       21|          6|              8|         4|          7|\n",
      "|100010|     275|       17|          5|              7|         4|         52|\n",
      "|   125|       8|        0|          0|              0|         0|          1|\n",
      "|    51|    2111|      100|         21|             52|        28|          0|\n",
      "|   124|    4079|      171|         41|            118|        74|          4|\n",
      "|     7|     150|        7|          1|              5|         1|         16|\n",
      "|    54|    2841|      163|         29|             72|        33|         47|\n",
      "|    15|    1914|       81|         14|             59|        31|          1|\n",
      "|   155|     820|       58|          3|             24|        11|          8|\n",
      "|   132|    1928|       96|         17|             38|        41|          2|\n",
      "|100014|     257|       17|          3|              7|         6|          2|\n",
      "|   154|      84|       11|          0|              1|         3|         10|\n",
      "|    11|     647|       40|          9|             20|         6|         39|\n",
      "|   101|    1797|       86|         16|             61|        29|          8|\n",
      "|   138|    2070|       95|         24|             67|        41|         17|\n",
      "|300017|    3632|      303|         28|            113|        63|         11|\n",
      "|    29|    3028|      154|         22|             89|        47|         22|\n",
      "|100021|     230|       11|          5|              7|         7|         30|\n",
      "|    69|    1125|       72|          9|             33|        12|          3|\n",
      "|    42|    3573|      166|         25|            104|        52|         10|\n",
      "+------+--------+---------+-----------+---------------+----------+-----------+\n",
      "only showing top 20 rows\n",
      "\n"
     ]
    }
   ],
   "source": [
    "temp1 = temp1.select(['userId','NextSong','Thumbs Up', 'Thumbs Down', 'Add to Playlist', 'Add Friend', 'Roll Advert'])\n",
    "    # column names used to sum up for total\n",
    "temp1.show()"
   ]
  },
  {
   "cell_type": "code",
   "execution_count": 149,
   "metadata": {},
   "outputs": [
    {
     "data": {
      "text/plain": [
       "['NextSong',\n",
       " 'Thumbs Up',\n",
       " 'Thumbs Down',\n",
       " 'Add to Playlist',\n",
       " 'Add Friend',\n",
       " 'Roll Advert']"
      ]
     },
     "execution_count": 149,
     "metadata": {},
     "output_type": "execute_result"
    }
   ],
   "source": [
    "cols = temp1.columns[1:]\n",
    "cols"
   ]
  },
  {
   "cell_type": "code",
   "execution_count": 150,
   "metadata": {},
   "outputs": [
    {
     "name": "stdout",
     "output_type": "stream",
     "text": [
      "root\n",
      " |-- userId: string (nullable = true)\n",
      " |-- NextSong: long (nullable = true)\n",
      " |-- Thumbs Up: long (nullable = true)\n",
      " |-- Thumbs Down: long (nullable = true)\n",
      " |-- Add to Playlist: long (nullable = true)\n",
      " |-- Add Friend: long (nullable = true)\n",
      " |-- Roll Advert: long (nullable = true)\n",
      "\n"
     ]
    }
   ],
   "source": [
    "temp1.printSchema()"
   ]
  },
  {
   "cell_type": "code",
   "execution_count": 151,
   "metadata": {},
   "outputs": [],
   "source": [
    "from pyspark.sql.functions import col, trim, lower"
   ]
  },
  {
   "cell_type": "code",
   "execution_count": 152,
   "metadata": {},
   "outputs": [],
   "source": [
    "feature_page = temp1.withColumn('total', sum([col(c) for c in cols if c != 'userId'])) "
   ]
  },
  {
   "cell_type": "code",
   "execution_count": 153,
   "metadata": {},
   "outputs": [
    {
     "name": "stdout",
     "output_type": "stream",
     "text": [
      "+------+--------+---------+-----------+---------------+----------+-----------+-----+\n",
      "|userId|NextSong|Thumbs Up|Thumbs Down|Add to Playlist|Add Friend|Roll Advert|total|\n",
      "+------+--------+---------+-----------+---------------+----------+-----------+-----+\n",
      "|200002|     387|       21|          6|              8|         4|          7|  433|\n",
      "|100010|     275|       17|          5|              7|         4|         52|  360|\n",
      "|   125|       8|        0|          0|              0|         0|          1|    9|\n",
      "|    51|    2111|      100|         21|             52|        28|          0| 2312|\n",
      "|   124|    4079|      171|         41|            118|        74|          4| 4487|\n",
      "+------+--------+---------+-----------+---------------+----------+-----------+-----+\n",
      "only showing top 5 rows\n",
      "\n"
     ]
    }
   ],
   "source": [
    "feature_page.show(5)"
   ]
  },
  {
   "cell_type": "code",
   "execution_count": 154,
   "metadata": {},
   "outputs": [],
   "source": [
    "def get_numerical_features():\n",
    "    '''\n",
    "    join all numerical features together and implement Standscaler\n",
    "    '''\n",
    "    #length\n",
    "    feature_length = df_cleaned_cancel.select([\"userId\", \"length\"]).groupby([\"userId\"]).agg(avg('length').alias('mean_length'), \n",
    "                                                                     stddev('length').alias('stdev_length'),\n",
    "                                                                    fmax('length').alias('max_length'),\n",
    "                                                                    fmin('length').alias('min_length'))\n",
    "    \n",
    "    #page, reference url:https://stackoverflow.com/questions/56051438/pivot-table-in-pyspark\n",
    "    page_count = df_cleaned_cancel.select([\"userId\",\"page\"]).groupby([\"userId\",\"page\"]).count()\n",
    "    # create the pivot table\n",
    "    temp1 = page_count.groupby('userId').pivot('page').agg(first('count')).fillna(0)\n",
    "    # filter columns\n",
    "    temp1 = temp1.select(['userId','NextSong','Thumbs Up', 'Thumbs Down', 'Add to Playlist', 'Add Friend', 'Roll Advert'])\n",
    "    # column names used to sum up for total\n",
    "    cols = temp1.columns[1:]\n",
    "    # calculate the total \n",
    "    feature_page = temp1.withColumn('total', sum([col(c) for c in cols]))    \n",
    "    \n",
    "    \n",
    "    #unique songs number\n",
    "    feature_nunique_song = df_cleaned_cancel.filter(df_cleaned_cancel.page=='NextSong').select([\"userId\",\"song\"]).\\\n",
    "                                             dropDuplicates([\"userId\",\"song\"]).groupby([\"userId\"]).count()\n",
    "    feature_nunique_song = feature_nunique_song.selectExpr(\"userId as userId\",\"count as nunique_song\")\n",
    "    \n",
    "    #total songs number\n",
    "    feature_ntotal_song = df_cleaned_cancel.filter(df_cleaned_cancel.page=='NextSong').select([\"userId\",\"song\"]).\\\n",
    "                                             groupby([\"userId\"]).count()\n",
    "    #source:https://exceptionshub.com/how-to-change-dataframe-column-names-in-pyspark.html\n",
    "    feature_ntotal_song = feature_ntotal_song.selectExpr(\"userId as userId\",\"count as ntotal_song\")\n",
    "    \n",
    "    #unique artists artist\n",
    "    feature_nunique_artist = df_cleaned_cancel.filter(df_cleaned_cancel.page=='NextSong').select([\"userId\",\"artist\"]).\\\n",
    "                                               dropDuplicates([\"userId\",\"artist\"]).groupby([\"userId\"]).count()\n",
    "    feature_nunique_artist = feature_nunique_artist.selectExpr(\"userId as userId\",\"count as nunique_artist\")\n",
    "    \n",
    "    #percentage of opretions\n",
    "    day_count = df_cleaned_cancel.filter(df_cleaned_cancel.day>=15).select(['userId']).groupby([\"userId\"]).count()\n",
    "    day_count = day_count.selectExpr(\"userId as userId\",\"count as day_count\")\n",
    "    \n",
    "    total_count = df_cleaned_cancel.select(['userId']).groupby([\"userId\"]).count()\n",
    "    total_count = total_count.selectExpr(\"userId as userId\",\"count as total_count\")\n",
    "    \n",
    "    dayofweek_count = df_cleaned_cancel.filter(df_cleaned_cancel.dayofweek<5).select(['userId']).groupby([\"userId\"]).count()\n",
    "    dayofweek_count = dayofweek_count.selectExpr(\"userId as userId\",\"count as dayofweek_count\")\n",
    "    \n",
    "    feature_percentage_month = (total_count.alias(\"total\").join(day_count.alias(\"day\"), [\"userId\"]).\\\n",
    "                              select(col(\"userId\"), (col(\"day.day_count\") / col(\"total.total_count\")).alias(\"month_percentage\")))\n",
    "    \n",
    "    feature_percentage_week = (total_count.alias(\"total\").join(dayofweek_count.alias(\"day\"), [\"userId\"]).\\\n",
    "                          select(col(\"userId\"), (col(\"day.dayofweek_count\") / col(\"total.total_count\")).alias(\"week_percentage\")))\n",
    "    \n",
    "    #merge together\n",
    "    result = feature_length.join(feature_page,on='userId',how='inner').\\\n",
    "                        join(feature_nunique_song,on='userId',how='inner').\\\n",
    "                        join(feature_ntotal_song,on='userId',how='inner').\\\n",
    "                        join(feature_nunique_artist,on='userId',how='inner').\\\n",
    "                        join(feature_percentage_month,on='userId',how='inner').\\\n",
    "                        join(feature_percentage_week,on='userId',how='inner')\n",
    "    \n",
    "    return result"
   ]
  },
  {
   "cell_type": "code",
   "execution_count": 155,
   "metadata": {},
   "outputs": [],
   "source": [
    "label = df_cleaned_cancel.select(['userId','Churn']).dropDuplicates()"
   ]
  },
  {
   "cell_type": "code",
   "execution_count": 156,
   "metadata": {},
   "outputs": [],
   "source": [
    "def get_data_for_train():\n",
    "    '''\n",
    "    merge features and label together\n",
    "    '''\n",
    "    categorical_feature = get_categorical_features()\n",
    "    numerical_feature = get_numerical_features()\n",
    "    label = df_cleaned_cancel.select(['userId','Churn']).dropDuplicates()\n",
    "    result = categorical_feature.join(numerical_feature,on='userId',how='inner').join(label,on='userId',how='inner')\n",
    "    \n",
    "    #correct datatype\n",
    "    for col_name in result.columns[1:5]:\n",
    "        result = result.withColumn(col_name, result[col_name].cast(IntegerType()))\n",
    "    for col_name in result.columns[5:-1]:\n",
    "        result = result.withColumn(col_name, result[col_name].cast(FloatType()))\n",
    "    \n",
    "    #fill NaN\n",
    "    result = result.na.fill(0)\n",
    "    \n",
    "  \n",
    "    return result"
   ]
  },
  {
   "cell_type": "code",
   "execution_count": 157,
   "metadata": {},
   "outputs": [],
   "source": [
    "final_data = get_data_for_train()"
   ]
  },
  {
   "cell_type": "code",
   "execution_count": 158,
   "metadata": {},
   "outputs": [
    {
     "name": "stdout",
     "output_type": "stream",
     "text": [
      "baseline.csv\t     lr_model\t\t\t    Sparkify-zh.ipynb\r\n",
      "cvModel_dt1.model    mini_sparkify_event_data.json  spark-warehouse\r\n",
      "final_data_new.json  Sparkify.ipynb\t\t    svm_model\r\n"
     ]
    }
   ],
   "source": [
    "! ls"
   ]
  },
  {
   "cell_type": "code",
   "execution_count": 159,
   "metadata": {},
   "outputs": [],
   "source": [
    "final_data.write.mode(\"overwrite\").save('final_data_new.json',format='json',header=True)"
   ]
  },
  {
   "cell_type": "code",
   "execution_count": 160,
   "metadata": {},
   "outputs": [],
   "source": [
    "final_data = spark.read.json('final_data_new.json')"
   ]
  },
  {
   "cell_type": "code",
   "execution_count": 161,
   "metadata": {},
   "outputs": [
    {
     "data": {
      "text/plain": [
       "['Add Friend',\n",
       " 'Add to Playlist',\n",
       " 'Churn',\n",
       " 'NextSong',\n",
       " 'Roll Advert',\n",
       " 'Thumbs Down',\n",
       " 'Thumbs Up',\n",
       " 'browser',\n",
       " 'gender',\n",
       " 'level',\n",
       " 'max_length',\n",
       " 'mean_length',\n",
       " 'min_length',\n",
       " 'month_percentage',\n",
       " 'ntotal_song',\n",
       " 'nunique_artist',\n",
       " 'nunique_song',\n",
       " 'platform',\n",
       " 'stdev_length',\n",
       " 'total',\n",
       " 'userId',\n",
       " 'week_percentage']"
      ]
     },
     "execution_count": 161,
     "metadata": {},
     "output_type": "execute_result"
    }
   ],
   "source": [
    "final_data.columns"
   ]
  },
  {
   "cell_type": "code",
   "execution_count": 162,
   "metadata": {},
   "outputs": [],
   "source": [
    "final_data_columns = final_data.columns\n",
    "final_data_columns.remove('Churn')\n",
    "final_data_columns.remove('userId')"
   ]
  },
  {
   "cell_type": "code",
   "execution_count": 163,
   "metadata": {},
   "outputs": [],
   "source": [
    "categorical_features = ['gender','level','browser','platform']\n",
    "numerical_features = [col_name for col_name in final_data_columns if col_name not in categorical_features]"
   ]
  },
  {
   "cell_type": "code",
   "execution_count": 164,
   "metadata": {},
   "outputs": [
    {
     "data": {
      "text/html": [
       "<div>\n",
       "<style scoped>\n",
       "    .dataframe tbody tr th:only-of-type {\n",
       "        vertical-align: middle;\n",
       "    }\n",
       "\n",
       "    .dataframe tbody tr th {\n",
       "        vertical-align: top;\n",
       "    }\n",
       "\n",
       "    .dataframe thead th {\n",
       "        text-align: right;\n",
       "    }\n",
       "</style>\n",
       "<table border=\"1\" class=\"dataframe\">\n",
       "  <thead>\n",
       "    <tr style=\"text-align: right;\">\n",
       "      <th></th>\n",
       "      <th>Add Friend</th>\n",
       "      <th>Add to Playlist</th>\n",
       "      <th>Churn</th>\n",
       "      <th>NextSong</th>\n",
       "      <th>Roll Advert</th>\n",
       "      <th>Thumbs Down</th>\n",
       "      <th>Thumbs Up</th>\n",
       "      <th>browser</th>\n",
       "      <th>gender</th>\n",
       "      <th>level</th>\n",
       "      <th>...</th>\n",
       "      <th>min_length</th>\n",
       "      <th>month_percentage</th>\n",
       "      <th>ntotal_song</th>\n",
       "      <th>nunique_artist</th>\n",
       "      <th>nunique_song</th>\n",
       "      <th>platform</th>\n",
       "      <th>stdev_length</th>\n",
       "      <th>total</th>\n",
       "      <th>userId</th>\n",
       "      <th>week_percentage</th>\n",
       "    </tr>\n",
       "  </thead>\n",
       "  <tbody>\n",
       "    <tr>\n",
       "      <th>0</th>\n",
       "      <td>19.0</td>\n",
       "      <td>23.0</td>\n",
       "      <td>0</td>\n",
       "      <td>942.0</td>\n",
       "      <td>86.0</td>\n",
       "      <td>11.0</td>\n",
       "      <td>35.0</td>\n",
       "      <td>2</td>\n",
       "      <td>0</td>\n",
       "      <td>0</td>\n",
       "      <td>...</td>\n",
       "      <td>34.32444</td>\n",
       "      <td>0.746988</td>\n",
       "      <td>942.0</td>\n",
       "      <td>733.0</td>\n",
       "      <td>881.0</td>\n",
       "      <td>4</td>\n",
       "      <td>93.075520</td>\n",
       "      <td>1116.0</td>\n",
       "      <td>100004</td>\n",
       "      <td>0.924498</td>\n",
       "    </tr>\n",
       "    <tr>\n",
       "      <th>1</th>\n",
       "      <td>23.0</td>\n",
       "      <td>43.0</td>\n",
       "      <td>0</td>\n",
       "      <td>1781.0</td>\n",
       "      <td>23.0</td>\n",
       "      <td>17.0</td>\n",
       "      <td>84.0</td>\n",
       "      <td>3</td>\n",
       "      <td>0</td>\n",
       "      <td>0</td>\n",
       "      <td>...</td>\n",
       "      <td>21.65506</td>\n",
       "      <td>0.663696</td>\n",
       "      <td>1781.0</td>\n",
       "      <td>1214.0</td>\n",
       "      <td>1571.0</td>\n",
       "      <td>4</td>\n",
       "      <td>93.417450</td>\n",
       "      <td>1971.0</td>\n",
       "      <td>104</td>\n",
       "      <td>0.848499</td>\n",
       "    </tr>\n",
       "    <tr>\n",
       "      <th>2</th>\n",
       "      <td>27.0</td>\n",
       "      <td>58.0</td>\n",
       "      <td>0</td>\n",
       "      <td>1644.0</td>\n",
       "      <td>3.0</td>\n",
       "      <td>9.0</td>\n",
       "      <td>84.0</td>\n",
       "      <td>0</td>\n",
       "      <td>1</td>\n",
       "      <td>0</td>\n",
       "      <td>...</td>\n",
       "      <td>27.01016</td>\n",
       "      <td>0.608205</td>\n",
       "      <td>1644.0</td>\n",
       "      <td>1137.0</td>\n",
       "      <td>1477.0</td>\n",
       "      <td>3</td>\n",
       "      <td>96.823296</td>\n",
       "      <td>1825.0</td>\n",
       "      <td>60</td>\n",
       "      <td>0.774359</td>\n",
       "    </tr>\n",
       "    <tr>\n",
       "      <th>3</th>\n",
       "      <td>7.0</td>\n",
       "      <td>0.0</td>\n",
       "      <td>0</td>\n",
       "      <td>29.0</td>\n",
       "      <td>4.0</td>\n",
       "      <td>0.0</td>\n",
       "      <td>2.0</td>\n",
       "      <td>3</td>\n",
       "      <td>0</td>\n",
       "      <td>0</td>\n",
       "      <td>...</td>\n",
       "      <td>15.85587</td>\n",
       "      <td>0.812500</td>\n",
       "      <td>29.0</td>\n",
       "      <td>29.0</td>\n",
       "      <td>29.0</td>\n",
       "      <td>3</td>\n",
       "      <td>88.712100</td>\n",
       "      <td>42.0</td>\n",
       "      <td>68</td>\n",
       "      <td>0.187500</td>\n",
       "    </tr>\n",
       "    <tr>\n",
       "      <th>4</th>\n",
       "      <td>0.0</td>\n",
       "      <td>0.0</td>\n",
       "      <td>0</td>\n",
       "      <td>37.0</td>\n",
       "      <td>3.0</td>\n",
       "      <td>0.0</td>\n",
       "      <td>0.0</td>\n",
       "      <td>3</td>\n",
       "      <td>1</td>\n",
       "      <td>0</td>\n",
       "      <td>...</td>\n",
       "      <td>22.36036</td>\n",
       "      <td>0.911111</td>\n",
       "      <td>37.0</td>\n",
       "      <td>37.0</td>\n",
       "      <td>37.0</td>\n",
       "      <td>3</td>\n",
       "      <td>116.416290</td>\n",
       "      <td>40.0</td>\n",
       "      <td>90</td>\n",
       "      <td>0.644444</td>\n",
       "    </tr>\n",
       "    <tr>\n",
       "      <th>5</th>\n",
       "      <td>28.0</td>\n",
       "      <td>53.0</td>\n",
       "      <td>0</td>\n",
       "      <td>1728.0</td>\n",
       "      <td>11.0</td>\n",
       "      <td>18.0</td>\n",
       "      <td>87.0</td>\n",
       "      <td>1</td>\n",
       "      <td>1</td>\n",
       "      <td>0</td>\n",
       "      <td>...</td>\n",
       "      <td>22.12526</td>\n",
       "      <td>0.677310</td>\n",
       "      <td>1728.0</td>\n",
       "      <td>1163.0</td>\n",
       "      <td>1539.0</td>\n",
       "      <td>3</td>\n",
       "      <td>86.556850</td>\n",
       "      <td>1925.0</td>\n",
       "      <td>128</td>\n",
       "      <td>0.729560</td>\n",
       "    </tr>\n",
       "    <tr>\n",
       "      <th>6</th>\n",
       "      <td>9.0</td>\n",
       "      <td>15.0</td>\n",
       "      <td>1</td>\n",
       "      <td>417.0</td>\n",
       "      <td>27.0</td>\n",
       "      <td>13.0</td>\n",
       "      <td>19.0</td>\n",
       "      <td>0</td>\n",
       "      <td>1</td>\n",
       "      <td>0</td>\n",
       "      <td>...</td>\n",
       "      <td>21.91628</td>\n",
       "      <td>0.641304</td>\n",
       "      <td>417.0</td>\n",
       "      <td>368.0</td>\n",
       "      <td>402.0</td>\n",
       "      <td>2</td>\n",
       "      <td>95.099785</td>\n",
       "      <td>500.0</td>\n",
       "      <td>200024</td>\n",
       "      <td>0.815217</td>\n",
       "    </tr>\n",
       "    <tr>\n",
       "      <th>7</th>\n",
       "      <td>15.0</td>\n",
       "      <td>21.0</td>\n",
       "      <td>0</td>\n",
       "      <td>656.0</td>\n",
       "      <td>19.0</td>\n",
       "      <td>6.0</td>\n",
       "      <td>28.0</td>\n",
       "      <td>3</td>\n",
       "      <td>0</td>\n",
       "      <td>0</td>\n",
       "      <td>...</td>\n",
       "      <td>43.80689</td>\n",
       "      <td>0.914322</td>\n",
       "      <td>656.0</td>\n",
       "      <td>553.0</td>\n",
       "      <td>624.0</td>\n",
       "      <td>4</td>\n",
       "      <td>116.713264</td>\n",
       "      <td>745.0</td>\n",
       "      <td>23</td>\n",
       "      <td>0.455243</td>\n",
       "    </tr>\n",
       "    <tr>\n",
       "      <th>8</th>\n",
       "      <td>36.0</td>\n",
       "      <td>61.0</td>\n",
       "      <td>0</td>\n",
       "      <td>1894.0</td>\n",
       "      <td>1.0</td>\n",
       "      <td>10.0</td>\n",
       "      <td>76.0</td>\n",
       "      <td>2</td>\n",
       "      <td>0</td>\n",
       "      <td>1</td>\n",
       "      <td>...</td>\n",
       "      <td>15.22893</td>\n",
       "      <td>0.883784</td>\n",
       "      <td>1894.0</td>\n",
       "      <td>1319.0</td>\n",
       "      <td>1699.0</td>\n",
       "      <td>4</td>\n",
       "      <td>107.104980</td>\n",
       "      <td>2078.0</td>\n",
       "      <td>41</td>\n",
       "      <td>0.586486</td>\n",
       "    </tr>\n",
       "    <tr>\n",
       "      <th>9</th>\n",
       "      <td>25.0</td>\n",
       "      <td>42.0</td>\n",
       "      <td>1</td>\n",
       "      <td>1073.0</td>\n",
       "      <td>14.0</td>\n",
       "      <td>9.0</td>\n",
       "      <td>52.0</td>\n",
       "      <td>3</td>\n",
       "      <td>0</td>\n",
       "      <td>0</td>\n",
       "      <td>...</td>\n",
       "      <td>33.46240</td>\n",
       "      <td>0.898473</td>\n",
       "      <td>1073.0</td>\n",
       "      <td>834.0</td>\n",
       "      <td>981.0</td>\n",
       "      <td>3</td>\n",
       "      <td>103.828865</td>\n",
       "      <td>1215.0</td>\n",
       "      <td>103</td>\n",
       "      <td>0.551145</td>\n",
       "    </tr>\n",
       "  </tbody>\n",
       "</table>\n",
       "<p>10 rows × 22 columns</p>\n",
       "</div>"
      ],
      "text/plain": [
       "   Add Friend  Add to Playlist  Churn  NextSong  Roll Advert  Thumbs Down  \\\n",
       "0  19.0        23.0             0      942.0     86.0         11.0          \n",
       "1  23.0        43.0             0      1781.0    23.0         17.0          \n",
       "2  27.0        58.0             0      1644.0    3.0          9.0           \n",
       "3  7.0         0.0              0      29.0      4.0          0.0           \n",
       "4  0.0         0.0              0      37.0      3.0          0.0           \n",
       "5  28.0        53.0             0      1728.0    11.0         18.0          \n",
       "6  9.0         15.0             1      417.0     27.0         13.0          \n",
       "7  15.0        21.0             0      656.0     19.0         6.0           \n",
       "8  36.0        61.0             0      1894.0    1.0          10.0          \n",
       "9  25.0        42.0             1      1073.0    14.0         9.0           \n",
       "\n",
       "   Thumbs Up  browser  gender  level       ...         min_length  \\\n",
       "0  35.0       2        0       0           ...         34.32444     \n",
       "1  84.0       3        0       0           ...         21.65506     \n",
       "2  84.0       0        1       0           ...         27.01016     \n",
       "3  2.0        3        0       0           ...         15.85587     \n",
       "4  0.0        3        1       0           ...         22.36036     \n",
       "5  87.0       1        1       0           ...         22.12526     \n",
       "6  19.0       0        1       0           ...         21.91628     \n",
       "7  28.0       3        0       0           ...         43.80689     \n",
       "8  76.0       2        0       1           ...         15.22893     \n",
       "9  52.0       3        0       0           ...         33.46240     \n",
       "\n",
       "   month_percentage  ntotal_song  nunique_artist  nunique_song  platform  \\\n",
       "0  0.746988          942.0        733.0           881.0         4          \n",
       "1  0.663696          1781.0       1214.0          1571.0        4          \n",
       "2  0.608205          1644.0       1137.0          1477.0        3          \n",
       "3  0.812500          29.0         29.0            29.0          3          \n",
       "4  0.911111          37.0         37.0            37.0          3          \n",
       "5  0.677310          1728.0       1163.0          1539.0        3          \n",
       "6  0.641304          417.0        368.0           402.0         2          \n",
       "7  0.914322          656.0        553.0           624.0         4          \n",
       "8  0.883784          1894.0       1319.0          1699.0        4          \n",
       "9  0.898473          1073.0       834.0           981.0         3          \n",
       "\n",
       "   stdev_length   total  userId  week_percentage  \n",
       "0  93.075520     1116.0  100004  0.924498         \n",
       "1  93.417450     1971.0  104     0.848499         \n",
       "2  96.823296     1825.0  60      0.774359         \n",
       "3  88.712100     42.0    68      0.187500         \n",
       "4  116.416290    40.0    90      0.644444         \n",
       "5  86.556850     1925.0  128     0.729560         \n",
       "6  95.099785     500.0   200024  0.815217         \n",
       "7  116.713264    745.0   23      0.455243         \n",
       "8  107.104980    2078.0  41      0.586486         \n",
       "9  103.828865    1215.0  103     0.551145         \n",
       "\n",
       "[10 rows x 22 columns]"
      ]
     },
     "execution_count": 164,
     "metadata": {},
     "output_type": "execute_result"
    }
   ],
   "source": [
    "final_data.limit(10).toPandas()"
   ]
  },
  {
   "cell_type": "code",
   "execution_count": 165,
   "metadata": {},
   "outputs": [],
   "source": [
    "# Use a VectorAssembler which is feature transformer that merges multiple columns into a single vector column.\n",
    "# and Apply transform the dataset  \n",
    "transvector = VectorAssembler(inputCols=numerical_features, outputCol='numerical_features', handleInvalid=\"skip\").transform(final_data)\n",
    "\n",
    "#implement StandardScaler which Standardizes features by removing the mean and scaling to unit variance using column summary statistics on the samples in the training set.\n",
    "scaler = StandardScaler(withMean=True, withStd=True, inputCol='numerical_features', outputCol='features_scaled')\n",
    "scaler_fit = scaler.fit(transvector)\n",
    "result_scaled = scaler_fit.transform(transvector)\n"
   ]
  },
  {
   "cell_type": "code",
   "execution_count": 166,
   "metadata": {},
   "outputs": [],
   "source": [
    "#add categorical features to feature vector\n",
    "\n",
    "vector = VectorAssembler(inputCols=categorical_features+['features_scaled'], outputCol='all_features', handleInvalid=\"skip\")\n",
    "result_scaled = vector.transform(result_scaled)\n",
    "final_result = result_scaled.select(result_scaled.Churn.alias('label'), result_scaled.all_features.alias('features'))"
   ]
  },
  {
   "cell_type": "code",
   "execution_count": 167,
   "metadata": {},
   "outputs": [
    {
     "data": {
      "text/plain": [
       "['label', 'features']"
      ]
     },
     "execution_count": 167,
     "metadata": {},
     "output_type": "execute_result"
    }
   ],
   "source": [
    "final_result.columns"
   ]
  },
  {
   "cell_type": "code",
   "execution_count": 168,
   "metadata": {},
   "outputs": [
    {
     "data": {
      "text/plain": [
       "DataFrame[label: bigint, features: vector]"
      ]
     },
     "execution_count": 168,
     "metadata": {},
     "output_type": "execute_result"
    }
   ],
   "source": [
    "final_result.persist()"
   ]
  },
  {
   "cell_type": "code",
   "execution_count": 169,
   "metadata": {},
   "outputs": [
    {
     "data": {
      "text/html": [
       "<div>\n",
       "<style scoped>\n",
       "    .dataframe tbody tr th:only-of-type {\n",
       "        vertical-align: middle;\n",
       "    }\n",
       "\n",
       "    .dataframe tbody tr th {\n",
       "        vertical-align: top;\n",
       "    }\n",
       "\n",
       "    .dataframe thead th {\n",
       "        text-align: right;\n",
       "    }\n",
       "</style>\n",
       "<table border=\"1\" class=\"dataframe\">\n",
       "  <thead>\n",
       "    <tr style=\"text-align: right;\">\n",
       "      <th></th>\n",
       "      <th>label</th>\n",
       "      <th>features</th>\n",
       "    </tr>\n",
       "  </thead>\n",
       "  <tbody>\n",
       "    <tr>\n",
       "      <th>0</th>\n",
       "      <td>0</td>\n",
       "      <td>[0.0, 0.0, 2.0, 4.0, -0.0726957036435, -0.253095777862, -0.13965912114, 3.03167597445, -0.0971160730357, -0.382011734467, 0.265604069396, -0.64198997997, -0.0529945477713, 0.767228233713, -0.13965912114, -0.0303248520517, -0.100031438306, -0.171400774472, -0.100568920655, 0.986858829634]</td>\n",
       "    </tr>\n",
       "    <tr>\n",
       "      <th>1</th>\n",
       "      <td>0</td>\n",
       "      <td>[0.0, 0.0, 3.0, 4.0, 0.118042862829, 0.346573660975, 0.606905203237, 0.189935793308, 0.353149356494, 0.350782220193, 0.265604069396, -0.202978248239, -0.487435097122, 0.406541236853, 0.606905203237, 0.764863759044, 0.660908102115, -0.151075331133, 0.578928702458, 0.625321644318]</td>\n",
       "    </tr>\n",
       "    <tr>\n",
       "      <th>2</th>\n",
       "      <td>0</td>\n",
       "      <td>[1.0, 0.0, 0.0, 3.0, 0.308781429302, 0.796325740102, 0.484998990556, -0.712203946735, -0.247204549545, 0.350782220193, -0.41109395805, 0.338398600261, -0.30380554415, 0.166243535829, 0.484998990556, 0.637567453318, 0.557243874869, 0.0513793522601, 0.462897529388, 0.272627401326]</td>\n",
       "    </tr>\n",
       "    <tr>\n",
       "      <th>3</th>\n",
       "      <td>0</td>\n",
       "      <td>[0.0, 0.0, 3.0, 3.0, -0.644911403062, -0.942715632524, -0.952070596893, -0.667096959733, -0.922602693839, -0.875526030463, -1.22205822465, -0.952399093286, -0.686292759405, 1.0509214982, -0.952070596893, -1.19417679012, -1.03962634909, -0.430776804571, -0.954113303373, -2.5191398396]</td>\n",
       "    </tr>\n",
       "    <tr>\n",
       "      <th>4</th>\n",
       "      <td>0</td>\n",
       "      <td>[1.0, 0.0, 3.0, 3.0, -0.97870389439, -0.942715632524, -0.944951985934, -0.712203946735, -0.922602693839, -0.905435987796, -0.894569554668, 1.39123369598, -0.46324994209, 1.4779467646, -0.944951985934, -1.18095119992, -1.03080386166, 1.21605133009, -0.955702771497, -0.345393501437]</td>\n",
       "    </tr>\n",
       "    <tr>\n",
       "      <th>5</th>\n",
       "      <td>0</td>\n",
       "      <td>[1.0, 0.0, 1.0, 3.0, 0.356466070921, 0.646408380393, 0.55974440563, -0.351348050718, 0.428193594748, 0.395647156193, -0.469721325776, -0.102616082742, -0.471311660434, 0.465495485695, 0.55974440563, 0.680550621485, 0.625618152415, -0.558891950231, 0.542370935601, 0.0595111022549]</td>\n",
       "    </tr>\n",
       "    <tr>\n",
       "      <th>6</th>\n",
       "      <td>1</td>\n",
       "      <td>[1.0, 0.0, 0.0, 2.0, -0.549542119826, -0.492963553397, -0.606817965358, 0.370363741317, 0.052972403474, -0.621291393132, -0.216667050545, -0.177835023059, -0.478477708496, 0.309576490426, -0.606817965358, -0.63374240517, -0.628277872888, -0.0510718078421, -0.590125102921, 0.466996308741]</td>\n",
       "    </tr>\n",
       "    <tr>\n",
       "      <th>7</th>\n",
       "      <td>0</td>\n",
       "      <td>[0.0, 0.0, 3.0, 4.0, -0.263434270117, -0.313062721746, -0.394149462943, 0.00950784529948, -0.47233726431, -0.486696585133, 0.833808220811, 0.423305560677, 0.272164282983, 1.49185236402, -0.394149462943, -0.327900631672, -0.38345384684, 1.23370444099, -0.395415257702, -1.24545054674]</td>\n",
       "    </tr>\n",
       "    <tr>\n",
       "      <th>8</th>\n",
       "      <td>0</td>\n",
       "      <td>[0.0, 1.0, 2.0, 4.0, 0.737943203867, 0.886276155928, 0.70745558304, -0.80241792074, -0.172160311291, 0.231142390861, 1.17432938713, 0.223830174201, -0.707790903593, 1.35960851826, 0.70745558304, 0.938449630489, 0.802067900918, 0.662556451568, 0.663965247105, -0.621107554842]</td>\n",
       "    </tr>\n",
       "    <tr>\n",
       "      <th>9</th>\n",
       "      <td>1</td>\n",
       "      <td>[0.0, 0.0, 3.0, 3.0, 0.213412146066, 0.316590189033, -0.0230918666787, -0.216027089711, -0.247204549545, -0.127777097136, 0.523404142046, 0.0033373328299, -0.082554410303, 1.42321989316, -0.0230918666787, 0.136648224291, 0.0102496545087, 0.467813405322, -0.0218902485052, -0.789231636222]</td>\n",
       "    </tr>\n",
       "  </tbody>\n",
       "</table>\n",
       "</div>"
      ],
      "text/plain": [
       "   label  \\\n",
       "0  0       \n",
       "1  0       \n",
       "2  0       \n",
       "3  0       \n",
       "4  0       \n",
       "5  0       \n",
       "6  1       \n",
       "7  0       \n",
       "8  0       \n",
       "9  1       \n",
       "\n",
       "                                                                                                                                                                                                                                                                                           features  \n",
       "0  [0.0, 0.0, 2.0, 4.0, -0.0726957036435, -0.253095777862, -0.13965912114, 3.03167597445, -0.0971160730357, -0.382011734467, 0.265604069396, -0.64198997997, -0.0529945477713, 0.767228233713, -0.13965912114, -0.0303248520517, -0.100031438306, -0.171400774472, -0.100568920655, 0.986858829634]  \n",
       "1  [0.0, 0.0, 3.0, 4.0, 0.118042862829, 0.346573660975, 0.606905203237, 0.189935793308, 0.353149356494, 0.350782220193, 0.265604069396, -0.202978248239, -0.487435097122, 0.406541236853, 0.606905203237, 0.764863759044, 0.660908102115, -0.151075331133, 0.578928702458, 0.625321644318]           \n",
       "2  [1.0, 0.0, 0.0, 3.0, 0.308781429302, 0.796325740102, 0.484998990556, -0.712203946735, -0.247204549545, 0.350782220193, -0.41109395805, 0.338398600261, -0.30380554415, 0.166243535829, 0.484998990556, 0.637567453318, 0.557243874869, 0.0513793522601, 0.462897529388, 0.272627401326]           \n",
       "3  [0.0, 0.0, 3.0, 3.0, -0.644911403062, -0.942715632524, -0.952070596893, -0.667096959733, -0.922602693839, -0.875526030463, -1.22205822465, -0.952399093286, -0.686292759405, 1.0509214982, -0.952070596893, -1.19417679012, -1.03962634909, -0.430776804571, -0.954113303373, -2.5191398396]      \n",
       "4  [1.0, 0.0, 3.0, 3.0, -0.97870389439, -0.942715632524, -0.944951985934, -0.712203946735, -0.922602693839, -0.905435987796, -0.894569554668, 1.39123369598, -0.46324994209, 1.4779467646, -0.944951985934, -1.18095119992, -1.03080386166, 1.21605133009, -0.955702771497, -0.345393501437]         \n",
       "5  [1.0, 0.0, 1.0, 3.0, 0.356466070921, 0.646408380393, 0.55974440563, -0.351348050718, 0.428193594748, 0.395647156193, -0.469721325776, -0.102616082742, -0.471311660434, 0.465495485695, 0.55974440563, 0.680550621485, 0.625618152415, -0.558891950231, 0.542370935601, 0.0595111022549]          \n",
       "6  [1.0, 0.0, 0.0, 2.0, -0.549542119826, -0.492963553397, -0.606817965358, 0.370363741317, 0.052972403474, -0.621291393132, -0.216667050545, -0.177835023059, -0.478477708496, 0.309576490426, -0.606817965358, -0.63374240517, -0.628277872888, -0.0510718078421, -0.590125102921, 0.466996308741]  \n",
       "7  [0.0, 0.0, 3.0, 4.0, -0.263434270117, -0.313062721746, -0.394149462943, 0.00950784529948, -0.47233726431, -0.486696585133, 0.833808220811, 0.423305560677, 0.272164282983, 1.49185236402, -0.394149462943, -0.327900631672, -0.38345384684, 1.23370444099, -0.395415257702, -1.24545054674]       \n",
       "8  [0.0, 1.0, 2.0, 4.0, 0.737943203867, 0.886276155928, 0.70745558304, -0.80241792074, -0.172160311291, 0.231142390861, 1.17432938713, 0.223830174201, -0.707790903593, 1.35960851826, 0.70745558304, 0.938449630489, 0.802067900918, 0.662556451568, 0.663965247105, -0.621107554842]               \n",
       "9  [0.0, 0.0, 3.0, 3.0, 0.213412146066, 0.316590189033, -0.0230918666787, -0.216027089711, -0.247204549545, -0.127777097136, 0.523404142046, 0.0033373328299, -0.082554410303, 1.42321989316, -0.0230918666787, 0.136648224291, 0.0102496545087, 0.467813405322, -0.0218902485052, -0.789231636222]  "
      ]
     },
     "execution_count": 169,
     "metadata": {},
     "output_type": "execute_result"
    }
   ],
   "source": [
    "final_result.limit(10).toPandas()"
   ]
  },
  {
   "cell_type": "code",
   "execution_count": 170,
   "metadata": {},
   "outputs": [
    {
     "data": {
      "text/plain": [
       "[Row(label=0, features=DenseVector([0.0, 0.0, 2.0, 4.0, -0.0727, -0.2531, -0.1397, 3.0317, -0.0971, -0.382, 0.2656, -0.642, -0.053, 0.7672, -0.1397, -0.0303, -0.1, -0.1714, -0.1006, 0.9869])),\n",
       " Row(label=0, features=DenseVector([0.0, 0.0, 3.0, 4.0, 0.118, 0.3466, 0.6069, 0.1899, 0.3531, 0.3508, 0.2656, -0.203, -0.4874, 0.4065, 0.6069, 0.7649, 0.6609, -0.1511, 0.5789, 0.6253])),\n",
       " Row(label=0, features=DenseVector([1.0, 0.0, 0.0, 3.0, 0.3088, 0.7963, 0.485, -0.7122, -0.2472, 0.3508, -0.4111, 0.3384, -0.3038, 0.1662, 0.485, 0.6376, 0.5572, 0.0514, 0.4629, 0.2726])),\n",
       " Row(label=0, features=DenseVector([0.0, 0.0, 3.0, 3.0, -0.6449, -0.9427, -0.9521, -0.6671, -0.9226, -0.8755, -1.2221, -0.9524, -0.6863, 1.0509, -0.9521, -1.1942, -1.0396, -0.4308, -0.9541, -2.5191])),\n",
       " Row(label=0, features=DenseVector([1.0, 0.0, 3.0, 3.0, -0.9787, -0.9427, -0.945, -0.7122, -0.9226, -0.9054, -0.8946, 1.3912, -0.4632, 1.4779, -0.945, -1.181, -1.0308, 1.2161, -0.9557, -0.3454]))]"
      ]
     },
     "execution_count": 170,
     "metadata": {},
     "output_type": "execute_result"
    }
   ],
   "source": [
    "final_result.take(5)"
   ]
  },
  {
   "cell_type": "code",
   "execution_count": 171,
   "metadata": {},
   "outputs": [
    {
     "name": "stdout",
     "output_type": "stream",
     "text": [
      "+-----+\n",
      "|label|\n",
      "+-----+\n",
      "|    0|\n",
      "|    1|\n",
      "+-----+\n",
      "\n"
     ]
    }
   ],
   "source": [
    "final_result.select(['label']).dropDuplicates().show()"
   ]
  },
  {
   "cell_type": "markdown",
   "metadata": {},
   "source": [
    "- This dataFrame has two columns, the label and the features. \n",
    "- The first column holds the labels of our training data. The labels represent the churn indicating if a customer has need churned or not. \n",
    "- The second column are the features. All of these features are lumped together into a single column. If you examine this vectorized data, you can see that each row in the Spark dataFrame is a row object with a label and features which are dense vectors."
   ]
  },
  {
   "cell_type": "markdown",
   "metadata": {},
   "source": [
    "# Modeling\n",
    "Split the full dataset into train, test, and validation sets. Test out several of the machine learning methods you learned. Evaluate the accuracy of the various models, tuning parameters as necessary. Determine your winning model based on test accuracy and report results on the validation set. Since the churned users are a fairly small subset, I suggest using F1 score as the metric to optimize."
   ]
  },
  {
   "cell_type": "code",
   "execution_count": 172,
   "metadata": {},
   "outputs": [],
   "source": [
    "def undersample(df): \n",
    "    '''\n",
    "    Implement undersample on dataset, return a balanced dataset.\n",
    "    '''    \n",
    "    # size of minority class(0)\n",
    "    minoritySize = df.where(df.label == '1').count()\n",
    "    \n",
    "    # two classes with the same size\n",
    "    df_minority = df.where(df.label == '1')\n",
    "    df_majority = df.where(df.label == '0').sample(1.0, seed=7).limit(minoritySize)\n",
    "    \n",
    "    # concatenate them together\n",
    "    result = df_minority.union(df_majority)\n",
    "    \n",
    "    #shuffle data\n",
    "    result = result.orderBy(rand())\n",
    "    return result"
   ]
  },
  {
   "cell_type": "code",
   "execution_count": 173,
   "metadata": {},
   "outputs": [],
   "source": [
    "balanced_data = undersample(final_result)"
   ]
  },
  {
   "cell_type": "code",
   "execution_count": 174,
   "metadata": {},
   "outputs": [],
   "source": [
    "check_balanced_df = balanced_data.toPandas()"
   ]
  },
  {
   "cell_type": "code",
   "execution_count": 175,
   "metadata": {},
   "outputs": [
    {
     "name": "stdout",
     "output_type": "stream",
     "text": [
      "+-----+-----+\n",
      "|label|count|\n",
      "+-----+-----+\n",
      "|    0|   38|\n",
      "|    1|   38|\n",
      "+-----+-----+\n",
      "\n"
     ]
    }
   ],
   "source": [
    "#check out\n",
    "balanced_data.groupby(balanced_data.label).count().show()"
   ]
  },
  {
   "cell_type": "code",
   "execution_count": 176,
   "metadata": {},
   "outputs": [],
   "source": [
    "train, test = balanced_data.randomSplit([0.7, 0.3], seed=7)"
   ]
  },
  {
   "cell_type": "code",
   "execution_count": 177,
   "metadata": {},
   "outputs": [
    {
     "data": {
      "text/plain": [
       "27"
      ]
     },
     "execution_count": 177,
     "metadata": {},
     "output_type": "execute_result"
    }
   ],
   "source": [
    "test.count()"
   ]
  },
  {
   "cell_type": "code",
   "execution_count": 178,
   "metadata": {},
   "outputs": [],
   "source": [
    "# Initialize four models\n",
    "clf_LR = LogisticRegression(maxIter=50)\n",
    "clf_DT = DecisionTreeClassifier(seed=7)\n",
    "clf_RF = RandomForestClassifier(seed=7)\n",
    "clf_SVM = LinearSVC()"
   ]
  },
  {
   "cell_type": "code",
   "execution_count": 179,
   "metadata": {},
   "outputs": [],
   "source": [
    "evaluator= MulticlassClassificationEvaluator(predictionCol=\"prediction\")"
   ]
  },
  {
   "cell_type": "code",
   "execution_count": 180,
   "metadata": {},
   "outputs": [
    {
     "name": "stdout",
     "output_type": "stream",
     "text": [
      "LogisticRegression is training...\n",
      "LogisticRegression is predicting...\n",
      "LogisticRegression is evaluating...\n",
      "Test F1-score:  0.6085858585858586\n",
      "DecisionTreeClassifier is training...\n",
      "DecisionTreeClassifier is predicting...\n",
      "DecisionTreeClassifier is evaluating...\n",
      "Test F1-score:  0.5198467432950191\n",
      "RandomForestClassifier is training...\n",
      "RandomForestClassifier is predicting...\n",
      "RandomForestClassifier is evaluating...\n",
      "Test F1-score:  0.46851851851851856\n",
      "LinearSVC is training...\n",
      "LinearSVC is predicting...\n",
      "LinearSVC is evaluating...\n",
      "Test F1-score:  0.702075702075702\n"
     ]
    }
   ],
   "source": [
    "\n",
    "# collect results on the learners\n",
    "all_results = {}\n",
    "for clf in [clf_LR, clf_DT, clf_RF, clf_SVM]:\n",
    "    model_results = {}\n",
    "    # get the classifier name\n",
    "    clf_name = clf.__class__.__name__\n",
    "    \n",
    "    \n",
    "    # fit the dataset\n",
    "    print(f'{clf_name} is training...')\n",
    "    start = time.time() \n",
    "    model = clf.fit(train)\n",
    "    end = time.time() \n",
    "    model_results['train_time'] = round(end-start,6)\n",
    "    \n",
    "    # predict\n",
    "    print(f'{clf_name} is predicting...')\n",
    "    start = time.time() \n",
    "    pred_test = model.transform(test)\n",
    "    end = time.time()\n",
    "    model_results['pred_time'] = round(end-start,6)\n",
    "    \n",
    "    #metrics\n",
    "    print(f'{clf_name} is evaluating...')    \n",
    "    model_results['f1_test'] = evaluator.evaluate(pred_test.select('label','prediction'),{evaluator.metricName: 'f1'})\n",
    "    print('Test F1-score: ',model_results['f1_test'])\n",
    "    all_results[clf_name] = model_results\n",
    "    \n",
    "all_results_df = pd.DataFrame(all_results)\n",
    "all_results_df.to_csv('baseline.csv')"
   ]
  },
  {
   "cell_type": "code",
   "execution_count": 181,
   "metadata": {},
   "outputs": [
    {
     "data": {
      "text/html": [
       "<div>\n",
       "<style scoped>\n",
       "    .dataframe tbody tr th:only-of-type {\n",
       "        vertical-align: middle;\n",
       "    }\n",
       "\n",
       "    .dataframe tbody tr th {\n",
       "        vertical-align: top;\n",
       "    }\n",
       "\n",
       "    .dataframe thead th {\n",
       "        text-align: right;\n",
       "    }\n",
       "</style>\n",
       "<table border=\"1\" class=\"dataframe\">\n",
       "  <thead>\n",
       "    <tr style=\"text-align: right;\">\n",
       "      <th></th>\n",
       "      <th>LogisticRegression</th>\n",
       "      <th>DecisionTreeClassifier</th>\n",
       "      <th>RandomForestClassifier</th>\n",
       "      <th>LinearSVC</th>\n",
       "    </tr>\n",
       "  </thead>\n",
       "  <tbody>\n",
       "    <tr>\n",
       "      <th>f1_test</th>\n",
       "      <td>0.608586</td>\n",
       "      <td>0.519847</td>\n",
       "      <td>0.468519</td>\n",
       "      <td>0.702076</td>\n",
       "    </tr>\n",
       "    <tr>\n",
       "      <th>pred_time</th>\n",
       "      <td>0.048402</td>\n",
       "      <td>0.121676</td>\n",
       "      <td>0.111370</td>\n",
       "      <td>0.075887</td>\n",
       "    </tr>\n",
       "    <tr>\n",
       "      <th>train_time</th>\n",
       "      <td>7.646525</td>\n",
       "      <td>2.210330</td>\n",
       "      <td>2.033081</td>\n",
       "      <td>32.162976</td>\n",
       "    </tr>\n",
       "  </tbody>\n",
       "</table>\n",
       "</div>"
      ],
      "text/plain": [
       "            LogisticRegression  DecisionTreeClassifier  \\\n",
       "f1_test     0.608586            0.519847                 \n",
       "pred_time   0.048402            0.121676                 \n",
       "train_time  7.646525            2.210330                 \n",
       "\n",
       "            RandomForestClassifier  LinearSVC  \n",
       "f1_test     0.468519                0.702076   \n",
       "pred_time   0.111370                0.075887   \n",
       "train_time  2.033081                32.162976  "
      ]
     },
     "execution_count": 181,
     "metadata": {},
     "output_type": "execute_result"
    }
   ],
   "source": [
    "all_results_df"
   ]
  },
  {
   "cell_type": "markdown",
   "metadata": {},
   "source": [
    "- LinearSVC model spent more training time, but it produced the highest f1 score 0.702.\n",
    "- LogisticRegression has a medium trainning time and f1 score, this can potentially be tunmed further for a better f1 score.\n",
    "- Let us shortlist LinearSVC and LogisticRegression as candidates for further tuning in the next section."
   ]
  },
  {
   "cell_type": "code",
   "execution_count": null,
   "metadata": {},
   "outputs": [],
   "source": []
  },
  {
   "cell_type": "code",
   "execution_count": 182,
   "metadata": {},
   "outputs": [],
   "source": [
    "paramGrid = ParamGridBuilder().\\\n",
    "            addGrid(clf_SVM.maxIter, [10, 100, 1000]).\\\n",
    "            addGrid(clf_SVM.regParam, [0.01,0.1,10.0,100.0]).\\\n",
    "            build()\n",
    "crossval = CrossValidator(estimator=clf_SVM,\n",
    "                      estimatorParamMaps=paramGrid,\n",
    "                      evaluator=MulticlassClassificationEvaluator(metricName=\"f1\"),\n",
    "                      numFolds=3)"
   ]
  },
  {
   "cell_type": "code",
   "execution_count": 183,
   "metadata": {},
   "outputs": [
    {
     "name": "stdout",
     "output_type": "stream",
     "text": [
      "Model tuning is done, spent 907.128336429596s.\n"
     ]
    }
   ],
   "source": [
    "start = time.time()\n",
    "cvModel_SVM = crossval.fit(train)\n",
    "end = time.time()\n",
    "print(f'Model tuning is done, spent {end-start}s.')"
   ]
  },
  {
   "cell_type": "code",
   "execution_count": 184,
   "metadata": {},
   "outputs": [
    {
     "data": {
      "text/plain": [
       "[0.5891580641580643,\n",
       " 0.602899877899878,\n",
       " 0.4481432734403872,\n",
       " 0.4481432734403872,\n",
       " 0.5829392829392828,\n",
       " 0.5559982501158972,\n",
       " 0.4481432734403872,\n",
       " 0.4481432734403872,\n",
       " 0.5829392829392828,\n",
       " 0.5559982501158972,\n",
       " 0.4481432734403872,\n",
       " 0.4481432734403872]"
      ]
     },
     "execution_count": 184,
     "metadata": {},
     "output_type": "execute_result"
    }
   ],
   "source": [
    "cvModel_SVM.avgMetrics"
   ]
  },
  {
   "cell_type": "code",
   "execution_count": null,
   "metadata": {},
   "outputs": [],
   "source": []
  },
  {
   "cell_type": "code",
   "execution_count": 185,
   "metadata": {},
   "outputs": [
    {
     "name": "stdout",
     "output_type": "stream",
     "text": [
      "Accuracy: 0.7037037037037037\n",
      "F-1 Score:0.7045177045177045\n"
     ]
    }
   ],
   "source": [
    "pred = cvModel_SVM.transform(test)\n",
    "\n",
    "print('Accuracy: {}'.format(evaluator.evaluate(pred.select('label','prediction'), {evaluator.metricName: \"accuracy\"})))\n",
    "print('F-1 Score:{}'.format(evaluator.evaluate(pred.select('label','prediction'), {evaluator.metricName: \"f1\"})))"
   ]
  },
  {
   "cell_type": "code",
   "execution_count": 186,
   "metadata": {},
   "outputs": [
    {
     "name": "stdout",
     "output_type": "stream",
     "text": [
      "baseline.csv\t     lr_model\t\t\t    Sparkify-zh.ipynb\r\n",
      "cvModel_dt1.model    mini_sparkify_event_data.json  spark-warehouse\r\n",
      "final_data_new.json  Sparkify.ipynb\t\t    svm_model\r\n"
     ]
    }
   ],
   "source": [
    "! ls"
   ]
  },
  {
   "cell_type": "code",
   "execution_count": 187,
   "metadata": {},
   "outputs": [],
   "source": [
    "! rm -rf svm_model"
   ]
  },
  {
   "cell_type": "code",
   "execution_count": 188,
   "metadata": {},
   "outputs": [],
   "source": [
    "cvModel_SVM.write().overwrite().save('svm_model')"
   ]
  },
  {
   "cell_type": "code",
   "execution_count": null,
   "metadata": {},
   "outputs": [],
   "source": []
  },
  {
   "cell_type": "markdown",
   "metadata": {},
   "source": [
    "### Logistic Regression"
   ]
  },
  {
   "cell_type": "code",
   "execution_count": 189,
   "metadata": {},
   "outputs": [],
   "source": [
    "paramGrid = ParamGridBuilder().\\\n",
    "            addGrid(clf_LR.elasticNetParam,[0.1, 0.5, 1]).\\\n",
    "            addGrid(clf_LR.regParam,[0.01, 0.05, 0.1]).\\\n",
    "            build()\n",
    "\n",
    "crossval = CrossValidator(estimator=clf_LR,\n",
    "                          estimatorParamMaps=paramGrid,\n",
    "                          evaluator=MulticlassClassificationEvaluator(metricName=\"f1\"),\n",
    "                          numFolds=3)"
   ]
  },
  {
   "cell_type": "code",
   "execution_count": 190,
   "metadata": {},
   "outputs": [
    {
     "name": "stdout",
     "output_type": "stream",
     "text": [
      "Model tuning is done, spent 154.32135653495789s.\n"
     ]
    }
   ],
   "source": [
    "start = time.time()\n",
    "cvModel_LR = crossval.fit(train)\n",
    "end = time.time()\n",
    "print(f'Model tuning is done, spent {end-start}s.')"
   ]
  },
  {
   "cell_type": "code",
   "execution_count": 191,
   "metadata": {},
   "outputs": [
    {
     "data": {
      "text/plain": [
       "[0.503918303918304,\n",
       " 0.5663434604611074,\n",
       " 0.5736263736263735,\n",
       " 0.5222764163940634,\n",
       " 0.5376401376401376,\n",
       " 0.5400104916695306,\n",
       " 0.5479853479853478,\n",
       " 0.5698667465257854,\n",
       " 0.5370333518502856]"
      ]
     },
     "execution_count": 191,
     "metadata": {},
     "output_type": "execute_result"
    }
   ],
   "source": [
    "cvModel_LR.avgMetrics"
   ]
  },
  {
   "cell_type": "code",
   "execution_count": 192,
   "metadata": {},
   "outputs": [
    {
     "name": "stdout",
     "output_type": "stream",
     "text": [
      "Accuracy: 0.7407407407407407\n",
      "F-1 Score:0.7407407407407408\n"
     ]
    }
   ],
   "source": [
    "pred = cvModel_LR.transform(test)\n",
    "\n",
    "print('Accuracy: {}'.format(evaluator.evaluate(pred.select('label','prediction'), {evaluator.metricName: \"accuracy\"})))\n",
    "print('F-1 Score:{}'.format(evaluator.evaluate(pred.select('label','prediction'), {evaluator.metricName: \"f1\"})))"
   ]
  },
  {
   "cell_type": "code",
   "execution_count": 193,
   "metadata": {},
   "outputs": [],
   "source": [
    "\n",
    "cvModel_LR.write().overwrite().save('lr_model')"
   ]
  },
  {
   "cell_type": "code",
   "execution_count": null,
   "metadata": {},
   "outputs": [],
   "source": []
  },
  {
   "cell_type": "markdown",
   "metadata": {},
   "source": [
    "### Stacking Predictions"
   ]
  },
  {
   "cell_type": "code",
   "execution_count": 194,
   "metadata": {},
   "outputs": [],
   "source": [
    "def melt_predictions(train_datasets=True):\n",
    "    '''\n",
    "    melt predictions together.\n",
    "    '''\n",
    "    if train_datasets:\n",
    "        dataset = train\n",
    "    else:\n",
    "        dataset = test\n",
    "    svm_pred = cvModel_SVM.transform(dataset)\n",
    "    lr_pred = cvModel_LR.transform(dataset)\n",
    "    \n",
    "    lr_frame = lr_pred.select(lr_pred.label,lr_pred.features,lr_pred.prediction.alias('lr_prediction'))\n",
    "    svm_frame = svm_pred.select(svm_pred.features,svm_pred.prediction.alias('svm_prediction'))\n",
    "    \n",
    "    melt_data = lr_frame.join(svm_frame,on='features')\n",
    "    \n",
    "    #VectorAssembler\n",
    "    vector = VectorAssembler(inputCols=['lr_prediction','svm_prediction'], outputCol='combine_features')\n",
    "    temp = vector.transform(melt_data)\n",
    "    stack_data = temp.select(temp.label, temp.combine_features.alias('features'))\n",
    "    \n",
    "    return stack_data"
   ]
  },
  {
   "cell_type": "code",
   "execution_count": 195,
   "metadata": {},
   "outputs": [],
   "source": [
    "stack_data_train = melt_predictions()"
   ]
  },
  {
   "cell_type": "code",
   "execution_count": 196,
   "metadata": {},
   "outputs": [],
   "source": [
    "stack_train,stack_test = stack_data_train.randomSplit([0.6,0.4],seed=7)"
   ]
  },
  {
   "cell_type": "code",
   "execution_count": 197,
   "metadata": {},
   "outputs": [],
   "source": [
    "paramGrid = ParamGridBuilder().\\\n",
    "            addGrid(clf_LR.elasticNetParam,[0.1, 0.5, 1]).\\\n",
    "            addGrid(clf_LR.regParam,[0.01, 0.05, 0.1]).\\\n",
    "            build()\n",
    "\n",
    "stack_crossval = CrossValidator(estimator=clf_LR,\n",
    "                          estimatorParamMaps=paramGrid,\n",
    "                          evaluator=MulticlassClassificationEvaluator(metricName=\"f1\"),\n",
    "                          numFolds=3)"
   ]
  },
  {
   "cell_type": "code",
   "execution_count": 198,
   "metadata": {},
   "outputs": [
    {
     "name": "stdout",
     "output_type": "stream",
     "text": [
      "Model tuning is done, spent 89.31944537162781s.\n"
     ]
    }
   ],
   "source": [
    "start = time.time()\n",
    "cvModel_stack = stack_crossval.fit(stack_train)\n",
    "end = time.time()\n",
    "print(f'Model tuning is done, spent {end-start}s.')"
   ]
  },
  {
   "cell_type": "code",
   "execution_count": 199,
   "metadata": {},
   "outputs": [
    {
     "name": "stdout",
     "output_type": "stream",
     "text": [
      "Accuracy: 0.6363636363636364\n",
      "F-1 Score:0.6363636363636365\n"
     ]
    }
   ],
   "source": [
    "#validation\n",
    "pred = cvModel_stack.transform(stack_test)\n",
    "\n",
    "print('Accuracy: {}'.format(evaluator.evaluate(pred.select('label','prediction'), {evaluator.metricName: \"accuracy\"})))\n",
    "print('F-1 Score:{}'.format(evaluator.evaluate(pred.select('label','prediction'), {evaluator.metricName: \"f1\"})))"
   ]
  },
  {
   "cell_type": "code",
   "execution_count": 200,
   "metadata": {},
   "outputs": [],
   "source": [
    "stack_data_test = melt_predictions(train_datasets=False)"
   ]
  },
  {
   "cell_type": "code",
   "execution_count": 201,
   "metadata": {},
   "outputs": [
    {
     "name": "stdout",
     "output_type": "stream",
     "text": [
      "Accuracy: 0.7037037037037037\n",
      "F-1 Score:0.7045177045177045\n"
     ]
    }
   ],
   "source": [
    "pred = cvModel_stack.transform(stack_data_test)\n",
    "\n",
    "print('Accuracy: {}'.format(evaluator.evaluate(pred.select('label','prediction'), {evaluator.metricName: \"accuracy\"})))\n",
    "print('F-1 Score:{}'.format(evaluator.evaluate(pred.select('label','prediction'), {evaluator.metricName: \"f1\"})))"
   ]
  },
  {
   "cell_type": "code",
   "execution_count": null,
   "metadata": {},
   "outputs": [],
   "source": []
  },
  {
   "cell_type": "code",
   "execution_count": null,
   "metadata": {},
   "outputs": [],
   "source": []
  },
  {
   "cell_type": "markdown",
   "metadata": {},
   "source": [
    "### Decision Tree Classifier"
   ]
  },
  {
   "cell_type": "markdown",
   "metadata": {},
   "source": [
    "-  When using decision trees for classification, you'll build up an ML-based classifier after the training fields, feed in the input features, and in response get whether that person is likely to churn or not. This is your output classification label.\n",
    "-  When you're constructing your decision tree model, you can choose one of two ways in which to measure the impurity of the node.\n",
    "- The objective of a classification decision tree that we build up is to minimize the Gini/Entropy impurity at each node\n",
    "- Gini impurity is found from rule violations in training data. The measure of Gini impurity is on the training data, not on predictions. \n",
    "- The one hyperparameter that decision trees use is the depth of the tree that it constructs. Shallower trees result in fewer decision variables."
   ]
  },
  {
   "cell_type": "markdown",
   "metadata": {},
   "source": [
    "#### Decision Tree Drawbacks\n",
    "- Decision trees are highly prone to overfitting, meaning that your model performs extremely well on training data, but does not perform well on test data perform very well on test data, or in the real world.\n",
    "- Small changes in data cause big changes in model. models which are very sensitive to the training data are said to be high variance models."
   ]
  },
  {
   "cell_type": "code",
   "execution_count": 202,
   "metadata": {},
   "outputs": [],
   "source": [
    "\n",
    "dt = DecisionTreeClassifier()\n",
    "paramGrid = ParamGridBuilder() \\\n",
    "    .addGrid(dt.impurity,['entropy', 'gini']) \\\n",
    "    .addGrid(dt.maxDepth,[2, 3, 4]) \\\n",
    "    .build()\n",
    "\n",
    "crossval_dt = CrossValidator(estimator=dt,\n",
    "                          estimatorParamMaps=paramGrid,\n",
    "                          evaluator=MulticlassClassificationEvaluator(),\n",
    "                          numFolds=2)\n",
    "\n",
    "cvModel_dt = crossval_dt.fit(train)"
   ]
  },
  {
   "cell_type": "code",
   "execution_count": 203,
   "metadata": {},
   "outputs": [],
   "source": [
    "cvModel_dt.write().overwrite().save('cvModel_dt1.model')"
   ]
  },
  {
   "cell_type": "code",
   "execution_count": 204,
   "metadata": {},
   "outputs": [
    {
     "data": {
      "text/plain": [
       "[0.48575317604355717,\n",
       " 0.5568799734748011,\n",
       " 0.5631826875935846,\n",
       " 0.48575317604355717,\n",
       " 0.5805372624773586,\n",
       " 0.5631826875935846]"
      ]
     },
     "execution_count": 204,
     "metadata": {},
     "output_type": "execute_result"
    }
   ],
   "source": [
    "cvModel_dt.avgMetrics"
   ]
  },
  {
   "cell_type": "code",
   "execution_count": 205,
   "metadata": {},
   "outputs": [
    {
     "name": "stdout",
     "output_type": "stream",
     "text": [
      "Accuracy: 0.4444444444444444\n",
      "F-1 Score:0.4413277232351567\n"
     ]
    }
   ],
   "source": [
    "pred = cvModel_dt.transform(test)\n",
    "\n",
    "print('Accuracy: {}'.format(evaluator.evaluate(pred.select('label','prediction'), {evaluator.metricName: \"accuracy\"})))\n",
    "print('F-1 Score:{}'.format(evaluator.evaluate(pred.select('label','prediction'), {evaluator.metricName: \"f1\"})))"
   ]
  },
  {
   "cell_type": "code",
   "execution_count": null,
   "metadata": {},
   "outputs": [],
   "source": []
  },
  {
   "cell_type": "code",
   "execution_count": 206,
   "metadata": {},
   "outputs": [],
   "source": [
    "gbt = GBTClassifier()\n",
    "\n",
    "paramGrid = ParamGridBuilder() \\\n",
    "    .addGrid(gbt.maxIter,[3, 10, 20]) \\\n",
    "    .addGrid(gbt.maxDepth,[2, 4, 6]) \\\n",
    "    .build()\n",
    "\n",
    "crossval_gbt = CrossValidator(estimator=gbt,\n",
    "                          estimatorParamMaps=paramGrid,\n",
    "                          evaluator=MulticlassClassificationEvaluator(),\n",
    "                          numFolds=3)\n",
    "\n",
    "cvModel_gbt = crossval_gbt.fit(train)"
   ]
  },
  {
   "cell_type": "code",
   "execution_count": 207,
   "metadata": {},
   "outputs": [],
   "source": [
    "cvModel_gbt.write().overwrite().save('cvModel_gbt.model')"
   ]
  },
  {
   "cell_type": "code",
   "execution_count": 208,
   "metadata": {},
   "outputs": [
    {
     "data": {
      "text/plain": [
       "[0.45706737706737705,\n",
       " 0.3947391923970199,\n",
       " 0.3947391923970199,\n",
       " 0.44446990917579154,\n",
       " 0.3947391923970199,\n",
       " 0.3947391923970199,\n",
       " 0.44446990917579154,\n",
       " 0.3947391923970199,\n",
       " 0.3947391923970199]"
      ]
     },
     "execution_count": 208,
     "metadata": {},
     "output_type": "execute_result"
    }
   ],
   "source": [
    "cvModel_gbt.avgMetrics"
   ]
  },
  {
   "cell_type": "code",
   "execution_count": 209,
   "metadata": {},
   "outputs": [
    {
     "name": "stdout",
     "output_type": "stream",
     "text": [
      "Accuracy: 0.48148148148148145\n",
      "F-1 Score:0.46851851851851856\n"
     ]
    }
   ],
   "source": [
    "pred = cvModel_gbt.transform(test)\n",
    "\n",
    "print('Accuracy: {}'.format(evaluator.evaluate(pred.select('label','prediction'), {evaluator.metricName: \"accuracy\"})))\n",
    "print('F-1 Score:{}'.format(evaluator.evaluate(pred.select('label','prediction'), {evaluator.metricName: \"f1\"})))"
   ]
  },
  {
   "cell_type": "code",
   "execution_count": null,
   "metadata": {},
   "outputs": [],
   "source": []
  },
  {
   "cell_type": "markdown",
   "metadata": {},
   "source": [
    "### Conclusion"
   ]
  },
  {
   "cell_type": "markdown",
   "metadata": {},
   "source": [
    "- Decision Tree and GBT Classifier did not do too well with an F-1 score and 0.44 and 0.46 respectively.\n",
    "- Random Forest also did not perform too well with an F1-score of 0.46\n",
    "- SVM performs well with an F-1 score of 0.70\n",
    "- Logistic Regression with an F-1 score of 0.74 is the Best Model for this data.\n",
    "\n",
    "Note:Given the limited computing resources we could not increase the k to a higher value and try further tuning."
   ]
  },
  {
   "cell_type": "markdown",
   "metadata": {},
   "source": [
    "## NOTES"
   ]
  },
  {
   "cell_type": "markdown",
   "metadata": {},
   "source": [
    "- Transformers are the algorithms that you use to convert one dataFrame to another. This conversion can take on many forms. \n",
    " - You might want to encode categorical values as numbers. \n",
    " - You might want to represent text in numeric form. All of these will use transformers. \n",
    " \n",
    "- Transformers are also used to convert dataFrames which contain your features to a resultant dataFrame which contain the predictions from your machine learning model. \n",
    "- Transformers can be used to change the features of the model in some manner, or also to carry out prediction. \n",
    "- You get predictions in Spark ML by calling the transform method on a transformer. \n",
    "\n",
    "\n",
    "- An estimator is an algorithm that fits on a dataFrame, looks at the data within a dataFrame, and produces at its output a transformer, another algorithm that is able to change the dataFrames in some manner. \n",
    "- An estimator learns from data and produces another algorithm which has the ability to change data based on what the estimator learned. \n",
    "- Machine learning algorithms in Spark ML are all estimators. \n",
    "- All estimators implement a fit method. This method is used to train on the input dataset in order to produce a transformer.\n",
    "- Fit is what starts training on the input dataset and produces a trained machine learning model, which is our transformer. "
   ]
  },
  {
   "cell_type": "markdown",
   "metadata": {},
   "source": [
    "-  In Spark ML, a trained model is a transformer which takes a dataFrame with features and produces a dataFrame with predictions attached.\n",
    "- A pipeline is basically a network with chain estimators and transformers together to form the machine learning workflow. These estimators and transformers are basically the series of operations that we want performed on data stored in dataFrames. "
   ]
  },
  {
   "cell_type": "markdown",
   "metadata": {},
   "source": [
    "- Spark offers four different kinds of libraries to perform feature engineering. Feature extractors, feature transformers, feature selectors, and locality sensitive hashing."
   ]
  },
  {
   "cell_type": "markdown",
   "metadata": {},
   "source": [
    "#### Feature Extractors"
   ]
  },
  {
   "cell_type": "markdown",
   "metadata": {},
   "source": [
    "- Feature extractors create features from raw data\n",
    "- he input features to any machine learning algorithm is required to be in numeric form, which means data in other forms, whether they are categorically variables or text, need to be converted to numbers. "
   ]
  },
  {
   "cell_type": "markdown",
   "metadata": {},
   "source": [
    "#### Feature transformers"
   ]
  },
  {
   "cell_type": "markdown",
   "metadata": {},
   "source": [
    "- Normalizer is a Transformer which transforms a dataset of Vector rows, normalizing each Vector to have unit norm. It takes parameter p, which specifies the p-norm used for normalization. (p=2 by default.) This normalization can help standardize your input data and improve the behavior of learning algorithms.\n",
    "- StandardScaler transforms a dataset of Vector rows, normalizing each feature to have unit standard deviation and/or zero mean. It takes parameters:\n",
    "    - withStd: True by default. Scales the data to unit standard deviation.\n",
    "    - withMean: False by default. Centers the data with mean before scaling. It will build a dense output, so take care when applying to sparse input.\n",
    "- VectorAssembler is a transformer that combines a given list of columns into a single vector column. It is useful for combining raw features and features generated by different feature transformers into a single feature vector, in order to train ML models like logistic regression and decision trees. VectorAssembler accepts the following input column types: all numeric types, boolean type, and vector type. In each row, the values of the input columns will be concatenated into a vector in the specified order.    "
   ]
  },
  {
   "cell_type": "markdown",
   "metadata": {},
   "source": [
    "#### Feature Selectors"
   ]
  },
  {
   "cell_type": "markdown",
   "metadata": {},
   "source": [
    "#### Locality Sensitive Hashing"
   ]
  },
  {
   "cell_type": "markdown",
   "metadata": {},
   "source": [
    "#### Metrics\n",
    "- accuracy as a metric to evaluate classifiers compares the predicted labels and the actual labels and sees how many the classifier got correct. A model which has a high accuracy is typically a good model\n",
    "- In cases where the dataset is highly skewed, accuracy as an evaluative measure for classifiers is a very poor metric. In skewed datasets some labels may be much more common/rare than others.\n",
    "- The confusion matrix plots the predicted labels from your machine learning model against the actual labels on the data to see how your classifier performs. Using this confusion matrix, you can evaluate several different metrics for your classifier. \n",
    "- Another important metric that we can use to evaluate classifiers is the precision. \n",
    "- There is another metric that you can use to evaluate classifiers, and that is recall. \n",
    "-  You can use something called the F1 score, which favors an even balance between precision and recall. The F1 score is calculated as the harmonic mean of precision recall. \n",
    "- If you want to go beyond accuracy, using the F1 score is a good measure to evaluate your classifier."
   ]
  },
  {
   "cell_type": "markdown",
   "metadata": {},
   "source": [
    "# Final Steps\n",
    "Clean up your code, adding comments and renaming variables to make the code easier to read and maintain. Refer to the Spark Project Overview page and Data Scientist Capstone Project Rubric to make sure you are including all components of the capstone project and meet all expectations. Remember, this includes thorough documentation in a README file in a Github repository, as well as a web app or blog post."
   ]
  },
  {
   "cell_type": "code",
   "execution_count": null,
   "metadata": {},
   "outputs": [],
   "source": []
  }
 ],
 "metadata": {
  "kernelspec": {
   "display_name": "Python 3",
   "language": "python",
   "name": "python3"
  },
  "language_info": {
   "codemirror_mode": {
    "name": "ipython",
    "version": 3
   },
   "file_extension": ".py",
   "mimetype": "text/x-python",
   "name": "python",
   "nbconvert_exporter": "python",
   "pygments_lexer": "ipython3",
   "version": "3.6.3"
  }
 },
 "nbformat": 4,
 "nbformat_minor": 2
}
